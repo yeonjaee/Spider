{
 "cells": [
  {
   "cell_type": "code",
   "execution_count": 1,
   "metadata": {},
   "outputs": [
    {
     "name": "stderr",
     "output_type": "stream",
     "text": [
      "C:\\Users\\yj\\AppData\\Local\\Temp/ipykernel_2376/2295078348.py:3: DeprecationWarning: executable_path has been deprecated, please pass in a Service object\n",
      "  driver = webdriver.Chrome('C:/Users/yj/Desktop/datasalon/chromedriver.exe')\n"
     ]
    }
   ],
   "source": [
    "# 예제 7-1 selenium으로 다나와 검색 결과 URL에 접속\n",
    "from selenium import webdriver\n",
    "driver = webdriver.Chrome('C:/Users/yj/Desktop/datasalon/chromedriver.exe')\n",
    "url = 'https://search.shopping.naver.com/search/all?query=%EB%85%B8%ED%8A%B8%EB%B6%81&bt=-1&frm=NVSCDIG'\n",
    "driver.get(url)"
   ]
  },
  {
   "cell_type": "code",
   "execution_count": 3,
   "metadata": {},
   "outputs": [],
   "source": [
    "from bs4 import BeautifulSoup\n",
    "\n",
    "html = driver.page_source\n",
    "soup = BeautifulSoup(html, 'html.parser')"
   ]
  },
  {
   "cell_type": "code",
   "execution_count": 4,
   "metadata": {},
   "outputs": [
    {
     "data": {
      "text/plain": [
       "5"
      ]
     },
     "execution_count": 4,
     "metadata": {},
     "output_type": "execute_result"
    }
   ],
   "source": [
    "notebooks = soup.select('li.basicList_item__2XT81 > div.basicList_inner__eY_mq > div.basicList_info_area__17Xyo')\n",
    "len(notebooks)"
   ]
  },
  {
   "cell_type": "code",
   "execution_count": 5,
   "metadata": {},
   "outputs": [
    {
     "name": "stdout",
     "output_type": "stream",
     "text": [
      "LG전자 LG그램 17Z95P-GA76K\n"
     ]
    }
   ],
   "source": [
    "name = soup.select('div.basicList_title__3P9Q7> a')[0].text.strip()\n",
    "print(name)"
   ]
  },
  {
   "cell_type": "code",
   "execution_count": 6,
   "metadata": {},
   "outputs": [
    {
     "data": {
      "text/plain": [
       "'2329000'"
      ]
     },
     "execution_count": 6,
     "metadata": {},
     "output_type": "execute_result"
    }
   ],
   "source": [
    "price = soup.select('strong.basicList_price__2r23_ > span > span.price_num__2WUXn')[0].text.strip()\n",
    "## 최저~원으로 뜨는거 정확하게 ~ 부분만 추출\n",
    "price.split('원')[0].replace(',','')"
   ]
  },
  {
   "cell_type": "code",
   "execution_count": 36,
   "metadata": {},
   "outputs": [
    {
     "data": {
      "text/plain": [
       "'화면크기 : 39.62cm(15.6인치)|무게 : 1.81kg|종류 : 코어i5 11세대|운영체제 : 리눅스|CPU : 코어i5-1135G7|칩셋 제조사 : 인텔|코어종류 : 쿼드코어|코드명 : 타이거레이크|CPU속도 : 2.4GHz|터보부스트 : 4.2GHz|램 : 8GB|메모리 타입 : DDR4|인텔 GPU : Iris Xe Graphics|그래픽 메모리 : 시스템 메모리 공유|해상도 : 1920x1080(FHD)|패널 : PLS패널(광시야각)|화면비율 : 16대9|베젤 : 슬림베젤|무선랜 : 802.11 ax(Wi-Fi6)|블루투스 : 블루투스5.0|유선랜 : 유선랜(기가비트)|영상출력 : HDMI|단자 : USB Type C, USB3.0, USB2.0|카드 슬롯 : MicroSD카드|부가기능 : 웹캠|SSD : 256GB|SSD 인터페이스 : NVMe|배터리용량 : 43Wh|충전단자 : DC|웹카메라 : 전면|스피커 : 스테레오스피커|품목 : 노트북|두께 : 1.88cm|조명 : LED백라이트|입력장치 : 숫자키패드|보안기능 : TPM'"
      ]
     },
     "execution_count": 36,
     "metadata": {},
     "output_type": "execute_result"
    }
   ],
   "source": [
    "spec = soup.select('div.basicList_detail_box__3ta3h')[0].text.strip()\n",
    "spec"
   ]
  },
  {
   "cell_type": "code",
   "execution_count": null,
   "metadata": {},
   "outputs": [],
   "source": [
    "notebook_list = []\n",
    "\n",
    "for i in notebooks:\n",
    "    try:\n",
    "        ## 상품명 가져오기\n",
    "        name = i.select('div.basicList_title__3P9Q7> a')[0].text.strip()\n",
    "        ## 가격\n",
    "        price = i.select('strong.basicList_price__2r23_ > span > span.price_num__2WUXn')[0].text.strip().split('원')[0].replace(',','')\n",
    "        ## 스펙\n",
    "        spec = i.select('div.basicList_detail_box__3ta3h')[0].text.strip()\n",
    "        ## append\n",
    "        notebook_list.append([name,price,spec])\n",
    "    except:\n",
    "        pass\n",
    "\n",
    "print(len(notebook_list))\n",
    "notebook_list"
   ]
  },
  {
   "cell_type": "code",
   "execution_count": 38,
   "metadata": {},
   "outputs": [],
   "source": [
    "## 위 코드 함수\n",
    "\n",
    "def get_notebooks(ntb):\n",
    "    notebook_list = []\n",
    "\n",
    "    for i in notebooks:\n",
    "        try:\n",
    "            ## 상품명 가져오기\n",
    "            name = i.select('div.basicList_title__3P9Q7> a')[0].text.strip()\n",
    "            ## 가격\n",
    "            price = i.select('strong.basicList_price__2r23_ > span > span.price_num__2WUXn')[0].text.strip().split('원')[0].replace(',','')\n",
    "            ## 스펙\n",
    "            spec = i.select('div.basicList_detail_box__3ta3h')[0].text.strip()\n",
    "            ## append\n",
    "            notebook_list.append([name,price,spec])\n",
    "        except:\n",
    "            pass\n",
    "    return notebook_list"
   ]
  },
  {
   "cell_type": "code",
   "execution_count": 41,
   "metadata": {},
   "outputs": [
    {
     "data": {
      "text/plain": [
       "46"
      ]
     },
     "execution_count": 41,
     "metadata": {},
     "output_type": "execute_result"
    }
   ],
   "source": [
    "# 함수 정상 작동\n",
    "ntb = soup.select('li.basicList_item__2XT81 > div.basicList_inner__eY_mq > div.basicList_info_area__17Xyo')\n",
    "len(get_notebooks(ntb))"
   ]
  },
  {
   "cell_type": "markdown",
   "metadata": {},
   "source": [
    "검색 결과 페이지 url 분석\n",
    "\n",
    "1페이지\n",
    "https://search.shopping.naver.com/search/all?frm=NVSCDIG&origQuery=%EB%85%B8%ED%8A%B8%EB%B6%81&pagingIndex=1&pagingSize=40&productSet=total&query=%EB%85%B8%ED%8A%B8%EB%B6%81&sort=rel&timestamp=&viewType=list\n",
    "\n",
    "2페이지\n",
    "https://search.shopping.naver.com/search/all?frm=NVSCDIG&origQuery=%EB%85%B8%ED%8A%B8%EB%B6%81&pagingIndex=2&pagingSize=40&productSet=total&query=%EB%85%B8%ED%8A%B8%EB%B6%81&sort=rel&timestamp=&viewType=list\n",
    "\n",
    "3페이지\n",
    "https://search.shopping.naver.com/search/all?frm=NVSCDIG&origQuery=%EB%85%B8%ED%8A%B8%EB%B6%81&pagingIndex=2&pagingSize=40&productSet=total&query=%EB%85%B8%ED%8A%B8%EB%B6%81&sort=rel&timestamp=&viewType=list\n",
    "\n",
    "다른 검색어 검색(강아지사료)\n",
    "https://search.shopping.naver.com/search/all?frm=NVSHATC&origQuery=%EA%B0%95%EC%95%84%EC%A7%80%EC%82%AC%EB%A3%8C&pagingIndex=1&pagingSize=40&productSet=total&query=%EA%B0%95%EC%95%84%EC%A7%80%EC%82%AC%EB%A3%8C&sort=rel&timestamp=&viewType=list\n",
    "\n",
    "주소 비교해보면 origiQuery, pagingIndex, query 부분이 달라지는 것을 볼 수 있음."
   ]
  },
  {
   "cell_type": "code",
   "execution_count": 47,
   "metadata": {},
   "outputs": [
    {
     "name": "stdout",
     "output_type": "stream",
     "text": [
      "https://search.shopping.naver.com/search/all?frm=NVSCDIG&origQuery=강아지사료&pagingIndex=1&pagingSize=40&productSet=total&query=강아지사료&sort=rel&timestamp=&viewType=list\n"
     ]
    }
   ],
   "source": [
    "def get_search_page_url(keyword,page):\n",
    "    return 'https://search.shopping.naver.com/search/all?frm=NVSCDIG&origQuery={}&pagingIndex={}&pagingSize=40&productSet=total&query={}&sort=rel&timestamp=&viewType=list'.format(keyword,page,keyword)\n",
    "\n",
    "# keyword = '강아지사료'\n",
    "# page=1\n",
    "url = get_search_page_url('강아지사료',1)\n",
    "print(url)\n"
   ]
  },
  {
   "cell_type": "code",
   "execution_count": 48,
   "metadata": {},
   "outputs": [
    {
     "name": "stderr",
     "output_type": "stream",
     "text": [
      "C:\\Users\\yj\\AppData\\Local\\Temp/ipykernel_11492/1237623251.py:4: TqdmDeprecationWarning: This function will be removed in tqdm==5.0.0\n",
      "Please use `tqdm.notebook.tqdm` instead of `tqdm.tqdm_notebook`\n",
      "  for page in tqdm_notebook(range(1,total_page+1)):\n"
     ]
    },
    {
     "data": {
      "application/vnd.jupyter.widget-view+json": {
       "model_id": "2b6e6fc448984d07929e5c0481ecfb78",
       "version_major": 2,
       "version_minor": 0
      },
      "text/plain": [
       "  0%|          | 0/3 [00:00<?, ?it/s]"
      ]
     },
     "metadata": {},
     "output_type": "display_data"
    }
   ],
   "source": [
    "import time\n",
    "from tqdm import tqdm_notebook\n",
    "total_page = 3\n",
    "for page in tqdm_notebook(range(1,total_page+1)):\n",
    "    time.sleep(5)\n"
   ]
  },
  {
   "cell_type": "code",
   "execution_count": 54,
   "metadata": {},
   "outputs": [
    {
     "name": "stderr",
     "output_type": "stream",
     "text": [
      "C:\\Users\\yj\\AppData\\Local\\Temp/ipykernel_11492/545302557.py:8: TqdmDeprecationWarning: This function will be removed in tqdm==5.0.0\n",
      "Please use `tqdm.notebook.tqdm` instead of `tqdm.tqdm_notebook`\n",
      "  for page in tqdm_notebook(range(1,total_page+1)):\n"
     ]
    },
    {
     "data": {
      "application/vnd.jupyter.widget-view+json": {
       "model_id": "159a5e9d82ca4afdb084bc4b83b9a5cf",
       "version_major": 2,
       "version_minor": 0
      },
      "text/plain": [
       "  0%|          | 0/10 [00:00<?, ?it/s]"
      ]
     },
     "metadata": {},
     "output_type": "display_data"
    }
   ],
   "source": [
    "### 여러 페이지 데이터 수집\n",
    "\n",
    "keyword = '노트북'\n",
    "total_page = 10\n",
    "notebooks_totaldata = []\n",
    "\n",
    "# 진행 정도를 표현하는 tqdm을 적용\n",
    "for page in tqdm_notebook(range(1,total_page+1)):\n",
    "    # 1. 검색 페이지 이동\n",
    "    url = get_search_page_url('노트북',page)\n",
    "    driver.get(url)\n",
    "\n",
    "    # 2. 페이지가 로딩 완료되기 위한 시간으로 5초를 할당\n",
    "    time.sleep(5)\n",
    "\n",
    "    # 3. 현재 페이지의 html 정보 가져오기\n",
    "    html = driver.page_source\n",
    "    soup = BeautifulSoup(html, 'html.parser')\n",
    "\n",
    "    # 4. 상품 정보 추출\n",
    "    notebooks = soup.select('li.basicList_item__2XT81 > div.basicList_inner__eY_mq > div.basicList_info_area__17Xyo')\n",
    "    notebook_list = get_notebooks(notebooks)\n",
    "\n",
    "    ## 5. 추출 데이터 저장\n",
    "    notebooks_totaldata = notebooks_totaldata + notebook_list"
   ]
  },
  {
   "cell_type": "code",
   "execution_count": 2,
   "metadata": {},
   "outputs": [
    {
     "ename": "NameError",
     "evalue": "name 'notebooks_totaldata' is not defined",
     "output_type": "error",
     "traceback": [
      "\u001b[1;31m---------------------------------------------------------------------------\u001b[0m",
      "\u001b[1;31mNameError\u001b[0m                                 Traceback (most recent call last)",
      "\u001b[1;32m~\\AppData\\Local\\Temp/ipykernel_2376/1930176383.py\u001b[0m in \u001b[0;36m<module>\u001b[1;34m\u001b[0m\n\u001b[0;32m      1\u001b[0m \u001b[1;31m## 엑셀파일로 저장\u001b[0m\u001b[1;33m\u001b[0m\u001b[1;33m\u001b[0m\u001b[0m\n\u001b[0;32m      2\u001b[0m \u001b[1;32mimport\u001b[0m \u001b[0mpandas\u001b[0m \u001b[1;32mas\u001b[0m \u001b[0mpd\u001b[0m\u001b[1;33m\u001b[0m\u001b[1;33m\u001b[0m\u001b[0m\n\u001b[1;32m----> 3\u001b[1;33m \u001b[0mdata\u001b[0m \u001b[1;33m=\u001b[0m \u001b[0mpd\u001b[0m\u001b[1;33m.\u001b[0m\u001b[0mDataFrame\u001b[0m\u001b[1;33m(\u001b[0m\u001b[0mnotebooks_totaldata\u001b[0m\u001b[1;33m)\u001b[0m\u001b[1;33m\u001b[0m\u001b[1;33m\u001b[0m\u001b[0m\n\u001b[0m\u001b[0;32m      4\u001b[0m \u001b[0mdata\u001b[0m\u001b[1;33m.\u001b[0m\u001b[0mto_excel\u001b[0m\u001b[1;33m(\u001b[0m\u001b[1;34m'C:/Users/yj/Desktop/notebooks.xlsx'\u001b[0m\u001b[1;33m,\u001b[0m \u001b[0mindex\u001b[0m \u001b[1;33m=\u001b[0m \u001b[1;32mFalse\u001b[0m\u001b[1;33m)\u001b[0m\u001b[1;33m\u001b[0m\u001b[1;33m\u001b[0m\u001b[0m\n\u001b[0;32m      5\u001b[0m \u001b[0mdata\u001b[0m\u001b[1;33m.\u001b[0m\u001b[0mcolumns\u001b[0m \u001b[1;33m=\u001b[0m \u001b[1;33m(\u001b[0m\u001b[1;33m[\u001b[0m\u001b[1;34m'상품명'\u001b[0m\u001b[1;33m,\u001b[0m\u001b[1;34m'가격'\u001b[0m\u001b[1;33m,\u001b[0m\u001b[1;34m'스펙'\u001b[0m\u001b[1;33m]\u001b[0m\u001b[1;33m)\u001b[0m\u001b[1;33m\u001b[0m\u001b[1;33m\u001b[0m\u001b[0m\n",
      "\u001b[1;31mNameError\u001b[0m: name 'notebooks_totaldata' is not defined"
     ]
    }
   ],
   "source": [
    "## 엑셀파일로 저장\n",
    "import pandas as pd\n",
    "data = pd.DataFrame(notebooks_totaldata)\n",
    "data.to_excel('C:/Users/yj/Desktop/notebooks.xlsx', index = False)\n",
    "data.columns = (['상품명','가격','스펙'])\n",
    "data.head()"
   ]
  },
  {
   "cell_type": "code",
   "execution_count": null,
   "metadata": {},
   "outputs": [],
   "source": [
    "company_list = []\n",
    "notebook_list = []\n",
    "for i in data['상품명']:\n",
    "    company_list.append(i.split(' ')[0])\n",
    "    notebook_list.append(i.split(' ')[1])\n",
    "\n",
    "company_list"
   ]
  },
  {
   "cell_type": "code",
   "execution_count": 62,
   "metadata": {},
   "outputs": [
    {
     "data": {
      "text/plain": [
       "'화면크기 : 35.81cm(14.1인치)|무게 : 1.3kg|종류 : 셀러론|운영체제 : 윈도우10 홈|CPU : 셀러론-N4020|칩셋 제조사 : 인텔|코어종류 : 듀얼코어|코드명 : 제미니레이크|CPU속도 : 1.1GHz|터보부스트 : 2.8GHz|램 : 4GB|메모리 타입 : DDR4L|인텔 GPU : UHD600|그래픽 메모리 : 시스템 메모리 공유|해상도 : 1920x1080(FHD)|패널 : IPS패널(광시야각)|화면비율 : 16대9|베젤 : 슬림베젤|특징 : 가벼운노트북|bit유형 : 64|무선랜 : 802.11 ac(Wi-Fi5)|블루투스 : 블루투스5.0|영상출력 : microHDMI|단자 : USB3.0, USB2.0|부가기능 : 웹캠, 팬리스(무소음)|SSD : 128GB|SSD 인터페이스 : M.2|ODD : 광Drive없음|배터리 타입 : 리튬폴리머|사용시간 : 최대11시간|저전력 : O|무상AS : 1년|품목 : 노트북|두께 : 1.5cm|색상 : 화이트'"
      ]
     },
     "execution_count": 62,
     "metadata": {},
     "output_type": "execute_result"
    }
   ],
   "source": [
    "spec"
   ]
  },
  {
   "cell_type": "code",
   "execution_count": 63,
   "metadata": {},
   "outputs": [
    {
     "name": "stdout",
     "output_type": "stream",
     "text": [
      "['화면크기 : 39.62cm(15.6인치)', '무게 : 1.81kg', '종류 : 코어i5 11세대', '운영체제 : 리눅스', 'CPU : 코어i5-1135G7', '칩셋 제조사 : 인텔', '코어종류 : 쿼드코어', '코드명 : 타이거레이크', 'CPU속도 : 2.4GHz', '터보부스트 : 4.2GHz', '램 : 8GB', '메모리 타입 : DDR4', '인텔 GPU : Iris Xe Graphics', '그래픽 메모리 : 시스템 메모리 공유', '해상도 : 1920x1080(FHD)', '패널 : PLS패널(광시야각)', '화면비율 : 16대9', '베젤 : 슬림베젤', '무선랜 : 802.11 ax(Wi-Fi6)', '블루투스 : 블루투스5.0', '유선랜 : 유선랜(기가비트)', '영상출력 : HDMI', '단자 : USB Type C, USB3.0, USB2.0', '카드 슬롯 : MicroSD카드', '부가기능 : 웹캠', 'SSD : 256GB', 'SSD 인터페이스 : NVMe', '배터리용량 : 43Wh', '충전단자 : DC', '웹카메라 : 전면', '스피커 : 스테레오스피커', '품목 : 노트북', '두께 : 1.88cm', '조명 : LED백라이트', '입력장치 : 숫자키패드', '보안기능 : TPM']\n"
     ]
    }
   ],
   "source": [
    "# 스펙 분리\n",
    "spec_list = data['스펙'][0].split('|')\n",
    "print(spec_list)"
   ]
  },
  {
   "cell_type": "code",
   "execution_count": 75,
   "metadata": {},
   "outputs": [],
   "source": [
    "## 하면크기, 무게, cpu 추출\n",
    "\n",
    "for i in spec_list:\n",
    "    if '화면크기' in i:\n",
    "        screen_size = i\n",
    "    elif '무게' in i:\n",
    "        weight = i\n",
    "    elif 'CPU ' in i:\n",
    "        cpu = i"
   ]
  },
  {
   "cell_type": "code",
   "execution_count": null,
   "metadata": {},
   "outputs": [],
   "source": []
  }
 ],
 "metadata": {
  "interpreter": {
   "hash": "b3ba2566441a7c06988d0923437866b63cedc61552a5af99d1f4fb67d367b25f"
  },
  "kernelspec": {
   "display_name": "Python 3.9.7 64-bit ('base': conda)",
   "language": "python",
   "name": "python3"
  },
  "language_info": {
   "codemirror_mode": {
    "name": "ipython",
    "version": 3
   },
   "file_extension": ".py",
   "mimetype": "text/x-python",
   "name": "python",
   "nbconvert_exporter": "python",
   "pygments_lexer": "ipython3",
   "version": "3.9.7"
  },
  "orig_nbformat": 4
 },
 "nbformat": 4,
 "nbformat_minor": 2
}
