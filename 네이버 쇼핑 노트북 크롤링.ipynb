{
 "cells": [
  {
   "cell_type": "markdown",
   "metadata": {},
   "source": [
    "네이버 쇼핑 페이지에서 [전체]-[네이버 랭킹순] 정렬만을 적용한 후 데이터를 수집한다.\n",
    "---"
   ]
  },
  {
   "cell_type": "markdown",
   "metadata": {},
   "source": [
    "selenium, webdriver 임포트 및 해당 페이지 주소 가져오기"
   ]
  },
  {
   "cell_type": "code",
   "execution_count": 1,
   "metadata": {},
   "outputs": [
    {
     "name": "stderr",
     "output_type": "stream",
     "text": [
      "C:\\Users\\yj\\AppData\\Local\\Temp/ipykernel_6168/1580012337.py:2: DeprecationWarning: executable_path has been deprecated, please pass in a Service object\n",
      "  driver = webdriver.Chrome('C:/Users/yj/Desktop/datasalon/chromedriver.exe')\n"
     ]
    }
   ],
   "source": [
    "from selenium import webdriver\n",
    "driver = webdriver.Chrome('C:/Users/yj/Desktop/datasalon/chromedriver.exe')\n",
    "url = 'https://search.shopping.naver.com/search/all?query=%EB%85%B8%ED%8A%B8%EB%B6%81&bt=-1&frm=NVSCDIG'\n",
    "driver.get(url)"
   ]
  },
  {
   "cell_type": "code",
   "execution_count": 5,
   "metadata": {},
   "outputs": [],
   "source": [
    "from bs4 import BeautifulSoup\n",
    "\n",
    "html = driver.page_source\n",
    "soup = BeautifulSoup(html, 'html.parser')"
   ]
  },
  {
   "cell_type": "markdown",
   "metadata": {},
   "source": [
    "#### 해당 페이지는 반응형 웹(Responsive Web)으로 구현되어 있어, 스크롤을 내리면 어느 수준까지 창이 늘어나고 정보가 추가된다. 따라서 모든 정보를 노출시킨 다음에 진행했다."
   ]
  },
  {
   "cell_type": "code",
   "execution_count": 6,
   "metadata": {},
   "outputs": [
    {
     "data": {
      "text/plain": [
       "46"
      ]
     },
     "execution_count": 6,
     "metadata": {},
     "output_type": "execute_result"
    }
   ],
   "source": [
    "notebooks = soup.select('li.basicList_item__2XT81 > div.basicList_inner__eY_mq > div.basicList_info_area__17Xyo')\n",
    "len(notebooks)"
   ]
  },
  {
   "cell_type": "code",
   "execution_count": 7,
   "metadata": {},
   "outputs": [
    {
     "name": "stdout",
     "output_type": "stream",
     "text": [
      "삼성전자 갤럭시북 프로 NT950XDY-A51A\n"
     ]
    }
   ],
   "source": [
    "name = soup.select('div.basicList_title__3P9Q7> a')[0].text.strip()\n",
    "print(name)"
   ]
  },
  {
   "cell_type": "code",
   "execution_count": 8,
   "metadata": {},
   "outputs": [
    {
     "data": {
      "text/plain": [
       "'1349000'"
      ]
     },
     "execution_count": 8,
     "metadata": {},
     "output_type": "execute_result"
    }
   ],
   "source": [
    "price = soup.select('strong.basicList_price__2r23_ > span > span.price_num__2WUXn')[0].text.strip()\n",
    "## 최저~원으로 뜨는거 정확하게 ~ 부분만 추출\n",
    "price.split('원')[0].replace(',','')"
   ]
  },
  {
   "cell_type": "code",
   "execution_count": 9,
   "metadata": {},
   "outputs": [
    {
     "data": {
      "text/plain": [
       "'화면크기 : 39.62cm(15.6인치)|무게 : 1.05kg|종류 : 코어i5 11세대|운영체제 : 리눅스|CPU : 코어i5-1135G7|칩셋 제조사 : 인텔|코어종류 : 쿼드코어|코드명 : 타이거레이크|CPU속도 : 2.4GHz|터보부스트 : 4.2GHz|램 : 16GB|메모리 타입 : LPDDR4x|인텔 GPU : Iris Xe Graphics|그래픽 메모리 : 시스템 메모리 공유|해상도 : 1920x1080(FHD)|패널 : AMOLED패널|무선랜 : 802.11 ax(Wi-Fi6)|블루투스 : 블루투스5.1|영상출력 : HDMI, 썬더볼트4|단자 : USB Type C|카드 슬롯 : MicroSD카드|부가기능 : 키보드라이트, 웹캠, 고속충전, MIL-STD|SSD : 256GB|SSD 인터페이스 : NVMe|배터리용량 : 68Wh|사용시간 : 최대20시간|웹카메라 : 전면|스피커 : AKG스테레오스피커|사운드 : 돌비Atoms오디오|품목 : 노트북|두께 : 1.17cm|입력장치 : 숫자키패드|보안기능 : 지문인식, TPM'"
      ]
     },
     "execution_count": 9,
     "metadata": {},
     "output_type": "execute_result"
    }
   ],
   "source": [
    "spec = soup.select('div.basicList_detail_box__3ta3h')[0].text.strip()\n",
    "spec"
   ]
  },
  {
   "cell_type": "code",
   "execution_count": 10,
   "metadata": {},
   "outputs": [
    {
     "name": "stdout",
     "output_type": "stream",
     "text": [
      "46\n"
     ]
    },
    {
     "data": {
      "text/plain": [
       "[['삼성전자 갤럭시북 프로 NT950XDY-A51A',\n",
       "  '1349000',\n",
       "  '화면크기 : 39.62cm(15.6인치)|무게 : 1.05kg|종류 : 코어i5 11세대|운영체제 : 리눅스|CPU : 코어i5-1135G7|칩셋 제조사 : 인텔|코어종류 : 쿼드코어|코드명 : 타이거레이크|CPU속도 : 2.4GHz|터보부스트 : 4.2GHz|램 : 16GB|메모리 타입 : LPDDR4x|인텔 GPU : Iris Xe Graphics|그래픽 메모리 : 시스템 메모리 공유|해상도 : 1920x1080(FHD)|패널 : AMOLED패널|무선랜 : 802.11 ax(Wi-Fi6)|블루투스 : 블루투스5.1|영상출력 : HDMI, 썬더볼트4|단자 : USB Type C|카드 슬롯 : MicroSD카드|부가기능 : 키보드라이트, 웹캠, 고속충전, MIL-STD|SSD : 256GB|SSD 인터페이스 : NVMe|배터리용량 : 68Wh|사용시간 : 최대20시간|웹카메라 : 전면|스피커 : AKG스테레오스피커|사운드 : 돌비Atoms오디오|품목 : 노트북|두께 : 1.17cm|입력장치 : 숫자키패드|보안기능 : 지문인식, TPM'],\n",
       " ['LG전자 LG그램 17Z95P-GA76K',\n",
       "  '2329000',\n",
       "  '화면크기 : 43.1cm(17인치)|무게 : 1.35kg|종류 : 코어i7 11세대|운영체제 : 윈도우11 홈|CPU : 코어i7-1195G7|칩셋 제조사 : 인텔|코어종류 : 쿼드코어|코드명 : 타이거레이크|CPU속도 : 2.9GHz|터보부스트 : 5.0GHz|램 : 16GB|메모리 타입 : LPDDR4x|인텔 GPU : Iris Xe Graphics|그래픽 메모리 : 시스템 메모리 공유|해상도 : 2560x1600(WQXGA)|패널 : IPS패널(광시야각)|화면비율 : 16대10|베젤 : 슬림베젤|디스플레이 종류 : LCD|bit유형 : 64|무선랜 : 802.11 ax(Wi-Fi6)|블루투스 : 지원|유선랜 : 유선랜(기가비트)|영상출력 : HDMI, 썬더볼트4|단자 : USB Type C, USB3.1, USB4|카드 슬롯 : UFS|부가기능 : 키보드라이트, 웹캠, MIL-STD, USB-PD, Evo 플랫폼 인증|SSD : 512GB|SSD 인터페이스 : M.2|배터리 타입 : 리튬이온|배터리용량 : 80Wh|웹카메라 : 전면|스피커 : 스테레오스피커|사운드 : DTS: X Ultra|품목 : 노트북|두께 : 1.78cm|DCI-P3 : 99%|보안기능 : 지문인식'],\n",
       " ['삼성전자 노트북 플러스2 NT550XDZ-AD5A',\n",
       "  '698000',\n",
       "  '화면크기 : 39.62cm(15.6인치)|무게 : 1.81kg|종류 : 코어i5 11세대|운영체제 : 리눅스|CPU : 코어i5-1135G7|칩셋 제조사 : 인텔|코어종류 : 쿼드코어|코드명 : 타이거레이크|CPU속도 : 2.4GHz|터보부스트 : 4.2GHz|램 : 8GB|메모리 타입 : DDR4|인텔 GPU : Iris Xe Graphics|그래픽 메모리 : 시스템 메모리 공유|해상도 : 1920x1080(FHD)|패널 : PLS패널(광시야각)|화면비율 : 16대9|베젤 : 슬림베젤|무선랜 : 802.11 ax(Wi-Fi6)|블루투스 : 블루투스5.0|유선랜 : 유선랜(기가비트)|영상출력 : HDMI|단자 : USB Type C, USB3.0, USB2.0|카드 슬롯 : MicroSD카드|부가기능 : 웹캠|SSD : 256GB|SSD 인터페이스 : NVMe|배터리용량 : 43Wh|충전단자 : DC|웹카메라 : 전면|스피커 : 스테레오스피커|품목 : 노트북|두께 : 1.88cm|조명 : LED백라이트|입력장치 : 숫자키패드|보안기능 : TPM'],\n",
       " ['LG전자 LG그램 17ZD95P-GX56K',\n",
       "  '1739000',\n",
       "  '화면크기 : 43.1cm(17인치)|무게 : 1.35kg|종류 : 코어i5 11세대|운영체제 : 미포함(FreeDos)|CPU : 코어i5-1155G7|칩셋 제조사 : 인텔|코어종류 : 쿼드코어|코드명 : 타이거레이크|CPU속도 : 2.5GHz|터보부스트 : 4.5GHz|램 : 16GB|메모리 타입 : LPDDR4x|인텔 GPU : Iris Xe Graphics|그래픽 메모리 : 시스템 메모리 공유|해상도 : 2560x1600(WQXGA)|패널 : IPS패널(광시야각)|화면비율 : 16대10|베젤 : 슬림베젤|디스플레이 종류 : LCD|무선랜 : 802.11 ax(Wi-Fi6)|블루투스 : 지원|유선랜 : 유선랜(기가비트)|영상출력 : HDMI, 썬더볼트4|단자 : USB Type C, USB3.1, USB4|카드 슬롯 : UFS|부가기능 : 키보드라이트, 웹캠, MIL-STD, USB-PD|SSD : 256GB|SSD 인터페이스 : M.2|배터리 타입 : 리튬이온|배터리용량 : 80Wh|웹카메라 : 전면|스피커 : 스테레오스피커|사운드 : DTS: X Ultra|품목 : 노트북|두께 : 1.78cm|DCI-P3 : 99%|보안기능 : 지문인식'],\n",
       " ['레노버 요가 Slim7-14ARE R5 Max',\n",
       "  '828930',\n",
       "  '화면크기 : 35.56cm(14인치)|무게 : 1.39kg|종류 : 라이젠5-3세대|운영체제 : 윈도우10|CPU : 라이젠5-4600U|칩셋 제조사 : AMD|코어종류 : 헥사코어|코드명 : 르누아르|CPU속도 : 2.1GHz|터보부스트 : 4.0GHz|램 : 8GB|메모리 타입 : LPDDR4x|AMD GPU : 라데온 Graphics|그래픽 메모리 : 시스템 메모리 공유|해상도 : 1920x1080(FHD)|패널 : IPS패널(광시야각)|화면비율 : 16대9|베젤 : 슬림베젤|sRGB : 100%|NTSC : 72%|화면펼침 : 180˚|밝기 : 300nit|특징 : 학습,사무용|무선랜 : 802.11 ax(Wi-Fi6)|블루투스 : 블루투스5.0|영상출력 : DisplayPort, HDMI(2.0)|단자 : USB Type C, USB3.0|카드 슬롯 : MicroSD카드|방향키 : ㅡ형|부가기능 : 웹캠, 고속충전, USB-PD|SSD : 512GB|SSD 인터페이스 : M.2|배터리용량 : 61Wh|충전단자 : Type C|웹카메라 : 전면|무상AS : 3년|품목 : 노트북|두께 : 1.49cm|입력장치 : 독립형키보드|보안기능 : 얼굴인식'],\n",
       " ['LG전자 LG그램 17Z95P-GA76K',\n",
       "  '2329000',\n",
       "  '화면크기 : 43.1cm(17인치)|무게 : 1.35kg|종류 : 코어i7 11세대|운영체제 : 윈도우11 홈|CPU : 코어i7-1195G7|칩셋 제조사 : 인텔|코어종류 : 쿼드코어|코드명 : 타이거레이크|CPU속도 : 2.9GHz|터보부스트 : 5.0GHz|램 : 16GB|메모리 타입 : LPDDR4x|인텔 GPU : Iris Xe Graphics|그래픽 메모리 : 시스템 메모리 공유|해상도 : 2560x1600(WQXGA)|패널 : IPS패널(광시야각)|화면비율 : 16대10|베젤 : 슬림베젤|디스플레이 종류 : LCD|bit유형 : 64|무선랜 : 802.11 ax(Wi-Fi6)|블루투스 : 지원|유선랜 : 유선랜(기가비트)|영상출력 : HDMI, 썬더볼트4|단자 : USB Type C, USB3.1, USB4|카드 슬롯 : UFS|부가기능 : 키보드라이트, 웹캠, MIL-STD, USB-PD, Evo 플랫폼 인증|SSD : 512GB|SSD 인터페이스 : M.2|배터리 타입 : 리튬이온|배터리용량 : 80Wh|웹카메라 : 전면|스피커 : 스테레오스피커|사운드 : DTS: X Ultra|품목 : 노트북|두께 : 1.78cm|DCI-P3 : 99%|보안기능 : 지문인식'],\n",
       " ['삼성전자 갤럭시북 프로 NT950XDY-A51A',\n",
       "  '1349000',\n",
       "  '화면크기 : 39.62cm(15.6인치)|무게 : 1.05kg|종류 : 코어i5 11세대|운영체제 : 리눅스|CPU : 코어i5-1135G7|칩셋 제조사 : 인텔|코어종류 : 쿼드코어|코드명 : 타이거레이크|CPU속도 : 2.4GHz|터보부스트 : 4.2GHz|램 : 16GB|메모리 타입 : LPDDR4x|인텔 GPU : Iris Xe Graphics|그래픽 메모리 : 시스템 메모리 공유|해상도 : 1920x1080(FHD)|패널 : AMOLED패널|무선랜 : 802.11 ax(Wi-Fi6)|블루투스 : 블루투스5.1|영상출력 : HDMI, 썬더볼트4|단자 : USB Type C|카드 슬롯 : MicroSD카드|부가기능 : 키보드라이트, 웹캠, 고속충전, MIL-STD|SSD : 256GB|SSD 인터페이스 : NVMe|배터리용량 : 68Wh|사용시간 : 최대20시간|웹카메라 : 전면|스피커 : AKG스테레오스피커|사운드 : 돌비Atoms오디오|품목 : 노트북|두께 : 1.17cm|입력장치 : 숫자키패드|보안기능 : 지문인식, TPM'],\n",
       " ['LG전자 그램360 16T90P-GAF6K',\n",
       "  '1989000',\n",
       "  '화면크기 : 40.6cm(16인치)|무게 : 1.48kg|종류 : 코어i5 11세대|운영체제 : 윈도우11 홈|CPU : 코어i5-1135G7|칩셋 제조사 : 인텔|코어종류 : 쿼드코어|코드명 : 타이거레이크|CPU속도 : 2.4GHz|터보부스트 : 4.2GHz|램 : 16GB|메모리 타입 : LPDDR4x|인텔 GPU : Iris Xe Graphics|그래픽 메모리 : 시스템 메모리 공유|해상도 : 2560x1600(WQXGA)|패널 : IPS패널(광시야각)|화면비율 : 16대10|디스플레이 특징 : 터치스크린|디스플레이 종류 : LCD|화면펼침 : 360˚|터치 : 터치화면|bit유형 : 64|무선랜 : 802.11 ax(Wi-Fi6)|블루투스 : 지원|영상출력 : 썬더볼트4|단자 : USB Type C, USB3.1, USB4|카드 슬롯 : UFS, MicroSD카드|부가기능 : 키보드라이트, 웹캠, 180˚화면펼침, 터치펜(와콤), MIL-STD, 175˚화면펼침, 360˚회전화면, USB-PD, Evo 플랫폼 인증|SSD : 256GB|SSD 인터페이스 : NVMe|배터리 타입 : 리튬이온|배터리용량 : 80Wh|웹카메라 : 전면|스피커 : 스테레오스피커|사운드 : DTS: X Ultra|품목 : 노트북|두께 : 1.695cm|보안기능 : 지문인식'],\n",
       " ['삼성전자 노트북 플러스2 NT550XDA-K14A',\n",
       "  '528000',\n",
       "  '화면크기 : 39.62cm(15.6인치)|무게 : 1.81kg|종류 : 셀러론|운영체제 : 윈도우11 프로|CPU : 셀러론-6305|칩셋 제조사 : 인텔|코어종류 : 듀얼코어|코드명 : 타이거레이크|CPU속도 : 1.8GHz|램 : 4GB|메모리 타입 : DDR4|인텔 GPU : UHD Graphics|그래픽 메모리 : 시스템 메모리 공유|해상도 : 1920x1080(FHD)|베젤 : 슬림베젤|패널코팅 : 안티글레어|무선랜 : 802.11 ax(Wi-Fi6)|블루투스 : 블루투스5.1|유선랜 : 유선랜있음|영상출력 : HDMI|단자 : USB Type C, USB3.0, USB2.0|카드 슬롯 : MicroSD카드, 멀티리더기|부가기능 : 웹캠|SSD : 128GB|SSD 인터페이스 : NVMe|배터리용량 : 43Wh|충전단자 : DC|웹카메라 : 전면|스피커 : 스테레오스피커|품목 : 노트북|두께 : 1.88cm|조명 : LED백라이트|입력장치 : 숫자키패드|보안기능 : TPM'],\n",
       " ['삼성전자 갤럭시북 프로360 NT950QDY-A51A',\n",
       "  '1697990',\n",
       "  '화면크기 : 39.62cm(15.6인치)|무게 : 1.39kg|종류 : 코어i5 11세대|운영체제 : 리눅스|CPU : 코어i5-1135G7|칩셋 제조사 : 인텔|코어종류 : 쿼드코어|코드명 : 타이거레이크|CPU속도 : 2.4GHz|터보부스트 : 4.2GHz|램 : 16GB|메모리 타입 : LPDDR4x|인텔 GPU : Iris Xe Graphics|그래픽 메모리 : 시스템 메모리 공유|해상도 : 1920x1080(FHD)|패널 : AMOLED패널|디스플레이 특징 : 터치스크린|화면펼침 : 360˚|터치 : 터치화면|무선랜 : 802.11 ax(Wi-Fi6)|블루투스 : 블루투스5.1|영상출력 : 썬더볼트4|단자 : USB Type C|카드 슬롯 : MicroSD카드|부가기능 : 키보드라이트, 웹캠, 고속충전, S펜, MIL-STD|SSD : 256GB|SSD 인터페이스 : NVMe|배터리용량 : 68Wh|충전단자 : Type C|사용시간 : 최대20시간|웹카메라 : 전면|스피커 : AKG스테레오스피커|사운드 : 돌비Atoms오디오|품목 : 노트북|두께 : 1.19cm|입력장치 : 숫자키패드|보안기능 : 지문인식, TPM'],\n",
       " ['베이직스 베이직북13 2세대 BB1321FW',\n",
       "  '389000',\n",
       "  '화면크기 : 33.02cm(13인치)|무게 : 1.28kg|종류 : 셀러론|운영체제 : 윈도우10|CPU : 셀러론-N4120|칩셋 제조사 : 인텔|코어종류 : 쿼드코어|코드명 : 제미니레이크|CPU속도 : 1.1GHz|터보부스트 : 2.6GHz|램 : 8GB|해상도 : 1920x1080(FHD)|패널 : IPS패널(광시야각)|무선랜 : 802.11 ac(Wi-Fi5)|블루투스 : 블루투스 4.0|영상출력 : miniHDMI|단자 : USB Type C, USB3.0, USB2.0|부가기능 : 웹캠|SSD : 256GB|배터리용량 : 38Wh|웹카메라 : 전면|무상AS : 1년|품목 : 노트북|두께 : 1.8cm'],\n",
       " ['삼성전자 노트북 플러스2 NT550XDA-K24A',\n",
       "  '598000',\n",
       "  '화면크기 : 39.62cm(15.6인치)|무게 : 1.81kg|종류 : 펜티엄|운영체제 : 윈도우11 프로|CPU : 펜티엄-7505|칩셋 제조사 : 인텔|코드명 : 타이거레이크|CPU속도 : 2.0GHz|터보부스트 : 3.5GHz|램 : 4GB|메모리 타입 : DDR4|인텔 GPU : UHD Graphics|그래픽 메모리 : 시스템 메모리 공유|해상도 : 1920x1080(FHD)|베젤 : 슬림베젤|패널코팅 : 안티글레어|무선랜 : 802.11 ax(Wi-Fi6)|블루투스 : 블루투스5.1|유선랜 : 유선랜(기가비트)|영상출력 : HDMI|단자 : USB Type C, USB3.0, USB2.0|카드 슬롯 : MicroSD카드|부가기능 : 웹캠|SSD : 128GB|SSD 인터페이스 : NVMe|배터리용량 : 43Wh|충전단자 : DC|웹카메라 : 전면|스피커 : 스테레오스피커|품목 : 노트북|두께 : 1.88cm|조명 : LED백라이트|보안기능 : TPM'],\n",
       " ['삼성전자 갤럭시북 프로 NT950XDC-X71A',\n",
       "  '1949000',\n",
       "  '화면크기 : 39.62cm(15.6인치)|무게 : 1.15kg|종류 : 코어i7 11세대|운영체제 : 윈도우11 홈|CPU : 코어i7-1165G7|칩셋 제조사 : 인텔|코어종류 : 쿼드코어|코드명 : 타이거레이크|CPU속도 : 2.8GHz|터보부스트 : 4.7GHz|램 : 16GB|메모리 타입 : LPDDR4x|NVIDIA GPU : 지포스 MX450|그래픽 메모리 : 2GB|해상도 : 1920x1080(FHD)|패널 : AMOLED패널|무선랜 : 802.11 ax(Wi-Fi6)|블루투스 : 블루투스5.1|영상출력 : HDMI, 썬더볼트4|단자 : USB Type C|카드 슬롯 : MicroSD카드|부가기능 : 키보드라이트, 웹캠, 고속충전, MIL-STD|SSD : 512GB|SSD 인터페이스 : NVMe|배터리용량 : 68Wh|충전단자 : Type C|사용시간 : 최대20시간|웹카메라 : 전면|스피커 : AKG스테레오스피커|사운드 : 돌비Atoms오디오|품목 : 노트북|두께 : 1.33cm|입력장치 : 숫자키패드|보안기능 : 지문인식, TPM'],\n",
       " ['삼성전자 노트북 플러스2 NT550XDZ-AD5A',\n",
       "  '698000',\n",
       "  '화면크기 : 39.62cm(15.6인치)|무게 : 1.81kg|종류 : 코어i5 11세대|운영체제 : 리눅스|CPU : 코어i5-1135G7|칩셋 제조사 : 인텔|코어종류 : 쿼드코어|코드명 : 타이거레이크|CPU속도 : 2.4GHz|터보부스트 : 4.2GHz|램 : 8GB|메모리 타입 : DDR4|인텔 GPU : Iris Xe Graphics|그래픽 메모리 : 시스템 메모리 공유|해상도 : 1920x1080(FHD)|패널 : PLS패널(광시야각)|화면비율 : 16대9|베젤 : 슬림베젤|무선랜 : 802.11 ax(Wi-Fi6)|블루투스 : 블루투스5.0|유선랜 : 유선랜(기가비트)|영상출력 : HDMI|단자 : USB Type C, USB3.0, USB2.0|카드 슬롯 : MicroSD카드|부가기능 : 웹캠|SSD : 256GB|SSD 인터페이스 : NVMe|배터리용량 : 43Wh|충전단자 : DC|웹카메라 : 전면|스피커 : 스테레오스피커|품목 : 노트북|두께 : 1.88cm|조명 : LED백라이트|입력장치 : 숫자키패드|보안기능 : TPM'],\n",
       " ['삼성전자 갤럭시북 NT750XDZ-A51A',\n",
       "  '974000',\n",
       "  '화면크기 : 39.62cm(15.6인치)|무게 : 1.55kg|종류 : 코어i5 11세대|운영체제 : 미포함(FreeDos)|CPU : 코어i5-1135G7|칩셋 제조사 : 인텔|코어종류 : 쿼드코어|코드명 : 타이거레이크|CPU속도 : 2.4GHz|터보부스트 : 4.2GHz|램 : 16GB|메모리 타입 : LPDDR4x|인텔 GPU : Iris Xe Graphics|그래픽 메모리 : 시스템 메모리 공유|해상도 : 1920x1080(FHD)|패널 : 광시야각|베젤 : 슬림베젤|패널코팅 : 안티글레어|무선랜 : 802.11 ax(Wi-Fi6)|블루투스 : 블루투스5.1|영상출력 : HDMI|단자 : USB Type C|카드 슬롯 : MicroSD카드|부가기능 : 웹캠|SSD : 256GB|SSD 인터페이스 : NVMe|배터리용량 : 54Wh|충전단자 : Type C|웹카메라 : 전면|스피커 : 스테레오스피커|사운드 : 돌비Atoms오디오|품목 : 노트북|두께 : 1.54cm|조명 : LED백라이트|입력장치 : 숫자키패드|보안기능 : TPM'],\n",
       " ['LG전자 그램16 16ZD90P-GX50K',\n",
       "  '1499990',\n",
       "  '화면크기 : 40.6cm(16인치)|무게 : 1.19kg|종류 : 코어i5 11세대|운영체제 : 미포함(FreeDos)|CPU : 코어i5-1135G7|칩셋 제조사 : 인텔|코어종류 : 쿼드코어|코드명 : 타이거레이크|CPU속도 : 2.4GHz|터보부스트 : 4.2GHz|램 : 8GB|메모리 타입 : LPDDR4x|인텔 GPU : Iris Xe Graphics|그래픽 메모리 : 시스템 메모리 공유|해상도 : 2560x1600(WQXGA)|패널 : IPS패널(광시야각)|화면비율 : 16대10|베젤 : 슬림베젤|무선랜 : 802.11 ax(Wi-Fi6)|블루투스 : 지원|유선랜 : 유선랜있음|영상출력 : HDMI, 썬더볼트4|단자 : USB Type C, USB3.1|카드 슬롯 : UFS|부가기능 : 키보드라이트, 웹캠, USB-PD|SSD : 256GB|SSD 인터페이스 : M.2|HDD 용량 : 미포함|ODD : 광Drive없음|배터리 타입 : 리튬이온|배터리용량 : 80Wh|충전단자 : Type C|웹카메라 : 전면|사운드 : DTS: X Ultra|품목 : 노트북|두께 : 1.68|조명 : LED백라이트|색상 : 스노우화이트|DCI-P3 : 99%|보안기능 : 지문인식'],\n",
       " ['삼성전자 노트북 플러스2 NT560XDZ-G78A',\n",
       "  '1494690',\n",
       "  '화면크기 : 39.62cm(15.6인치)|무게 : 1.85kg|종류 : 코어i7 11세대|운영체제 : 미포함(FreeDos)|CPU : 코어i7-1165G7|칩셋 제조사 : 인텔|코어종류 : 쿼드코어|코드명 : 타이거레이크|CPU속도 : 2.8GHz|터보부스트 : 4.7GHz|램 : 8GB|메모리 타입 : DDR4|NVIDIA GPU : 지포스 GTX1650 Ti Max-Q|인텔 GPU : Iris Xe Graphics|그래픽 메모리 : 4GB|해상도 : 1920x1080(FHD)|패널 : 광시야각|화면비율 : 16대9|디스플레이 종류 : QLED|패널코팅 : 안티글레어|무선랜 : 802.11 ac(Wi-Fi5)|블루투스 : 블루투스5.0|유선랜 : 유선랜(1Gbps)|영상출력 : HDMI|단자 : USB Type C, USB3.0, USB2.0|카드 슬롯 : MicroSD카드|부가기능 : 웹캠|SSD : 256GB|SSD 인터페이스 : NVMe|배터리용량 : 43Wh|충전단자 : DC|웹카메라 : 전면|품목 : 노트북|두께 : 1.89|색상 : 블랙'],\n",
       " ['삼성전자 갤럭시북 프로 NT930XDY-A51A',\n",
       "  '1298000',\n",
       "  '화면크기 : 33.78cm(13.3인치)|무게 : 0.87kg|종류 : 코어i5 11세대|운영체제 : 리눅스|CPU : 코어i5-1135G7|칩셋 제조사 : 인텔|코어종류 : 쿼드코어|코드명 : 타이거레이크|CPU속도 : 2.4GHz|터보부스트 : 4.2GHz|램 : 16GB|메모리 타입 : LPDDR4x|인텔 GPU : Iris Xe Graphics|그래픽 메모리 : 시스템 메모리 공유|해상도 : 1920x1080(FHD)|패널 : AMOLED패널|특징 : 가벼운노트북|무선랜 : 802.11 ax(Wi-Fi6)|블루투스 : 블루투스5.1|영상출력 : HDMI, 썬더볼트4|단자 : USB Type C|카드 슬롯 : MicroSD카드|부가기능 : 키보드라이트, 웹캠, 고속충전, MIL-STD|SSD : 256GB|SSD 인터페이스 : NVMe|배터리용량 : 63Wh|충전단자 : Type C|웹카메라 : 전면|스피커 : AKG스테레오스피커|사운드 : 돌비Atoms오디오|품목 : 노트북|두께 : 1.12cm|보안기능 : 지문인식, TPM'],\n",
       " ['한성컴퓨터 TFG7576XG',\n",
       "  '1699000',\n",
       "  '화면크기 : 43.94cm(17.3인치)|무게 : 2.2kg|종류 : 라이젠7-4세대|운영체제 : 미포함(FreeDos)|CPU : 라이젠7-5800H|칩셋 제조사 : AMD|코어종류 : 옥타코어|코드명 : 세잔|CPU속도 : 3.2GHz|터보부스트 : 4.4GHz|램 : 16GB|메모리 타입 : DDR4|NVIDIA GPU : RTX3060|AMD GPU : 라데온 Graphics|그래픽 메모리 : 6GB|해상도 : 1920x1080(FHD)|패널 : IPS패널(광시야각)|주사율 : 144Hz|화면비율 : 16대9|베젤 : 슬림베젤|sRGB : 100%|NTSC : 72%|밝기 : 300nit|특징 : 게이밍(게임용)|패널코팅 : 안티글레어|무선랜 : 802.11 ax(Wi-Fi6)|블루투스 : 블루투스5.1|유선랜 : 유선랜있음|영상출력 : HDMI, DisplayPort|단자 : USB Type C, USB3.0, USB3.1|카드 슬롯 : MicroSD카드|부가기능 : 웹캠, 키보드라이트(RGB)|SSD : 500GB|SSD 인터페이스 : NVMe|배터리용량 : 91.24Wh|충전단자 : DC|웹카메라 : 전면(100만)|스피커 : 스테레오스피커|무상AS : 1년|품목 : 노트북|두께 : 2.5cm|입력장치 : 멀티제스처패드|보안기능 : 지문인식, 얼굴인식'],\n",
       " ['삼성전자 갤럭시북 NT750XDZ-A71A',\n",
       "  '1298000',\n",
       "  '화면크기 : 39.62cm(15.6인치)|무게 : 1.55kg|종류 : 코어i7 11세대|운영체제 : 미포함(FreeDos)|CPU : 코어i7-1165G7|칩셋 제조사 : 인텔|코어종류 : 쿼드코어|코드명 : 타이거레이크|CPU속도 : 2.8GHz|터보부스트 : 4.7GHz|램 : 16GB|메모리 타입 : LPDDR4x|인텔 GPU : Iris Xe Graphics|그래픽 메모리 : 시스템 메모리 공유|해상도 : 1920x1080(FHD)|패널 : 광시야각|베젤 : 슬림베젤|패널코팅 : 안티글레어|무선랜 : 802.11 ax(Wi-Fi6)|블루투스 : 블루투스5.1|영상출력 : HDMI|단자 : USB Type C|카드 슬롯 : MicroSD카드|부가기능 : 웹캠|SSD : 512GB|SSD 인터페이스 : NVMe|배터리용량 : 54Wh|충전단자 : Type C|웹카메라 : 전면|스피커 : 스테레오스피커|사운드 : 돌비Atoms오디오|품목 : 노트북|두께 : 1.54cm|조명 : LED백라이트|입력장치 : 숫자키패드|보안기능 : TPM'],\n",
       " ['LG전자 LG그램 15ZD95P-GX56K',\n",
       "  '1468990',\n",
       "  '화면크기 : 39.62cm(15.6인치)|무게 : 1.12 kg|종류 : 코어i5 11세대|운영체제 : 미포함(FreeDos)|CPU : 코어i5-1155G7|칩셋 제조사 : 인텔|코어종류 : 쿼드코어|코드명 : 타이거레이크|CPU속도 : 2.5GHz|터보부스트 : 4.5GHz|램 : 16GB|메모리 타입 : LPDDR4x|인텔 GPU : Iris Xe Graphics|그래픽 메모리 : 시스템 메모리 공유|해상도 : 1920x1080(FHD)|패널 : IPS패널(광시야각)|디스플레이 종류 : LCD|무선랜 : 802.11 ax(Wi-Fi6)|블루투스 : 지원|유선랜 : 유선랜(기가비트)|영상출력 : HDMI, 썬더볼트4|단자 : USB Type C, USB3.0, USB4|카드 슬롯 : UFS|부가기능 : 키보드라이트, 웹캠, MIL-STD, USB-PD|SSD : 256GB|SSD 인터페이스 : M.2|배터리 타입 : 리튬이온|배터리용량 : 80Wh|웹카메라 : 전면|스피커 : 스테레오스피커|사운드 : DTS: X Ultra|품목 : 노트북|두께 : 1.74 cm|보안기능 : 지문인식'],\n",
       " ['레노버 Slim3 15ITL 5D',\n",
       "  '628920',\n",
       "  '화면크기 : 39.62cm(15.6인치)|무게 : 1.65kg|종류 : 코어i5 11세대|운영체제 : 미포함(FreeDos)|CPU : 코어i5-1135G7|칩셋 제조사 : 인텔|코어종류 : 쿼드코어|코드명 : 타이거레이크|터보부스트 : 4.2GHz|램 : 8GB|메모리 타입 : DDR4|인텔 GPU : Iris Xe Graphics|그래픽 메모리 : 시스템 메모리 공유|해상도 : 1920x1080(FHD)|패널 : IPS패널(광시야각)|베젤 : 슬림베젤|밝기 : 300nit|패널코팅 : 안티글레어|무선랜 : 802.11 ax(Wi-Fi6)|블루투스 : 블루투스5.1|영상출력 : HDMI|단자 : USB Type C, USB2.0|카드 슬롯 : SD카드|부가기능 : 웹캠, 키보드라이트(LED)|SSD : 256GB|SSD 인터페이스 : NVMe|사용시간 : 최대6시간|웹카메라 : 전면|사운드 : 돌비Atoms오디오|무상AS : 1년|품목 : 노트북|두께 : 1.99cm|조명 : LED백라이트|보안기능 : 웹캠 OFF'],\n",
       " ['Apple 맥북 에어 2020년형 M1 256G 실버 (MGN93KH/A)',\n",
       "  '1174000',\n",
       "  '화면크기 : 33.78cm(13.3인치)|무게 : 1.29kg|운영체제 : macOS Big Sur|CPU : M1|칩셋 제조사 : 애플|코어종류 : 옥타코어|CPU속도 : 3.2GHz|램 : 8GB|해상도 : 2560x1440(QHD)|패널 : IPS패널(광시야각)|화면비율 : 16대10|디스플레이 종류 : LCD|밝기 : 400nit|bit유형 : 64|무선랜 : 802.11 ax(Wi-Fi6)|블루투스 : 블루투스5.0|영상출력 : 썬더볼트3(2개), DisplayPort|단자 : USB Type C|부가기능 : 웹캠, 키보드라이트(LED), 페이스타임, 제어센터, 아이메시지, 애플앱스토어, 에어드롭, 음성인식(시리), iCloud|SSD : 256GB|HDD 용량 : 미포함|ODD : 광Drive없음|배터리 타입 : 리튬폴리머|배터리용량 : 49.9Wh|충전단자 : Type C|사용시간 : 최대18시간|웹카메라 : 전면|무상AS : 1년|품목 : 노트북|두께 : 1.61|조명 : LED백라이트|색상 : 실버|DCI-P3 : 지원|보안기능 : 지문인식'],\n",
       " ['삼성전자 갤럭시북 프로360 NT950QDY-A51A',\n",
       "  '1697990',\n",
       "  '화면크기 : 39.62cm(15.6인치)|무게 : 1.39kg|종류 : 코어i5 11세대|운영체제 : 리눅스|CPU : 코어i5-1135G7|칩셋 제조사 : 인텔|코어종류 : 쿼드코어|코드명 : 타이거레이크|CPU속도 : 2.4GHz|터보부스트 : 4.2GHz|램 : 16GB|메모리 타입 : LPDDR4x|인텔 GPU : Iris Xe Graphics|그래픽 메모리 : 시스템 메모리 공유|해상도 : 1920x1080(FHD)|패널 : AMOLED패널|디스플레이 특징 : 터치스크린|화면펼침 : 360˚|터치 : 터치화면|무선랜 : 802.11 ax(Wi-Fi6)|블루투스 : 블루투스5.1|영상출력 : 썬더볼트4|단자 : USB Type C|카드 슬롯 : MicroSD카드|부가기능 : 키보드라이트, 웹캠, 고속충전, S펜, MIL-STD|SSD : 256GB|SSD 인터페이스 : NVMe|배터리용량 : 68Wh|충전단자 : Type C|사용시간 : 최대20시간|웹카메라 : 전면|스피커 : AKG스테레오스피커|사운드 : 돌비Atoms오디오|품목 : 노트북|두께 : 1.19cm|입력장치 : 숫자키패드|보안기능 : 지문인식, TPM'],\n",
       " ['포유디지탈 아이뮤즈 스톰북 윈도우10포함',\n",
       "  '259000',\n",
       "  '화면크기 : 35.81cm(14.1인치)|무게 : 1.3|종류 : 셀러론|운영체제 : 윈도우10 홈|CPU : N3350|칩셋 제조사 : 인텔|코어종류 : 듀얼코어|CPU속도 : 1.1GHz|터보코어 : 2.4GHz|램 : 4GB|메모리 타입 : LPDDR3|해상도 : 1366x768(FWXGA)|bit유형 : 64|블루투스 : 블루투스 4.2|유선랜 : 유선랜없음|영상출력 : HDMI|단자 : USB3.0, USB2.0|부가기능 : 웹캠|배터리 타입 : 리튬이온|배터리용량 : 37Wh|사용시간 : 최대10시간|웹카메라 : 전면|품목 : 노트북|두께 : 1.7'],\n",
       " ['삼성전자 갤럭시북 NT750XDZ-A71A',\n",
       "  '1298000',\n",
       "  '화면크기 : 39.62cm(15.6인치)|무게 : 1.55kg|종류 : 코어i7 11세대|운영체제 : 미포함(FreeDos)|CPU : 코어i7-1165G7|칩셋 제조사 : 인텔|코어종류 : 쿼드코어|코드명 : 타이거레이크|CPU속도 : 2.8GHz|터보부스트 : 4.7GHz|램 : 16GB|메모리 타입 : LPDDR4x|인텔 GPU : Iris Xe Graphics|그래픽 메모리 : 시스템 메모리 공유|해상도 : 1920x1080(FHD)|패널 : 광시야각|베젤 : 슬림베젤|패널코팅 : 안티글레어|무선랜 : 802.11 ax(Wi-Fi6)|블루투스 : 블루투스5.1|영상출력 : HDMI|단자 : USB Type C|카드 슬롯 : MicroSD카드|부가기능 : 웹캠|SSD : 512GB|SSD 인터페이스 : NVMe|배터리용량 : 54Wh|충전단자 : Type C|웹카메라 : 전면|스피커 : 스테레오스피커|사운드 : 돌비Atoms오디오|품목 : 노트북|두께 : 1.54cm|조명 : LED백라이트|입력장치 : 숫자키패드|보안기능 : TPM'],\n",
       " ['삼성전자 노트북 플러스2 NT550XDZ-AD3A',\n",
       "  '599000',\n",
       "  '화면크기 : 39.62cm(15.6인치)|무게 : 1.81kg|종류 : 코어i3 11세대|운영체제 : 리눅스|CPU : 코어i3-1115G4|칩셋 제조사 : 인텔|코어종류 : 듀얼코어|코드명 : 타이거레이크|CPU속도 : 3.0GHz|터보부스트 : 4.1GHz|램 : 8GB|메모리 타입 : DDR4|인텔 GPU : UHD Graphics|그래픽 메모리 : 시스템 메모리 공유|해상도 : 1920x1080(FHD)|패널 : 광시야각|베젤 : 슬림베젤|패널코팅 : 안티글레어|무선랜 : 802.11 ax(Wi-Fi6)|블루투스 : 블루투스5.1|유선랜 : 유선랜(기가비트)|영상출력 : HDMI|단자 : USB Type C, USB3.0, USB2.0|카드 슬롯 : MicroSD카드|부가기능 : 웹캠|SSD : 256GB|SSD 인터페이스 : NVMe|배터리용량 : 43Wh|충전단자 : DC|웹카메라 : 전면|스피커 : 스테레오스피커|품목 : 노트북|두께 : 1.88cm|입력장치 : 숫자키패드|보안기능 : TPM'],\n",
       " ['삼성전자 갤럭시북 프로360 NT930QDY-A51A',\n",
       "  '1598000',\n",
       "  '화면크기 : 33.78cm(13.3인치)|무게 : 1.04kg|종류 : 코어i5 11세대|운영체제 : 리눅스|CPU : 코어i5-1135G7|칩셋 제조사 : 인텔|코어종류 : 쿼드코어|코드명 : 타이거레이크|CPU속도 : 2.4GHz|터보부스트 : 4.2GHz|램 : 16GB|메모리 타입 : LPDDR4x|인텔 GPU : Iris Xe Graphics|그래픽 메모리 : 시스템 메모리 공유|해상도 : 1920x1080(FHD)|패널 : AMOLED패널|디스플레이 특징 : 터치스크린|화면펼침 : 360˚|터치 : 터치화면|무선랜 : 802.11 ax(Wi-Fi6)|블루투스 : 블루투스5.1|영상출력 : 썬더볼트4|단자 : USB Type C|카드 슬롯 : MicroSD카드|부가기능 : 키보드라이트, 웹캠, 고속충전, S펜, MIL-STD|SSD : 256GB|SSD 인터페이스 : NVMe|배터리용량 : 63Wh|충전단자 : Type C|웹카메라 : 전면|스피커 : AKG스테레오스피커|사운드 : 돌비Atoms오디오|품목 : 노트북|두께 : 1.15cm|보안기능 : 지문인식, TPM'],\n",
       " ['ASUS 비보북 X513EA-BQ031',\n",
       "  '638950',\n",
       "  '화면크기 : 39.62cm(15.6인치)|무게 : 1.8kg|종류 : 코어i5 11세대|운영체제 : 미포함(FreeDos)|CPU : 코어i5-1135G7|칩셋 제조사 : 인텔|코어종류 : 쿼드코어|코드명 : 타이거레이크-H|CPU속도 : 2.4GHz|터보부스트 : 4.2GHz|램 : 8GB|메모리 타입 : DDR4|인텔 GPU : Iris Xe Graphics|그래픽 메모리 : 시스템 메모리 공유|해상도 : 1920x1080(FHD)|화면비율 : 16대9|베젤 : 슬림베젤|특징 : 학습,사무용|무선랜 : 802.11 ax(Wi-Fi6)|블루투스 : 블루투스5.0|영상출력 : HDMI|단자 : USB Type C, USB3.0, USB2.0|카드 슬롯 : MicroSD카드|방향키 : ㅗ형|부가기능 : 키보드라이트, 웹캠, 고속충전|SSD : 256GB|SSD 인터페이스 : M.2|배터리 타입 : 리튬이온|배터리용량 : 42Wh|배터리cell수 : 3cell|충전단자 : DC|웹카메라 : 전면|스피커 : 하만카돈스피커|품목 : 노트북|두께 : 1.99cm|입력장치 : 독립형키보드|보안기능 : 지문인식'],\n",
       " ['삼성전자 노트북 플러스2 NT550XDZ-AD1A',\n",
       "  '449000',\n",
       "  '화면크기 : 39.62cm(15.6인치)|무게 : 1.81kg|종류 : 셀러론|운영체제 : 미포함(FreeDos)|CPU : 셀러론-6305|칩셋 제조사 : 인텔|코어종류 : 듀얼코어|코드명 : 타이거레이크|CPU속도 : 1.8GHz|램 : 4GB|메모리 타입 : DDR4|인텔 GPU : UHD Graphics|그래픽 메모리 : 시스템 메모리 공유|해상도 : 1920x1080(FHD)|패널 : 광시야각|화면비율 : 16대9|베젤 : 슬림베젤|패널코팅 : 안티글레어|무선랜 : 802.11 ax(Wi-Fi6)|블루투스 : 블루투스5.0|유선랜 : 유선랜(1Gbps)|영상출력 : HDMI|단자 : USB Type C, USB3.0, USB2.0|카드 슬롯 : MicroSD카드|방향키 : ㅗ형|부가기능 : 웹캠, 멀티 카드 리더기|SSD : 256GB|SSD 인터페이스 : NVMe|배터리용량 : 43Wh|충전단자 : DC|웹카메라 : 전면|품목 : 노트북|두께 : 1.88cm|조명 : LED백라이트|색상 : 화이트|입력장치 : 숫자키패드'],\n",
       " ['한성컴퓨터 TFX3412N',\n",
       "  '499000',\n",
       "  '화면크기 : 33.78cm(13.3인치)|무게 : 1.3kg|종류 : 셀러론|운영체제 : 미포함(FreeDos)|CPU : 셀러론-N4120|칩셋 제조사 : 인텔|코어종류 : 쿼드코어|코드명 : 제미니레이크-R|CPU속도 : 1.1GHz|터보부스트 : 2.6GHz|램 : 8GB|메모리 타입 : DDR4|인텔 GPU : UHD600|그래픽 메모리 : 시스템 메모리 공유|해상도 : 1920x1080(FHD)|패널 : IPS패널(광시야각)|화면비율 : 16대9|디스플레이 특징 : 터치스크린|베젤 : 슬림베젤|sRGB : 100%|NTSC : 72%|화면펼침 : 360˚|밝기 : 300nit|터치 : 10포인트터치입력가능|무선랜 : 802.11 ac(Wi-Fi5)|블루투스 : 블루투스 4.2|영상출력 : DisplayPort|단자 : USB Type C, USB3.0, USB3.1|카드 슬롯 : MicroSD카드|부가기능 : 웹캠, 키보드라이트(LED), 터치펜, USB-PD|SSD : 250GB|SSD 인터페이스 : M.2|충전단자 : DC|웹카메라 : 전면(100만)|스피커 : 스테레오스피커|무상AS : 1년|품목 : 노트북|두께 : 1.6cm|입력장치 : 멀티제스처패드'],\n",
       " ['한성컴퓨터 올데이롱 TFX5470H',\n",
       "  '889000',\n",
       "  '화면크기 : 39.62cm(15.6인치)|무게 : 1.5kg|종류 : 라이젠7-3세대|운영체제 : 미포함(FreeDos)|CPU : 라이젠7-4800H|칩셋 제조사 : AMD|코어종류 : 옥타코어|코드명 : 르누아르|CPU속도 : 2.9GHz|터보부스트 : 4.2GHz|램 : 16GB|메모리 타입 : DDR4|AMD GPU : 라데온 Graphics|그래픽 메모리 : 시스템 메모리 공유|해상도 : 1920x1080(FHD)|패널 : 광시야각|화면비율 : 16대9|베젤 : 슬림베젤|sRGB : 100%|NTSC : 72%|특징 : 울트라북|패널코팅 : 안티글레어|무선랜 : 802.11 ax(Wi-Fi6)|블루투스 : 블루투스5.1|유선랜 : 유선랜(1Gbps)|영상출력 : HDMI|단자 : USB Type C, USB3.0, USB2.0|카드 슬롯 : MicroSD카드|부가기능 : 키보드라이트, 웹캠, 멀티 카드 리더기, 제어센터, USB-PD|SSD : 500GB|SSD 인터페이스 : M.2|배터리 타입 : 리튬이온|배터리용량 : 91.24Wh|배터리cell수 : 6cell|사용시간 : 최대24시간|웹카메라 : 전면(100만)|무상AS : 1년|품목 : 노트북|두께 : 1.68'],\n",
       " ['기가바이트 G5 KC i5 144',\n",
       "  '1499000',\n",
       "  '화면크기 : 39.62cm(15.6인치)|무게 : 2.2|종류 : 코어i5 10세대|운영체제 : 미포함(FreeDos)|CPU : 코어i5-10500H|칩셋 제조사 : 인텔|코어종류 : 헥사코어|코드명 : 코멧레이크|CPU속도 : 2.5GHz|터보부스트 : 4.5GHz|램 : 16GB|메모리 타입 : DDR4|NVIDIA GPU : RTX3060|그래픽 메모리 : 6GB|해상도 : 1920x1080(FHD)|패널 : 광시야각|주사율 : 144Hz|베젤 : 슬림베젤|NTSC : 72%|밝기 : 300nit|특징 : 게이밍(게임용)|패널코팅 : 안티글레어|무선랜 : 802.11 ax(Wi-Fi6)|블루투스 : 블루투스5.0|유선랜 : 유선랜있음|영상출력 : miniDisplayPort, DisplayPort, HDMI(2.0)|단자 : USB Type C, USB3.0, USB2.0, USB3.1|카드 슬롯 : SD카드|부가기능 : 웹캠, 키보드라이트(RGB)|SSD : 512GB|SSD 인터페이스 : NVMePCIe|배터리 타입 : 리튬폴리머|배터리용량 : 49Wh|충전단자 : DC|웹카메라 : 전면|사운드 : Nahimic오디오|무상AS : 2년|품목 : 노트북|두께 : 2.79|입력장치 : 숫자키패드'],\n",
       " ['레노버 FLEX 5 14ALC R5 W10',\n",
       "  '775000',\n",
       "  '무게 : 1.53kg|종류 : 라이젠5-4세대|운영체제 : 윈도우10 홈|CPU : 라이젠5-5500U|칩셋 제조사 : AMD|코어종류 : 헥사코어|코드명 : 루시엔|CPU속도 : 2.1GHz|터보부스트 : 4.0GHz|램 : 8GB|메모리 타입 : DDR4|AMD GPU : 라데온 Graphics|그래픽 메모리 : 시스템 메모리 공유|해상도 : 1920x1080(FHD)|패널 : IPS패널(광시야각)|디스플레이 특징 : 터치스크린|베젤 : 슬림베젤|화면펼침 : 360˚|터치 : 터치화면|무선랜 : 802.11 ax(Wi-Fi6)|블루투스 : 블루투스5.0|영상출력 : HDMI|단자 : USB Type C, USB3.0|카드 슬롯 : SD카드|부가기능 : 웹캠, 고속충전, 키보드라이트(LED), 터치펜, USB-PD|SSD : 256GB|SSD 인터페이스 : NVMe|배터리용량 : 52.5Wh|배터리cell수 : 3cell|사용시간 : 최대12시간|웹카메라 : 전면|스피커 : 스테레오스피커|사운드 : 돌비프리미엄오디오|무상AS : 2년|품목 : 노트북|두께 : 1.79cm|보안기능 : 웹캠 OFF'],\n",
       " ['삼성전자 갤럭시북 NT750XDA-X71A',\n",
       "  '1598000',\n",
       "  '화면크기 : 39.62cm(15.6인치)|무게 : 1.59kg|종류 : 코어i7 11세대|운영체제 : 윈도우11 홈|CPU : 코어i7-1165G7|칩셋 제조사 : 인텔|코어종류 : 쿼드코어|코드명 : 타이거레이크|CPU속도 : 2.8GHz|터보부스트 : 4.7GHz|램 : 16GB|메모리 타입 : LPDDR4x|NVIDIA GPU : 지포스 MX450|그래픽 메모리 : 2GB|해상도 : 1920x1080(FHD)|패널 : 광시야각|베젤 : 슬림베젤|패널코팅 : 안티글레어|무선랜 : 802.11 ax(Wi-Fi6)|블루투스 : 블루투스5.1|영상출력 : HDMI|단자 : USB Type C|카드 슬롯 : MicroSD카드|부가기능 : 웹캠|SSD : 512GB|SSD 인터페이스 : NVMe|배터리용량 : 54Wh|충전단자 : Type C|웹카메라 : 전면|스피커 : 스테레오스피커|사운드 : 돌비Atoms오디오|품목 : 노트북|두께 : 1.54cm|입력장치 : 숫자키패드|보안기능 : TPM'],\n",
       " ['삼성전자 갤럭시북 프로 NT950XDX-G51A',\n",
       "  '1528000',\n",
       "  '화면크기 : 39.62cm(15.6인치)|무게 : 1.15kg|종류 : 코어i5 11세대|운영체제 : 리눅스|CPU : 코어i5-1135G7|칩셋 제조사 : 인텔|코어종류 : 쿼드코어|코드명 : 타이거레이크|CPU속도 : 2.4GHz|터보부스트 : 4.2GHz|램 : 16GB|메모리 타입 : LPDDR4x|NVIDIA GPU : 지포스 MX450|그래픽 메모리 : 2GB|해상도 : 1920x1080(FHD)|패널 : AMOLED패널|무선랜 : 802.11 ax(Wi-Fi6)|블루투스 : 블루투스5.1|영상출력 : HDMI, 썬더볼트4|단자 : USB Type C|카드 슬롯 : MicroSD카드|부가기능 : 키보드라이트, 웹캠, 고속충전, MIL-STD|SSD : 256GB|SSD 인터페이스 : NVMe|배터리용량 : 68Wh|사용시간 : 최대20시간|웹카메라 : 전면|스피커 : AKG스테레오스피커|사운드 : 돌비Atoms오디오|품목 : 노트북|두께 : 1.33cm|입력장치 : 숫자키패드|보안기능 : 지문인식, TPM'],\n",
       " ['LG전자 울트라PC 15U40N-GR56K',\n",
       "  '803670',\n",
       "  '화면크기 : 39.62cm(15.6인치)|무게 : 1.8kg|종류 : 라이젠5-3세대|운영체제 : 윈도우10 홈|CPU : 라이젠5-4500U|칩셋 제조사 : AMD|코어종류 : 헥사코어|코드명 : 르누아르|CPU속도 : 2.3GHz|터보부스트 : 4.0GHz|램 : 8GB|메모리 타입 : DDR4|AMD GPU : 라데온 Graphics|그래픽 메모리 : 시스템 메모리 공유|해상도 : 1920x1080(FHD)|패널 : IPS패널(광시야각)|화면비율 : 16대9|베젤 : 슬림베젤|특징 : 울트라북, 가벼운노트북, 게이밍(게임용), 학습,사무용, 휴대용, 그래픽작업용|bit유형 : 64|무선랜 : 802.11 ax(Wi-Fi6)|블루투스 : 블루투스5.1|유선랜 : 유선랜(1Gbps)|영상출력 : HDMI|단자 : USB Type C, USB3.0, USB3.1|카드 슬롯 : MicroSD카드|방향키 : ㅗ형|부가기능 : 웹캠, Reader모드, 제어센터, 국제보증서비스|SSD : 256GB|SSD 인터페이스 : NVMe|ODD : 광Drive없음|배터리 타입 : 리튬이온|배터리용량 : 52Wh|웹카메라 : 전면|사운드 : DTS: X Ultra|무상AS : 1년|품목 : 노트북|두께 : 1.99cm|조명 : LED백라이트|색상 : 스노우화이트|입력장치 : 숫자키패드'],\n",
       " ['LG전자 LG그램 16ZD95P-GX5LK',\n",
       "  '1669000',\n",
       "  '화면크기 : 40.6cm(16인치)|무게 : 1.19kg|종류 : 코어i5 11세대|운영체제 : 미포함(FreeDos)|CPU : 코어i5-1155G7|칩셋 제조사 : 인텔|코어종류 : 쿼드코어|코드명 : 타이거레이크|CPU속도 : 2.5GHz|터보부스트 : 4.5GHz|램 : 16GB|메모리 타입 : LPDDR4x|인텔 GPU : Iris Xe Graphics|그래픽 메모리 : 시스템 메모리 공유|해상도 : 2560x1600(WQXGA)|패널 : IPS패널(광시야각)|화면비율 : 16대10|베젤 : 슬림베젤|디스플레이 종류 : LCD|무선랜 : 802.11 ax(Wi-Fi6)|블루투스 : 지원|유선랜 : 유선랜(기가비트)|영상출력 : HDMI, 썬더볼트4|단자 : USB Type C, USB3.1, USB4|카드 슬롯 : UFS|부가기능 : 키보드라이트, 웹캠, MIL-STD, USB-PD|SSD : 256GB|SSD 인터페이스 : M.2|배터리 타입 : 리튬이온|배터리용량 : 80Wh|웹카메라 : 전면|스피커 : 스테레오스피커|사운드 : DTS: X Ultra|품목 : 노트북|두께 : 1.68cm|DCI-P3 : 99%|보안기능 : 지문인식'],\n",
       " ['레노버 리전 5 15ACH R5 3050Ti PRO',\n",
       "  '1049000',\n",
       "  '화면크기 : 39.62cm(15.6인치)|무게 : 2.25kg|종류 : 라이젠5-4세대|운영체제 : 미포함(FreeDos)|CPU : 라이젠5-5600H|칩셋 제조사 : AMD|코어종류 : 헥사코어|코드명 : 세잔|CPU속도 : 3.3GHz|터보부스트 : 4.2GHz|램 : 8GB|메모리 타입 : DDR4|NVIDIA GPU : 지포스 RTX3050 Ti|그래픽 메모리 : 4GB|해상도 : 1920x1080(FHD)|패널 : IPS패널(광시야각)|주사율 : 165Hz|베젤 : 슬림베젤|sRGB : 100%|밝기 : 300nit|특징 : 게이밍(게임용)|패널코팅 : 안티글레어|무선랜 : 802.11 ax(Wi-Fi6)|블루투스 : 블루투스5.1|유선랜 : 유선랜있음|영상출력 : HDMI, DisplayPort, G-Sync|단자 : USB Type C, USB3.0, USB3.1|부가기능 : 웹캠, 키보드라이트(LED), USB-PD|SSD : 256GB|SSD 인터페이스 : NVMe|배터리용량 : 60Wh|웹카메라 : 전면|스피커 : 스테레오스피커|사운드 : Nahimic오디오|무상AS : 1년|품목 : 노트북|두께 : 2.25cm|입력장치 : 멀티제스처패드|보안기능 : 웹캠 OFF'],\n",
       " ['레노버 씽크북 15 Gen3 ACL 21A4000BKR',\n",
       "  '638920',\n",
       "  '화면크기 : 39.62cm(15.6인치)|무게 : 1.7kg|종류 : 라이젠5-4세대|운영체제 : 미포함(FreeDos)|CPU : 라이젠5-5500U|칩셋 제조사 : AMD|코어종류 : 헥사코어|코드명 : 루시엔|CPU속도 : 2.1GHz|터보부스트 : 4.0GHz|램 : 8GB|메모리 타입 : DDR4|AMD GPU : 라데온 Graphics|그래픽 메모리 : 시스템 메모리 공유|해상도 : 1920x1080(FHD)|패널 : IPS패널(광시야각)|베젤 : 슬림베젤|화면펼침 : 180˚|밝기 : 300nit|패널코팅 : 안티글레어|무선랜 : 802.11 ax(Wi-Fi6)|블루투스 : 블루투스5.1|유선랜 : 유선랜있음|영상출력 : HDMI|단자 : USB Type C, USB3.0, USB3.1|부가기능 : 키보드라이트, 웹캠, 고속충전|SSD : 256GB|SSD 인터페이스 : M.2|배터리용량 : 45Wh|배터리cell수 : 3cell|사용시간 : 최대7시간30분|웹카메라 : 전면|무상AS : 3년|품목 : 노트북|두께 : 1.89cm|보안기능 : 지문인식, 웹캠 OFF'],\n",
       " ['삼성전자 갤럭시북 프로360 NT950QDB-K71A',\n",
       "  '2010520',\n",
       "  '화면크기 : 39.62cm(15.6인치)|무게 : 1.39kg|종류 : 코어i7 11세대|운영체제 : 윈도우11 홈|CPU : 코어i7-1165G7|칩셋 제조사 : 인텔|코어종류 : 쿼드코어|코드명 : 타이거레이크|CPU속도 : 2.8GHz|터보부스트 : 4.7GHz|램 : 16GB|메모리 타입 : LPDDR4x|인텔 GPU : Iris Xe Graphics|그래픽 메모리 : 시스템 메모리 공유|해상도 : 1920x1080(FHD)|패널 : AMOLED패널|디스플레이 특징 : 터치스크린|화면펼침 : 360˚|터치 : 터치화면|무선랜 : 802.11 ax(Wi-Fi6)|블루투스 : 블루투스5.1|영상출력 : 썬더볼트4|단자 : USB Type C|카드 슬롯 : MicroSD카드|부가기능 : 키보드라이트, 웹캠, 고속충전, S펜, Evo 플랫폼 인증|SSD : 512GB|SSD 인터페이스 : NVMe|배터리용량 : 68Wh|충전단자 : Type C|사용시간 : 최대20시간|웹카메라 : 전면|스피커 : AKG스테레오스피커|사운드 : 돌비Atoms오디오|품목 : 노트북|두께 : 1.19cm|입력장치 : 숫자키패드|보안기능 : 지문인식, TPM'],\n",
       " ['LG전자 그램14 14ZD90P-GX50K',\n",
       "  '1218990',\n",
       "  '화면크기 : 35.5cm(14인치)|무게 : 0.999kg|종류 : 코어i5 11세대|운영체제 : 미포함(FreeDos)|CPU : 코어i5-1135G7|칩셋 제조사 : 인텔|코어종류 : 쿼드코어|코드명 : 타이거레이크|CPU속도 : 2.4GHz|터보부스트 : 4.2GHz|램 : 8GB|메모리 타입 : LPDDR4x|인텔 GPU : Iris Xe Graphics|그래픽 메모리 : 시스템 메모리 공유|해상도 : 1920x1200(WUXGA)|패널 : IPS패널(광시야각)|화면비율 : 16대10|베젤 : 슬림베젤|특징 : 가벼운노트북|무선랜 : 802.11 ax(Wi-Fi6)|블루투스 : 지원|유선랜 : 유선랜있음|영상출력 : HDMI, 썬더볼트4|단자 : USB Type C, USB3.1|카드 슬롯 : UFS, MicroSD카드|부가기능 : 키보드라이트, 웹캠, USB-PD, Evo 플랫폼 인증|SSD : 256GB|SSD 인터페이스 : M.2|배터리 타입 : 리튬이온|배터리용량 : 72Wh|웹카메라 : 전면|사운드 : DTS: X Ultra|품목 : 노트북|두께 : 1.68cm|조명 : LED백라이트|색상 : 스노우화이트|DCI-P3 : 99%|보안기능 : 지문인식'],\n",
       " ['[대여] 게이밍노트북 MSI 17형 i7 16GB GTX1660Ti 게임노트북 무보증 렌탈',\n",
       "  '70000',\n",
       "  '무게 : 2.2kg|종류 : 코어i7 9세대|CPU : 코어i7-9750H|칩셋 제조사 : 인텔|코어종류 : 헥사코어|코드명 : 커피레이크-R(9세대)|CPU속도 : 2.6GHz|터보부스트 : 4.5GHz|램 : 16GB|메모리 타입 : DDR4|NVIDIA GPU : 지포스 GTX1660 Ti|그래픽 메모리 : 6GB|해상도 : 1920x1080(FHD)|디스플레이 특징 : 자동 밝기 조절|밝기 : 250nit|특징 : 가벼운노트북, 게이밍(게임용)|패널코팅 : 안티글레어|무선랜 : 802.11 ac(Wi-Fi5)|블루투스 : 블루투스5.0|유선랜 : 유선랜(1Gbps)|영상출력 : HDMI, 썬더볼트3|단자 : USB Type C, USB3.0, USB3.1|부가기능 : 키보드라이트, 웹캠|SSD : 128GB|품목 : 노트북|두께 : 2.2cm'],\n",
       " ['디클 클릭북 D14',\n",
       "  '298930',\n",
       "  '화면크기 : 35.81cm(14.1인치)|무게 : 1.3kg|종류 : 셀러론|운영체제 : 윈도우10 홈|CPU : 셀러론-N4020|칩셋 제조사 : 인텔|코어종류 : 듀얼코어|코드명 : 제미니레이크|CPU속도 : 1.1GHz|터보부스트 : 2.8GHz|램 : 4GB|메모리 타입 : DDR4L|인텔 GPU : UHD600|그래픽 메모리 : 시스템 메모리 공유|해상도 : 1920x1080(FHD)|패널 : IPS패널(광시야각)|화면비율 : 16대9|베젤 : 슬림베젤|특징 : 가벼운노트북|bit유형 : 64|무선랜 : 802.11 ac(Wi-Fi5)|블루투스 : 블루투스5.0|영상출력 : microHDMI|단자 : USB3.0, USB2.0|부가기능 : 웹캠, 팬리스(무소음)|SSD : 128GB|SSD 인터페이스 : M.2|ODD : 광Drive없음|배터리 타입 : 리튬폴리머|사용시간 : 최대11시간|저전력 : O|무상AS : 1년|품목 : 노트북|두께 : 1.5cm|색상 : 화이트'],\n",
       " ['삼성 노트북 플러스2 업무용 재택근무 저렴한 인강용 사무용 싼 가성비 노트북 한컴오피스',\n",
       "  '529000',\n",
       "  '코어종류 : 듀얼코어|램 : 4GB|해상도 : 1920x1080(FHD)'],\n",
       " ['삼성전자 갤럭시북 이온2 NT950XDZ-A58AW',\n",
       "  '1198990',\n",
       "  '화면크기 : 39.62cm(15.6인치)|무게 : 1.19kg|종류 : 코어i5 11세대|운영체제 : 미포함(FreeDos)|CPU : 코어i5-1135G7|칩셋 제조사 : 인텔|코어종류 : 쿼드코어|코드명 : 타이거레이크|CPU속도 : 2.4GHz|터보부스트 : 4.2GHz|램 : 8GB|메모리 타입 : DDR4|인텔 GPU : Iris Xe Graphics|그래픽 메모리 : 시스템 메모리 공유|해상도 : 1920x1080(FHD)|패널 : 광시야각|화면비율 : 16대9|베젤 : 슬림베젤|디스플레이 종류 : QLED|밝기 : 600nit|무선랜 : 802.11 ax(Wi-Fi6)|블루투스 : 블루투스5.1|영상출력 : HDMI, 썬더볼트4|단자 : USB3.0|카드 슬롯 : UFS, MicroSD카드|방향키 : ㅗ형|부가기능 : 키보드라이트, 웹캠, 고속충전, 무선 배터리 공유|SSD : 256GB|SSD 인터페이스 : NVMe|배터리용량 : 69.7Wh|충전단자 : DC|웹카메라 : 전면|품목 : 노트북|두께 : 1.49cm|색상 : 화이트|보안기능 : 지문인식']]"
      ]
     },
     "execution_count": 10,
     "metadata": {},
     "output_type": "execute_result"
    }
   ],
   "source": [
    "notebook_list = []\n",
    "\n",
    "for i in notebooks:\n",
    "    try:\n",
    "        ## 상품명 가져오기\n",
    "        name = i.select('div.basicList_title__3P9Q7> a')[0].text.strip()\n",
    "        ## 가격\n",
    "        price = i.select('strong.basicList_price__2r23_ > span > span.price_num__2WUXn')[0].text.strip().split('원')[0].replace(',','')\n",
    "        ## 스펙\n",
    "        spec = i.select('div.basicList_detail_box__3ta3h')[0].text.strip()\n",
    "        ## append\n",
    "        notebook_list.append([name,price,spec])\n",
    "    except:\n",
    "        pass\n",
    "\n",
    "print(len(notebook_list))\n",
    "notebook_list"
   ]
  },
  {
   "cell_type": "code",
   "execution_count": 11,
   "metadata": {},
   "outputs": [],
   "source": [
    "## 위 코드 함수\n",
    "\n",
    "def get_notebooks(ntb):\n",
    "    notebook_list = []\n",
    "\n",
    "    for i in notebooks:\n",
    "        try:\n",
    "            ## 상품명 가져오기\n",
    "            name = i.select('div.basicList_title__3P9Q7> a')[0].text.strip()\n",
    "            ## 가격\n",
    "            price = i.select('strong.basicList_price__2r23_ > span > span.price_num__2WUXn')[0].text.strip().split('원')[0].replace(',','')\n",
    "            ## 스펙\n",
    "            spec = i.select('div.basicList_detail_box__3ta3h')[0].text.strip()\n",
    "            ## append\n",
    "            notebook_list.append([name,price,spec])\n",
    "        except:\n",
    "            pass\n",
    "    return notebook_list"
   ]
  },
  {
   "cell_type": "code",
   "execution_count": 12,
   "metadata": {},
   "outputs": [
    {
     "data": {
      "text/plain": [
       "46"
      ]
     },
     "execution_count": 12,
     "metadata": {},
     "output_type": "execute_result"
    }
   ],
   "source": [
    "# 함수 정상 작동\n",
    "ntb = soup.select('li.basicList_item__2XT81 > div.basicList_inner__eY_mq > div.basicList_info_area__17Xyo')\n",
    "len(get_notebooks(ntb))"
   ]
  },
  {
   "cell_type": "markdown",
   "metadata": {},
   "source": [
    "#### 노트북 검색 결과 페이지 url 주소를 살펴본다\n",
    "\n",
    "1페이지\n",
    "https://search.shopping.naver.com/search/all?frm=NVSCDIG&origQuery=%EB%85%B8%ED%8A%B8%EB%B6%81&pagingIndex=1&pagingSize=40&productSet=total&query=%EB%85%B8%ED%8A%B8%EB%B6%81&sort=rel&timestamp=&viewType=list\n",
    "\n",
    "2페이지\n",
    "https://search.shopping.naver.com/search/all?frm=NVSCDIG&origQuery=%EB%85%B8%ED%8A%B8%EB%B6%81&pagingIndex=2&pagingSize=40&productSet=total&query=%EB%85%B8%ED%8A%B8%EB%B6%81&sort=rel&timestamp=&viewType=list\n",
    "\n",
    "3페이지\n",
    "https://search.shopping.naver.com/search/all?frm=NVSCDIG&origQuery=%EB%85%B8%ED%8A%B8%EB%B6%81&pagingIndex=2&pagingSize=40&productSet=total&query=%EB%85%B8%ED%8A%B8%EB%B6%81&sort=rel&timestamp=&viewType=list\n",
    "\n",
    "다른 검색어 검색(강아지사료)\n",
    "https://search.shopping.naver.com/search/all?frm=NVSHATC&origQuery=%EA%B0%95%EC%95%84%EC%A7%80%EC%82%AC%EB%A3%8C&pagingIndex=1&pagingSize=40&productSet=total&query=%EA%B0%95%EC%95%84%EC%A7%80%EC%82%AC%EB%A3%8C&sort=rel&timestamp=&viewType=list\n",
    "\n",
    "**주소를 비교해보면 origiQuery, pagingIndex, query 부분이 달라지는 것을 볼 수 있다. 다른 검색어를 검색해도 마찬가지이다. `fra=` 프레임 스타일도 다른 검색어 주소와 다르지만 프레임 스타일은 변경해도 주소를 불러오는데 문제가 없었다.**"
   ]
  },
  {
   "cell_type": "code",
   "execution_count": 13,
   "metadata": {},
   "outputs": [
    {
     "name": "stdout",
     "output_type": "stream",
     "text": [
      "https://search.shopping.naver.com/search/all?frm=NVSCDIG&origQuery=강아지사료&pagingIndex=1&pagingSize=40&productSet=total&query=강아지사료&sort=rel&timestamp=&viewType=list\n"
     ]
    }
   ],
   "source": [
    "## 키워드와 페이지 번호를 입력하여 url 주소를 가져오는 함수를 만든다.\n",
    "\n",
    "def get_search_page_url(keyword,page):\n",
    "    return 'https://search.shopping.naver.com/search/all?frm=NVSCDIG&origQuery={}&pagingIndex={}&pagingSize=40&productSet=total&query={}&sort=rel&timestamp=&viewType=list'.format(keyword,page,keyword)\n",
    "\n",
    "url = get_search_page_url('강아지사료',1)\n",
    "print(url)\n"
   ]
  },
  {
   "cell_type": "code",
   "execution_count": 14,
   "metadata": {},
   "outputs": [
    {
     "name": "stderr",
     "output_type": "stream",
     "text": [
      "C:\\Users\\yj\\AppData\\Local\\Temp/ipykernel_6168/3402917339.py:4: TqdmDeprecationWarning: This function will be removed in tqdm==5.0.0\n",
      "Please use `tqdm.notebook.tqdm` instead of `tqdm.tqdm_notebook`\n",
      "  for page in tqdm_notebook(range(1,total_page+1)):\n"
     ]
    },
    {
     "data": {
      "application/vnd.jupyter.widget-view+json": {
       "model_id": "c8b100ce1db74ae1b0a18f97d1d27a8a",
       "version_major": 2,
       "version_minor": 0
      },
      "text/plain": [
       "  0%|          | 0/3 [00:00<?, ?it/s]"
      ]
     },
     "metadata": {},
     "output_type": "display_data"
    }
   ],
   "source": [
    "import time\n",
    "from tqdm import tqdm_notebook\n",
    "total_page = 3\n",
    "for page in tqdm_notebook(range(1,total_page+1)):\n",
    "    time.sleep(3)\n"
   ]
  },
  {
   "cell_type": "code",
   "execution_count": 18,
   "metadata": {},
   "outputs": [
    {
     "name": "stderr",
     "output_type": "stream",
     "text": [
      "C:\\Users\\yj\\AppData\\Local\\Temp/ipykernel_6168/2564208047.py:8: TqdmDeprecationWarning: This function will be removed in tqdm==5.0.0\n",
      "Please use `tqdm.notebook.tqdm` instead of `tqdm.tqdm_notebook`\n",
      "  for page in tqdm_notebook(range(1,total_page+1)):\n"
     ]
    },
    {
     "data": {
      "application/vnd.jupyter.widget-view+json": {
       "model_id": "41e5f2d2a3a04af9ba72b1c7b2c31a6b",
       "version_major": 2,
       "version_minor": 0
      },
      "text/plain": [
       "  0%|          | 0/3 [00:00<?, ?it/s]"
      ]
     },
     "metadata": {},
     "output_type": "display_data"
    }
   ],
   "source": [
    "### 여러 페이지 데이터 수집\n",
    "\n",
    "keyword = '노트북'\n",
    "total_page = 3\n",
    "notebooks_totaldata = []\n",
    "\n",
    "# 진행 정도를 표현하는 tqdm을 적용\n",
    "for page in tqdm_notebook(range(1,total_page+1)):\n",
    "    # 1. 검색 페이지 이동\n",
    "    url = get_search_page_url('노트북',page)\n",
    "    driver.get(url)\n",
    "\n",
    "    # 2. 페이지가 로딩 완료되기 위한 시간으로 10초를 할당\n",
    "    time.sleep(10)\n",
    "\n",
    "    # 3. 현재 페이지의 html 정보 가져오기\n",
    "    html = driver.page_source\n",
    "    soup = BeautifulSoup(html, 'html.parser')\n",
    "\n",
    "    # 4. 상품 정보 추출\n",
    "    notebooks = soup.select('li.basicList_item__2XT81 > div.basicList_inner__eY_mq > div.basicList_info_area__17Xyo')\n",
    "    notebook_list = get_notebooks(notebooks)\n",
    "\n",
    "    ## 5. 추출 데이터 저장\n",
    "    notebooks_totaldata = notebooks_totaldata + notebook_list"
   ]
  },
  {
   "cell_type": "code",
   "execution_count": null,
   "metadata": {},
   "outputs": [],
   "source": [
    "## 엑셀파일로 저장\n",
    "import pandas as pd\n",
    "data = pd.DataFrame(notebooks_totaldata)\n",
    "data.to_excel('C:/Users/yj/Desktop/notebooks.xlsx', index = False)\n",
    "data.columns = (['상품명','가격','스펙'])"
   ]
  },
  {
   "cell_type": "markdown",
   "metadata": {},
   "source": [
    "---\n",
    "---\n",
    "---"
   ]
  },
  {
   "cell_type": "code",
   "execution_count": 108,
   "metadata": {},
   "outputs": [
    {
     "data": {
      "text/html": [
       "<div>\n",
       "<style scoped>\n",
       "    .dataframe tbody tr th:only-of-type {\n",
       "        vertical-align: middle;\n",
       "    }\n",
       "\n",
       "    .dataframe tbody tr th {\n",
       "        vertical-align: top;\n",
       "    }\n",
       "\n",
       "    .dataframe thead th {\n",
       "        text-align: right;\n",
       "    }\n",
       "</style>\n",
       "<table border=\"1\" class=\"dataframe\">\n",
       "  <thead>\n",
       "    <tr style=\"text-align: right;\">\n",
       "      <th></th>\n",
       "      <th>상품명</th>\n",
       "      <th>가격</th>\n",
       "      <th>스펙</th>\n",
       "    </tr>\n",
       "  </thead>\n",
       "  <tbody>\n",
       "    <tr>\n",
       "      <th>0</th>\n",
       "      <td>삼성전자 갤럭시북 프로 NT950XDY-A51A</td>\n",
       "      <td>1349000</td>\n",
       "      <td>화면크기 : 39.62cm(15.6인치)|무게 : 1.05kg|종류 : 코어i5 1...</td>\n",
       "    </tr>\n",
       "    <tr>\n",
       "      <th>1</th>\n",
       "      <td>LG전자 LG그램 17Z95P-GA76K</td>\n",
       "      <td>2329000</td>\n",
       "      <td>화면크기 : 43.1cm(17인치)|무게 : 1.35kg|종류 : 코어i7 11세대...</td>\n",
       "    </tr>\n",
       "    <tr>\n",
       "      <th>2</th>\n",
       "      <td>삼성전자 노트북 플러스2 NT550XDZ-AD5A</td>\n",
       "      <td>698000</td>\n",
       "      <td>화면크기 : 39.62cm(15.6인치)|무게 : 1.81kg|종류 : 코어i5 1...</td>\n",
       "    </tr>\n",
       "    <tr>\n",
       "      <th>3</th>\n",
       "      <td>LG전자 LG그램 17ZD95P-GX56K</td>\n",
       "      <td>1739000</td>\n",
       "      <td>화면크기 : 43.1cm(17인치)|무게 : 1.35kg|종류 : 코어i5 11세대...</td>\n",
       "    </tr>\n",
       "    <tr>\n",
       "      <th>4</th>\n",
       "      <td>레노버 요가 Slim7-14ARE R5 Max</td>\n",
       "      <td>828930</td>\n",
       "      <td>화면크기 : 35.56cm(14인치)|무게 : 1.39kg|종류 : 라이젠5-3세대...</td>\n",
       "    </tr>\n",
       "    <tr>\n",
       "      <th>5</th>\n",
       "      <td>LG전자 LG그램 17Z95P-GA76K</td>\n",
       "      <td>2329000</td>\n",
       "      <td>화면크기 : 43.1cm(17인치)|무게 : 1.35kg|종류 : 코어i7 11세대...</td>\n",
       "    </tr>\n",
       "    <tr>\n",
       "      <th>6</th>\n",
       "      <td>삼성전자 갤럭시북 프로 NT950XDY-A51A</td>\n",
       "      <td>1349000</td>\n",
       "      <td>화면크기 : 39.62cm(15.6인치)|무게 : 1.05kg|종류 : 코어i5 1...</td>\n",
       "    </tr>\n",
       "    <tr>\n",
       "      <th>7</th>\n",
       "      <td>LG전자 그램360 16T90P-GAF6K</td>\n",
       "      <td>1989000</td>\n",
       "      <td>화면크기 : 40.6cm(16인치)|무게 : 1.48kg|종류 : 코어i5 11세대...</td>\n",
       "    </tr>\n",
       "    <tr>\n",
       "      <th>8</th>\n",
       "      <td>삼성전자 노트북 플러스2 NT550XDA-K14A</td>\n",
       "      <td>528000</td>\n",
       "      <td>화면크기 : 39.62cm(15.6인치)|무게 : 1.81kg|종류 : 셀러론|운영...</td>\n",
       "    </tr>\n",
       "    <tr>\n",
       "      <th>9</th>\n",
       "      <td>삼성전자 갤럭시북 프로360 NT950QDY-A51A</td>\n",
       "      <td>1697990</td>\n",
       "      <td>화면크기 : 39.62cm(15.6인치)|무게 : 1.39kg|종류 : 코어i5 1...</td>\n",
       "    </tr>\n",
       "    <tr>\n",
       "      <th>10</th>\n",
       "      <td>베이직스 베이직북13 2세대 BB1321FW</td>\n",
       "      <td>389000</td>\n",
       "      <td>화면크기 : 33.02cm(13인치)|무게 : 1.28kg|종류 : 셀러론|운영체제...</td>\n",
       "    </tr>\n",
       "    <tr>\n",
       "      <th>11</th>\n",
       "      <td>삼성전자 노트북 플러스2 NT550XDA-K24A</td>\n",
       "      <td>598000</td>\n",
       "      <td>화면크기 : 39.62cm(15.6인치)|무게 : 1.81kg|종류 : 펜티엄|운영...</td>\n",
       "    </tr>\n",
       "    <tr>\n",
       "      <th>12</th>\n",
       "      <td>삼성전자 갤럭시북 프로 NT950XDC-X71A</td>\n",
       "      <td>1949000</td>\n",
       "      <td>화면크기 : 39.62cm(15.6인치)|무게 : 1.15kg|종류 : 코어i7 1...</td>\n",
       "    </tr>\n",
       "    <tr>\n",
       "      <th>13</th>\n",
       "      <td>삼성전자 노트북 플러스2 NT550XDZ-AD5A</td>\n",
       "      <td>698000</td>\n",
       "      <td>화면크기 : 39.62cm(15.6인치)|무게 : 1.81kg|종류 : 코어i5 1...</td>\n",
       "    </tr>\n",
       "    <tr>\n",
       "      <th>14</th>\n",
       "      <td>삼성전자 갤럭시북 NT750XDZ-A51A</td>\n",
       "      <td>974000</td>\n",
       "      <td>화면크기 : 39.62cm(15.6인치)|무게 : 1.55kg|종류 : 코어i5 1...</td>\n",
       "    </tr>\n",
       "    <tr>\n",
       "      <th>15</th>\n",
       "      <td>LG전자 그램16 16ZD90P-GX50K</td>\n",
       "      <td>1499990</td>\n",
       "      <td>화면크기 : 40.6cm(16인치)|무게 : 1.19kg|종류 : 코어i5 11세대...</td>\n",
       "    </tr>\n",
       "    <tr>\n",
       "      <th>16</th>\n",
       "      <td>삼성전자 노트북 플러스2 NT560XDZ-G78A</td>\n",
       "      <td>1494690</td>\n",
       "      <td>화면크기 : 39.62cm(15.6인치)|무게 : 1.85kg|종류 : 코어i7 1...</td>\n",
       "    </tr>\n",
       "    <tr>\n",
       "      <th>17</th>\n",
       "      <td>삼성전자 갤럭시북 프로 NT930XDY-A51A</td>\n",
       "      <td>1298000</td>\n",
       "      <td>화면크기 : 33.78cm(13.3인치)|무게 : 0.87kg|종류 : 코어i5 1...</td>\n",
       "    </tr>\n",
       "    <tr>\n",
       "      <th>18</th>\n",
       "      <td>한성컴퓨터 TFG7576XG</td>\n",
       "      <td>1699000</td>\n",
       "      <td>화면크기 : 43.94cm(17.3인치)|무게 : 2.2kg|종류 : 라이젠7-4세...</td>\n",
       "    </tr>\n",
       "    <tr>\n",
       "      <th>19</th>\n",
       "      <td>삼성전자 갤럭시북 NT750XDZ-A71A</td>\n",
       "      <td>1298000</td>\n",
       "      <td>화면크기 : 39.62cm(15.6인치)|무게 : 1.55kg|종류 : 코어i7 1...</td>\n",
       "    </tr>\n",
       "    <tr>\n",
       "      <th>20</th>\n",
       "      <td>LG전자 LG그램 15ZD95P-GX56K</td>\n",
       "      <td>1468990</td>\n",
       "      <td>화면크기 : 39.62cm(15.6인치)|무게 : 1.12 kg|종류 : 코어i5 ...</td>\n",
       "    </tr>\n",
       "    <tr>\n",
       "      <th>21</th>\n",
       "      <td>레노버 Slim3 15ITL 5D</td>\n",
       "      <td>628920</td>\n",
       "      <td>화면크기 : 39.62cm(15.6인치)|무게 : 1.65kg|종류 : 코어i5 1...</td>\n",
       "    </tr>\n",
       "    <tr>\n",
       "      <th>22</th>\n",
       "      <td>Apple 맥북 에어 2020년형 M1 256G 실버 (MGN93KH/A)</td>\n",
       "      <td>1174000</td>\n",
       "      <td>화면크기 : 33.78cm(13.3인치)|무게 : 1.29kg|운영체제 : macO...</td>\n",
       "    </tr>\n",
       "    <tr>\n",
       "      <th>23</th>\n",
       "      <td>삼성전자 갤럭시북 프로360 NT950QDY-A51A</td>\n",
       "      <td>1697990</td>\n",
       "      <td>화면크기 : 39.62cm(15.6인치)|무게 : 1.39kg|종류 : 코어i5 1...</td>\n",
       "    </tr>\n",
       "    <tr>\n",
       "      <th>24</th>\n",
       "      <td>포유디지탈 아이뮤즈 스톰북 윈도우10포함</td>\n",
       "      <td>259000</td>\n",
       "      <td>화면크기 : 35.81cm(14.1인치)|무게 : 1.3|종류 : 셀러론|운영체제 ...</td>\n",
       "    </tr>\n",
       "    <tr>\n",
       "      <th>25</th>\n",
       "      <td>삼성전자 갤럭시북 NT750XDZ-A71A</td>\n",
       "      <td>1298000</td>\n",
       "      <td>화면크기 : 39.62cm(15.6인치)|무게 : 1.55kg|종류 : 코어i7 1...</td>\n",
       "    </tr>\n",
       "    <tr>\n",
       "      <th>26</th>\n",
       "      <td>삼성전자 노트북 플러스2 NT550XDZ-AD3A</td>\n",
       "      <td>599000</td>\n",
       "      <td>화면크기 : 39.62cm(15.6인치)|무게 : 1.81kg|종류 : 코어i3 1...</td>\n",
       "    </tr>\n",
       "    <tr>\n",
       "      <th>27</th>\n",
       "      <td>삼성전자 갤럭시북 프로360 NT930QDY-A51A</td>\n",
       "      <td>1598000</td>\n",
       "      <td>화면크기 : 33.78cm(13.3인치)|무게 : 1.04kg|종류 : 코어i5 1...</td>\n",
       "    </tr>\n",
       "    <tr>\n",
       "      <th>28</th>\n",
       "      <td>ASUS 비보북 X513EA-BQ031</td>\n",
       "      <td>638950</td>\n",
       "      <td>화면크기 : 39.62cm(15.6인치)|무게 : 1.8kg|종류 : 코어i5 11...</td>\n",
       "    </tr>\n",
       "    <tr>\n",
       "      <th>29</th>\n",
       "      <td>삼성전자 노트북 플러스2 NT550XDZ-AD1A</td>\n",
       "      <td>449000</td>\n",
       "      <td>화면크기 : 39.62cm(15.6인치)|무게 : 1.81kg|종류 : 셀러론|운영...</td>\n",
       "    </tr>\n",
       "    <tr>\n",
       "      <th>30</th>\n",
       "      <td>한성컴퓨터 TFX3412N</td>\n",
       "      <td>499000</td>\n",
       "      <td>화면크기 : 33.78cm(13.3인치)|무게 : 1.3kg|종류 : 셀러론|운영체...</td>\n",
       "    </tr>\n",
       "    <tr>\n",
       "      <th>31</th>\n",
       "      <td>한성컴퓨터 올데이롱 TFX5470H</td>\n",
       "      <td>889000</td>\n",
       "      <td>화면크기 : 39.62cm(15.6인치)|무게 : 1.5kg|종류 : 라이젠7-3세...</td>\n",
       "    </tr>\n",
       "    <tr>\n",
       "      <th>32</th>\n",
       "      <td>기가바이트 G5 KC i5 144</td>\n",
       "      <td>1499000</td>\n",
       "      <td>화면크기 : 39.62cm(15.6인치)|무게 : 2.2|종류 : 코어i5 10세대...</td>\n",
       "    </tr>\n",
       "    <tr>\n",
       "      <th>33</th>\n",
       "      <td>레노버 FLEX 5 14ALC R5 W10</td>\n",
       "      <td>775000</td>\n",
       "      <td>무게 : 1.53kg|종류 : 라이젠5-4세대|운영체제 : 윈도우10 홈|CPU :...</td>\n",
       "    </tr>\n",
       "    <tr>\n",
       "      <th>34</th>\n",
       "      <td>삼성전자 갤럭시북 NT750XDA-X71A</td>\n",
       "      <td>1598000</td>\n",
       "      <td>화면크기 : 39.62cm(15.6인치)|무게 : 1.59kg|종류 : 코어i7 1...</td>\n",
       "    </tr>\n",
       "    <tr>\n",
       "      <th>35</th>\n",
       "      <td>HP OMEN 15-en1024AX</td>\n",
       "      <td>1585620</td>\n",
       "      <td>화면크기 : 39.62cm(15.6인치)|무게 : 2.12kg|종류 : 라이젠7-4...</td>\n",
       "    </tr>\n",
       "    <tr>\n",
       "      <th>36</th>\n",
       "      <td>주연테크 젠 L8CS36</td>\n",
       "      <td>1648990</td>\n",
       "      <td>화면크기 : 43.94cm(17.3인치)|무게 : 2.5kg|종류 : 라이젠7-4세...</td>\n",
       "    </tr>\n",
       "    <tr>\n",
       "      <th>37</th>\n",
       "      <td>HP 14s-dq2569TU</td>\n",
       "      <td>699000</td>\n",
       "      <td>화면크기 : 35.56cm(14인치)|무게 : 1.47kg|종류 : 코어i5 11세...</td>\n",
       "    </tr>\n",
       "    <tr>\n",
       "      <th>38</th>\n",
       "      <td>레노버 씽크패드 X1 카본 Gen9 20XWS0D300</td>\n",
       "      <td>2449000</td>\n",
       "      <td>화면크기 : 35.56cm(14인치)|무게 : 1.14kg|종류 : 코어i7 11세...</td>\n",
       "    </tr>\n",
       "    <tr>\n",
       "      <th>39</th>\n",
       "      <td>레노버 리전 5i 15ITH I5 3050Ti Pro</td>\n",
       "      <td>1249000</td>\n",
       "      <td>화면크기 : 39.62cm(15.6인치)|무게 : 2.4kg|종류 : 코어i5 11...</td>\n",
       "    </tr>\n",
       "  </tbody>\n",
       "</table>\n",
       "</div>"
      ],
      "text/plain": [
       "                                          상품명       가격  \\\n",
       "0                  삼성전자 갤럭시북 프로 NT950XDY-A51A  1349000   \n",
       "1                      LG전자 LG그램 17Z95P-GA76K  2329000   \n",
       "2                 삼성전자 노트북 플러스2 NT550XDZ-AD5A   698000   \n",
       "3                     LG전자 LG그램 17ZD95P-GX56K  1739000   \n",
       "4                   레노버 요가 Slim7-14ARE R5 Max   828930   \n",
       "5                      LG전자 LG그램 17Z95P-GA76K  2329000   \n",
       "6                  삼성전자 갤럭시북 프로 NT950XDY-A51A  1349000   \n",
       "7                     LG전자 그램360 16T90P-GAF6K  1989000   \n",
       "8                 삼성전자 노트북 플러스2 NT550XDA-K14A   528000   \n",
       "9               삼성전자 갤럭시북 프로360 NT950QDY-A51A  1697990   \n",
       "10                   베이직스 베이직북13 2세대 BB1321FW   389000   \n",
       "11                삼성전자 노트북 플러스2 NT550XDA-K24A   598000   \n",
       "12                 삼성전자 갤럭시북 프로 NT950XDC-X71A  1949000   \n",
       "13                삼성전자 노트북 플러스2 NT550XDZ-AD5A   698000   \n",
       "14                    삼성전자 갤럭시북 NT750XDZ-A51A   974000   \n",
       "15                    LG전자 그램16 16ZD90P-GX50K  1499990   \n",
       "16                삼성전자 노트북 플러스2 NT560XDZ-G78A  1494690   \n",
       "17                 삼성전자 갤럭시북 프로 NT930XDY-A51A  1298000   \n",
       "18                            한성컴퓨터 TFG7576XG  1699000   \n",
       "19                    삼성전자 갤럭시북 NT750XDZ-A71A  1298000   \n",
       "20                    LG전자 LG그램 15ZD95P-GX56K  1468990   \n",
       "21                         레노버 Slim3 15ITL 5D   628920   \n",
       "22  Apple 맥북 에어 2020년형 M1 256G 실버 (MGN93KH/A)  1174000   \n",
       "23              삼성전자 갤럭시북 프로360 NT950QDY-A51A  1697990   \n",
       "24                     포유디지탈 아이뮤즈 스톰북 윈도우10포함   259000   \n",
       "25                    삼성전자 갤럭시북 NT750XDZ-A71A  1298000   \n",
       "26                삼성전자 노트북 플러스2 NT550XDZ-AD3A   599000   \n",
       "27              삼성전자 갤럭시북 프로360 NT930QDY-A51A  1598000   \n",
       "28                      ASUS 비보북 X513EA-BQ031   638950   \n",
       "29                삼성전자 노트북 플러스2 NT550XDZ-AD1A   449000   \n",
       "30                             한성컴퓨터 TFX3412N   499000   \n",
       "31                        한성컴퓨터 올데이롱 TFX5470H   889000   \n",
       "32                         기가바이트 G5 KC i5 144  1499000   \n",
       "33                    레노버 FLEX 5 14ALC R5 W10   775000   \n",
       "34                    삼성전자 갤럭시북 NT750XDA-X71A  1598000   \n",
       "35                        HP OMEN 15-en1024AX  1585620   \n",
       "36                              주연테크 젠 L8CS36  1648990   \n",
       "37                            HP 14s-dq2569TU   699000   \n",
       "38             레노버 씽크패드 X1 카본 Gen9 20XWS0D300  2449000   \n",
       "39              레노버 리전 5i 15ITH I5 3050Ti Pro  1249000   \n",
       "\n",
       "                                                   스펙  \n",
       "0   화면크기 : 39.62cm(15.6인치)|무게 : 1.05kg|종류 : 코어i5 1...  \n",
       "1   화면크기 : 43.1cm(17인치)|무게 : 1.35kg|종류 : 코어i7 11세대...  \n",
       "2   화면크기 : 39.62cm(15.6인치)|무게 : 1.81kg|종류 : 코어i5 1...  \n",
       "3   화면크기 : 43.1cm(17인치)|무게 : 1.35kg|종류 : 코어i5 11세대...  \n",
       "4   화면크기 : 35.56cm(14인치)|무게 : 1.39kg|종류 : 라이젠5-3세대...  \n",
       "5   화면크기 : 43.1cm(17인치)|무게 : 1.35kg|종류 : 코어i7 11세대...  \n",
       "6   화면크기 : 39.62cm(15.6인치)|무게 : 1.05kg|종류 : 코어i5 1...  \n",
       "7   화면크기 : 40.6cm(16인치)|무게 : 1.48kg|종류 : 코어i5 11세대...  \n",
       "8   화면크기 : 39.62cm(15.6인치)|무게 : 1.81kg|종류 : 셀러론|운영...  \n",
       "9   화면크기 : 39.62cm(15.6인치)|무게 : 1.39kg|종류 : 코어i5 1...  \n",
       "10  화면크기 : 33.02cm(13인치)|무게 : 1.28kg|종류 : 셀러론|운영체제...  \n",
       "11  화면크기 : 39.62cm(15.6인치)|무게 : 1.81kg|종류 : 펜티엄|운영...  \n",
       "12  화면크기 : 39.62cm(15.6인치)|무게 : 1.15kg|종류 : 코어i7 1...  \n",
       "13  화면크기 : 39.62cm(15.6인치)|무게 : 1.81kg|종류 : 코어i5 1...  \n",
       "14  화면크기 : 39.62cm(15.6인치)|무게 : 1.55kg|종류 : 코어i5 1...  \n",
       "15  화면크기 : 40.6cm(16인치)|무게 : 1.19kg|종류 : 코어i5 11세대...  \n",
       "16  화면크기 : 39.62cm(15.6인치)|무게 : 1.85kg|종류 : 코어i7 1...  \n",
       "17  화면크기 : 33.78cm(13.3인치)|무게 : 0.87kg|종류 : 코어i5 1...  \n",
       "18  화면크기 : 43.94cm(17.3인치)|무게 : 2.2kg|종류 : 라이젠7-4세...  \n",
       "19  화면크기 : 39.62cm(15.6인치)|무게 : 1.55kg|종류 : 코어i7 1...  \n",
       "20  화면크기 : 39.62cm(15.6인치)|무게 : 1.12 kg|종류 : 코어i5 ...  \n",
       "21  화면크기 : 39.62cm(15.6인치)|무게 : 1.65kg|종류 : 코어i5 1...  \n",
       "22  화면크기 : 33.78cm(13.3인치)|무게 : 1.29kg|운영체제 : macO...  \n",
       "23  화면크기 : 39.62cm(15.6인치)|무게 : 1.39kg|종류 : 코어i5 1...  \n",
       "24  화면크기 : 35.81cm(14.1인치)|무게 : 1.3|종류 : 셀러론|운영체제 ...  \n",
       "25  화면크기 : 39.62cm(15.6인치)|무게 : 1.55kg|종류 : 코어i7 1...  \n",
       "26  화면크기 : 39.62cm(15.6인치)|무게 : 1.81kg|종류 : 코어i3 1...  \n",
       "27  화면크기 : 33.78cm(13.3인치)|무게 : 1.04kg|종류 : 코어i5 1...  \n",
       "28  화면크기 : 39.62cm(15.6인치)|무게 : 1.8kg|종류 : 코어i5 11...  \n",
       "29  화면크기 : 39.62cm(15.6인치)|무게 : 1.81kg|종류 : 셀러론|운영...  \n",
       "30  화면크기 : 33.78cm(13.3인치)|무게 : 1.3kg|종류 : 셀러론|운영체...  \n",
       "31  화면크기 : 39.62cm(15.6인치)|무게 : 1.5kg|종류 : 라이젠7-3세...  \n",
       "32  화면크기 : 39.62cm(15.6인치)|무게 : 2.2|종류 : 코어i5 10세대...  \n",
       "33  무게 : 1.53kg|종류 : 라이젠5-4세대|운영체제 : 윈도우10 홈|CPU :...  \n",
       "34  화면크기 : 39.62cm(15.6인치)|무게 : 1.59kg|종류 : 코어i7 1...  \n",
       "35  화면크기 : 39.62cm(15.6인치)|무게 : 2.12kg|종류 : 라이젠7-4...  \n",
       "36  화면크기 : 43.94cm(17.3인치)|무게 : 2.5kg|종류 : 라이젠7-4세...  \n",
       "37  화면크기 : 35.56cm(14인치)|무게 : 1.47kg|종류 : 코어i5 11세...  \n",
       "38  화면크기 : 35.56cm(14인치)|무게 : 1.14kg|종류 : 코어i7 11세...  \n",
       "39  화면크기 : 39.62cm(15.6인치)|무게 : 2.4kg|종류 : 코어i5 11...  "
      ]
     },
     "execution_count": 108,
     "metadata": {},
     "output_type": "execute_result"
    }
   ],
   "source": [
    "data = pd.read_excel('C:/Users/yj/Desktop/notebooks.xlsx')\n",
    "data.columns = (['상품명','가격','스펙'])\n",
    "data"
   ]
  },
  {
   "cell_type": "code",
   "execution_count": 58,
   "metadata": {},
   "outputs": [],
   "source": [
    "## 회사명과 상품명을 분리한다\n",
    "company_list = []\n",
    "notebook_list = []\n",
    "for i in data['상품명']:\n",
    "    company_list.append(i.split(' ')[0])\n",
    "    notebook_list.append(i.split(' ',1)[1]) # 첫 번째 공백만 분리"
   ]
  },
  {
   "cell_type": "code",
   "execution_count": 59,
   "metadata": {},
   "outputs": [
    {
     "name": "stdout",
     "output_type": "stream",
     "text": [
      "무게 : 1.05kg 화면크기 : 39.62cm(15.6인치) 램 : 16GB\n"
     ]
    }
   ],
   "source": [
    "### 테스트\n",
    "## 무게, 화면크기, 램만 추출해서 비교한다. 노트북을 선택할 때 중요한 요소 중 3가지라고 생각했다.\n",
    "# 스펙을 종류별로 분리하여 리스트 생성\n",
    "spec_list = data['스펙'][0].split('|')\n",
    "\n",
    "for i in spec_list:\n",
    "    if '무게' in i:\n",
    "        weight = i\n",
    "    elif '화면크기 :' in i:\n",
    "        size = i\n",
    "    elif '램 ' in i:\n",
    "        ram = i\n",
    "\n",
    "print(weight, size, ram)"
   ]
  },
  {
   "cell_type": "code",
   "execution_count": 153,
   "metadata": {},
   "outputs": [],
   "source": [
    "weight_list = []\n",
    "size_list = []\n",
    "ram_list = []\n",
    "\n",
    "for spec_data in data['스펙']:\n",
    "    spec_list = spec_data.split('|')\n",
    "    \n",
    "    # 정량적 데이터만 추출    \n",
    "    for i in spec_list:\n",
    "        if '무게' in i:\n",
    "            weight = i\n",
    "            weight = weight.split(':')[1].split('kg')[0].strip()\n",
    "        if '화면크기 :' in i:\n",
    "            size = i\n",
    "            size = size.split(':')[1].split('cm')[0].strip()\n",
    "        if '램 ' in i:\n",
    "            ram = i\n",
    "            ram = ram.split(':')[1].split('G')[0].strip()\n",
    "\n",
    "    weight_list.append(weight)\n",
    "    size_list.append(size)\n",
    "    ram_list.append(ram)"
   ]
  },
  {
   "cell_type": "code",
   "execution_count": 154,
   "metadata": {},
   "outputs": [
    {
     "name": "stdout",
     "output_type": "stream",
     "text": [
      "['1.05', '1.35', '1.81', '1.35', '1.39', '1.35', '1.05', '1.48', '1.81', '1.39', '1.28', '1.81', '1.15', '1.81', '1.55', '1.19', '1.85', '0.87', '2.2', '1.55', '1.12', '1.65', '1.29', '1.39', '1.3', '1.55', '1.81', '1.04', '1.8', '1.81', '1.3', '1.5', '2.2', '1.53', '1.59', '2.12', '2.5', '1.47', '1.14', '2.4']\n",
      "['39.62', '43.1', '39.62', '43.1', '35.56', '43.1', '39.62', '40.6', '39.62', '39.62', '33.02', '39.62', '39.62', '39.62', '39.62', '40.6', '39.62', '33.78', '43.94', '39.62', '39.62', '39.62', '33.78', '39.62', '35.81', '39.62', '39.62', '33.78', '39.62', '39.62', '33.78', '39.62', '39.62', '39.62', '39.62', '39.62', '43.94', '35.56', '35.56', '39.62']\n",
      "['16', '16', '8', '16', '8', '16', '16', '16', '4', '16', '8', '4', '16', '8', '16', '8', '8', '16', '16', '16', '16', '8', '8', '16', '4', '16', '8', '16', '8', '4', '8', '16', '16', '8', '16', '8', '16', '8', '16', '8']\n"
     ]
    }
   ],
   "source": [
    "print(weight_list)\n",
    "print(size_list)\n",
    "print(ram_list)"
   ]
  },
  {
   "cell_type": "markdown",
   "metadata": {},
   "source": [
    "**이제 단위통일을 한다. 무게는 gram으로 계산하고, 화면 크기는 현재 cm인 것을 inch로 변경한다.**"
   ]
  },
  {
   "cell_type": "code",
   "execution_count": 155,
   "metadata": {},
   "outputs": [
    {
     "name": "stdout",
     "output_type": "stream",
     "text": [
      "1050 1350 1810 1350 1390 1350 1050 1480 1810 1390 1280 1810 1150 1810 1550 1190 1850 870 2200 1550 1120 1650 1290 1390 1300 1550 1810 1040 1800 1810 1300 1500 2200 1530 1590 2120 2500 1470 1140 2400 "
     ]
    }
   ],
   "source": [
    "# i.split('.')[0] = 대부분 kg을 뜻함\n",
    "# i.split('.')[1] = 대부분 gram을 뜻함\n",
    "\n",
    "for i in weight_list:\n",
    "    if '.' in i:\n",
    "        if int(i.split('.')[1]) < 10:\n",
    "            k = int(i.split('.')[0]) * 1000\n",
    "            if i.split('.')[1][0] == '0':       # int형으로 비교를 하니 '1.05'같은 변수가 '1.5'로 인식이 된다. 때문에 이러한 조건식을 추가했다.\n",
    "                g = int(i.split('.')[1]) *10\n",
    "            else:\n",
    "                g = int(i.split('.')[1]) * 100\n",
    "        else:\n",
    "            k = int(i.split('.')[0]) * 1000\n",
    "            g = int(i.split('.')[1]) * 10\n",
    "            \n",
    "    else:\n",
    "        k = int(i) * 1000\n",
    "        g = 0\n",
    "    print(g+k, end= ' ')"
   ]
  },
  {
   "cell_type": "markdown",
   "metadata": {},
   "source": [
    "**무게를 gram 단위로 변경했다. 1kg=1000gram로 계산해서 모든 조건을 만족한다.**"
   ]
  },
  {
   "cell_type": "code",
   "execution_count": 156,
   "metadata": {},
   "outputs": [],
   "source": [
    "# 함수 생성\n",
    "def trans_weight(weight):\n",
    "    if '.' in weight:\n",
    "        if int(weight.split('.')[1]) < 10:\n",
    "            k = int(weight.split('.')[0]) * 1000\n",
    "            if weight.split('.')[1][0] == '0':\n",
    "                g = int(weight.split('.')[1]) * 10\n",
    "            else:\n",
    "                g = int(weight.split('.')[1]) * 100\n",
    "        else:\n",
    "            g = int(weight.split('.')[1]) * 10\n",
    "            k = int(weight.split('.')[0]) * 1000\n",
    "    else:\n",
    "        k = int(weight) * 1000\n",
    "        g = 0\n",
    "    \n",
    "    return g+k"
   ]
  },
  {
   "cell_type": "code",
   "execution_count": 157,
   "metadata": {},
   "outputs": [
    {
     "name": "stdout",
     "output_type": "stream",
     "text": [
      "1050 1350 1810 1350 1390 1350 1050 1480 1810 1390 1280 1810 1150 1810 1550 1190 1850 870 2200 1550 1120 1650 1290 1390 1300 1550 1810 1040 1800 1810 1300 1500 2200 1530 1590 2120 2500 1470 1140 2400 "
     ]
    }
   ],
   "source": [
    "# 무게 리스트\n",
    "for i in weight_list:\n",
    "    print(trans_weight(i), end = ' ')"
   ]
  },
  {
   "cell_type": "code",
   "execution_count": 182,
   "metadata": {},
   "outputs": [
    {
     "name": "stdout",
     "output_type": "stream",
     "text": [
      "[1050, 1350, 1810, 1350, 1390, 1350, 1050, 1480, 1810, 1390, 1280, 1810, 1150, 1810, 1550, 1190, 1850, 870, 2200, 1550, 1120, 1650, 1290, 1390, 1300, 1550, 1810, 1040, 1800, 1810, 1300, 1500, 2200, 1530, 1590, 2120, 2500, 1470, 1140, 2400] "
     ]
    }
   ],
   "source": [
    "# 변환한 무게 데이터 값을 새로운 리스트에 할당한다.\n",
    "new_weight_list =  []\n",
    "for i in weight_list:\n",
    "    value1 = trans_weight(i)\n",
    "    new_weight_list.append(value1)\n",
    "\n",
    "print(new_weight_list, end=' ')"
   ]
  },
  {
   "cell_type": "markdown",
   "metadata": {},
   "source": [
    "**마찬가지로 cm도 inch로 변경한다. 1 cm = 0.393701 inch.**"
   ]
  },
  {
   "cell_type": "code",
   "execution_count": 178,
   "metadata": {},
   "outputs": [
    {
     "name": "stdout",
     "output_type": "stream",
     "text": [
      "15.6 16.9 15.6 16.9 14.0 16.9 15.6 15.8 15.6 15.6 13.0 15.6 15.6 15.6 15.6 15.8 15.6 13.3 17.3 15.6 15.6 15.6 13.3 15.6 14.1 15.6 15.6 13.3 15.6 15.6 13.3 15.6 15.6 15.6 15.6 15.6 17.3 14.0 14.0 15.6 "
     ]
    }
   ],
   "source": [
    "for i in size_list:\n",
    "    if '.' in size:\n",
    "        cm = int(i.split('.')[0])\n",
    "        mm = int(i.split('.')[1]) / 100\n",
    "    else:\n",
    "        cm = int(i)\n",
    "        mm = 0\n",
    "\n",
    "    print(round((cm+mm)*0.393701,1), end = ' ')"
   ]
  },
  {
   "cell_type": "code",
   "execution_count": 179,
   "metadata": {},
   "outputs": [],
   "source": [
    "# 함수 생성\n",
    "\n",
    "def trans_size(size):\n",
    "    if '.' in size:\n",
    "        cm = int(size.split('.')[0])\n",
    "        mm = int(size.split('.')[1]) / 100\n",
    "    else:\n",
    "        cm = int(size)\n",
    "        mm = 0\n",
    "    \n",
    "    return round((cm+mm)*0.393701,1)"
   ]
  },
  {
   "cell_type": "code",
   "execution_count": 183,
   "metadata": {},
   "outputs": [
    {
     "name": "stdout",
     "output_type": "stream",
     "text": [
      "[15.6, 16.9, 15.6, 16.9, 14.0, 16.9, 15.6, 15.8, 15.6, 15.6, 13.0, 15.6, 15.6, 15.6, 15.6, 15.8, 15.6, 13.3, 17.3, 15.6, 15.6, 15.6, 13.3, 15.6, 14.1, 15.6, 15.6, 13.3, 15.6, 15.6, 13.3, 15.6, 15.6, 15.6, 15.6, 15.6, 17.3, 14.0, 14.0, 15.6] "
     ]
    }
   ],
   "source": [
    "# 새로운 리스트에 할당\n",
    "new_size_list = []\n",
    "for i in size_list:\n",
    "    value2 = trans_size(i)\n",
    "    new_size_list.append(value2)\n",
    "\n",
    "print(new_size_list, end=' ')"
   ]
  },
  {
   "cell_type": "markdown",
   "metadata": {},
   "source": [
    "**ram_list의 값도 정수형으로 변경하자**"
   ]
  },
  {
   "cell_type": "code",
   "execution_count": 135,
   "metadata": {},
   "outputs": [
    {
     "name": "stdout",
     "output_type": "stream",
     "text": [
      "['16', '16', '8', '16', '8', '16', '16', '16', '4', '16', '8', '4', '16', '8', '16', '8', '8', '16', '16', '16', '16', '8', '8', '16', '4', '16', '8', '16', '8', '4', '8', '16', '16', '8', '16', '8', '16', '8', '16', '8']"
     ]
    }
   ],
   "source": [
    "print(ram_list, end ='')"
   ]
  },
  {
   "cell_type": "code",
   "execution_count": 184,
   "metadata": {},
   "outputs": [],
   "source": [
    "def trans_ram(ram):\n",
    "    return int(ram)"
   ]
  },
  {
   "cell_type": "code",
   "execution_count": 185,
   "metadata": {},
   "outputs": [
    {
     "name": "stdout",
     "output_type": "stream",
     "text": [
      "[16, 16, 8, 16, 8, 16, 16, 16, 4, 16, 8, 4, 16, 8, 16, 8, 8, 16, 16, 16, 16, 8, 8, 16, 4, 16, 8, 16, 8, 4, 8, 16, 16, 8, 16, 8, 16, 8, 16, 8] "
     ]
    }
   ],
   "source": [
    "new_ram_list = []\n",
    "for i in ram_list:\n",
    "    value3 = trans_ram(i)\n",
    "    new_ram_list.append(value3)\n",
    "\n",
    "print(new_ram_list, end = ' ')"
   ]
  },
  {
   "cell_type": "markdown",
   "metadata": {},
   "source": [
    "**전처리 결과를 엑셀로 저장**"
   ]
  },
  {
   "cell_type": "code",
   "execution_count": 189,
   "metadata": {},
   "outputs": [],
   "source": [
    "pd_data = pd.DataFrame()\n",
    "pd_data['회사명'] = company_list\n",
    "pd_data['상품명'] = notebook_list\n",
    "pd_data['가격'] = data['가격']\n",
    "pd_data['무게'] = new_weight_list\n",
    "pd_data['화면크기'] = new_size_list\n",
    "pd_data['램'] = new_ram_list\n",
    "\n",
    "pd_data.to_excel('C:/Users/yj/Desktop/naver_shopping_notebook.xlsx',index = False)"
   ]
  }
 ],
 "metadata": {
  "interpreter": {
   "hash": "b3ba2566441a7c06988d0923437866b63cedc61552a5af99d1f4fb67d367b25f"
  },
  "kernelspec": {
   "display_name": "Python 3.9.7 64-bit ('base': conda)",
   "language": "python",
   "name": "python3"
  },
  "language_info": {
   "codemirror_mode": {
    "name": "ipython",
    "version": 3
   },
   "file_extension": ".py",
   "mimetype": "text/x-python",
   "name": "python",
   "nbconvert_exporter": "python",
   "pygments_lexer": "ipython3",
   "version": "3.9.7"
  },
  "orig_nbformat": 4
 },
 "nbformat": 4,
 "nbformat_minor": 2
}
