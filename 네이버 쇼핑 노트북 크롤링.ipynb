{
 "cells": [
  {
   "cell_type": "markdown",
   "metadata": {},
   "source": [
    "네이버 쇼핑 페이지에서 [전체]-[네이버 랭킹순] 정렬만을 적용한 후 데이터를 수집한다.\n",
    "---"
   ]
  },
  {
   "cell_type": "markdown",
   "metadata": {},
   "source": [
    "selenium, webdriver 임포트 및 해당 페이지 주소 가져오기"
   ]
  },
  {
   "cell_type": "code",
   "execution_count": 14,
   "metadata": {},
   "outputs": [
    {
     "name": "stderr",
     "output_type": "stream",
     "text": [
      "C:\\Users\\yj\\AppData\\Local\\Temp/ipykernel_2744/1580012337.py:2: DeprecationWarning: executable_path has been deprecated, please pass in a Service object\n",
      "  driver = webdriver.Chrome('C:/Users/yj/Desktop/datasalon/chromedriver.exe')\n"
     ]
    }
   ],
   "source": [
    "from selenium import webdriver\n",
    "driver = webdriver.Chrome('C:/Users/yj/Desktop/datasalon/chromedriver.exe')\n",
    "url = 'https://search.shopping.naver.com/search/all?query=%EB%85%B8%ED%8A%B8%EB%B6%81&bt=-1&frm=NVSCDIG'\n",
    "driver.get(url)"
   ]
  },
  {
   "cell_type": "code",
   "execution_count": 15,
   "metadata": {},
   "outputs": [],
   "source": [
    "from bs4 import BeautifulSoup\n",
    "\n",
    "html = driver.page_source\n",
    "soup = BeautifulSoup(html, 'html.parser')"
   ]
  },
  {
   "cell_type": "markdown",
   "metadata": {},
   "source": [
    "해당 페이지는 반응형 웹(Responsive Web)으로 구현되어 있어, 스크롤을 내리면 어느 수준까지 창이 늘어나고 정보가 추가된다.\n",
    "따라서 모든 정보를 노출시킨 다음에 진행했다."
   ]
  },
  {
   "cell_type": "code",
   "execution_count": 16,
   "metadata": {},
   "outputs": [
    {
     "data": {
      "text/plain": [
       "46"
      ]
     },
     "execution_count": 16,
     "metadata": {},
     "output_type": "execute_result"
    }
   ],
   "source": [
    "notebooks = soup.select('li.basicList_item__2XT81 > div.basicList_inner__eY_mq > div.basicList_info_area__17Xyo')\n",
    "len(notebooks)"
   ]
  },
  {
   "cell_type": "code",
   "execution_count": 17,
   "metadata": {},
   "outputs": [
    {
     "name": "stdout",
     "output_type": "stream",
     "text": [
      "포유디지탈 아이뮤즈 스톰북 윈도우10포함\n"
     ]
    }
   ],
   "source": [
    "name = soup.select('div.basicList_title__3P9Q7> a')[0].text.strip()\n",
    "print(name)"
   ]
  },
  {
   "cell_type": "code",
   "execution_count": 18,
   "metadata": {},
   "outputs": [
    {
     "data": {
      "text/plain": [
       "'206000'"
      ]
     },
     "execution_count": 18,
     "metadata": {},
     "output_type": "execute_result"
    }
   ],
   "source": [
    "price = soup.select('strong.basicList_price__2r23_ > span > span.price_num__2WUXn')[0].text.strip()\n",
    "## 최저~원으로 뜨는거 정확하게 ~ 부분만 추출\n",
    "price.split('원')[0].replace(',','')"
   ]
  },
  {
   "cell_type": "code",
   "execution_count": 19,
   "metadata": {},
   "outputs": [
    {
     "data": {
      "text/plain": [
       "'화면크기 : 35.81cm(14.1인치)|무게 : 1.3|종류 : 셀러론|운영체제 : 윈도우10 홈|CPU : N3350|칩셋 제조사 : 인텔|코어종류 : 듀얼코어|CPU속도 : 1.1GHz|터보코어 : 2.4GHz|램 : 4GB|메모리 타입 : LPDDR3|해상도 : 1366x768(FWXGA)|bit유형 : 64|블루투스 : 블루투스 4.2|유선랜 : 유선랜없음|영상출력 : HDMI|단자 : USB3.0, USB2.0|부가기능 : 웹캠|배터리 타입 : 리튬이온|배터리용량 : 37Wh|사용시간 : 최대10시간|웹카메라 : 전면|품목 : 노트북|두께 : 1.7'"
      ]
     },
     "execution_count": 19,
     "metadata": {},
     "output_type": "execute_result"
    }
   ],
   "source": [
    "spec = soup.select('div.basicList_detail_box__3ta3h')[0].text.strip()\n",
    "spec"
   ]
  },
  {
   "cell_type": "code",
   "execution_count": 20,
   "metadata": {},
   "outputs": [
    {
     "name": "stdout",
     "output_type": "stream",
     "text": [
      "46\n"
     ]
    },
    {
     "data": {
      "text/plain": [
       "[['포유디지탈 아이뮤즈 스톰북 윈도우10포함',\n",
       "  '206000',\n",
       "  '화면크기 : 35.81cm(14.1인치)|무게 : 1.3|종류 : 셀러론|운영체제 : 윈도우10 홈|CPU : N3350|칩셋 제조사 : 인텔|코어종류 : 듀얼코어|CPU속도 : 1.1GHz|터보코어 : 2.4GHz|램 : 4GB|메모리 타입 : LPDDR3|해상도 : 1366x768(FWXGA)|bit유형 : 64|블루투스 : 블루투스 4.2|유선랜 : 유선랜없음|영상출력 : HDMI|단자 : USB3.0, USB2.0|부가기능 : 웹캠|배터리 타입 : 리튬이온|배터리용량 : 37Wh|사용시간 : 최대10시간|웹카메라 : 전면|품목 : 노트북|두께 : 1.7'],\n",
       " ['한성컴퓨터 TFX7130H',\n",
       "  '1049000',\n",
       "  '화면크기 : 43.94cm(17.3인치)|무게 : 2kg|종류 : 코어i5 11세대|운영체제 : 미포함(FreeDos)|CPU : 코어i5-11300H|칩셋 제조사 : 인텔|코어종류 : 쿼드코어|코드명 : 타이거레이크|CPU속도 : 3.1GHz|터보부스트 : 4.4GHz|램 : 16GB|메모리 타입 : DDR4|인텔 GPU : Iris Xe Graphics|그래픽 메모리 : 시스템 메모리 공유|해상도 : 1920x1080(FHD)|패널 : IPS패널(광시야각)|화면비율 : 16대9|베젤 : 슬림베젤|sRGB : 100%|NTSC : 72%|밝기 : 300nit|패널코팅 : 안티글레어|무선랜 : 802.11 ax(Wi-Fi6)|블루투스 : 블루투스5.2|유선랜 : 유선랜(기가비트)|영상출력 : HDMI, 썬더볼트4|단자 : USB Type C, USB2.0, USB3.1|카드 슬롯 : MicroSD카드|부가기능 : 웹캠, 키보드라이트(RGB), USB-PD|SSD : 500GB|SSD 인터페이스 : M.2|배터리용량 : 73Wh|충전단자 : DC|웹카메라 : 전면(100만)|스피커 : 스테레오스피커|무상AS : 1년|품목 : 노트북|두께 : 2.2cm|입력장치 : 멀티제스처패드'],\n",
       " ['주연테크 캐리북e J3GW',\n",
       "  '359000',\n",
       "  '화면크기 : 35.56cm(14인치)|무게 : 1.45kg|종류 : 셀러론|운영체제 : 윈도우10 프로|CPU : 셀러론-N4020|칩셋 제조사 : 인텔|코어종류 : 듀얼코어|코드명 : 제미니레이크|CPU속도 : 1.1GHz|터보부스트 : 2.8GHz|램 : 4GB|메모리 타입 : DDR4|인텔 GPU : UHD600|그래픽 메모리 : 시스템 메모리 공유|해상도 : 1920x1080(FHD)|패널 : IPS패널(광시야각)|화면비율 : 16대9|디스플레이 특징 : 자동 밝기 조절|베젤 : 슬림베젤|sRGB : 100%|NTSC : 72%|밝기 : 300nit|특징 : 울트라북, 가벼운노트북, 미니, 넷북, 크롬북, 학습,사무용, 휴대용|bit유형 : 64|패널코팅 : 안티글레어|무선랜 : 802.11 ac(Wi-Fi5)|블루투스 : 블루투스5.0|영상출력 : 다중모니터연결(2개), miniHDMI|단자 : USB Type C, USB3.0|카드 슬롯 : MicroSD카드|방향키 : ㅗ형|부가기능 : 키보드라이트, 웹캠, 고속충전, 키보드라이트(LED), 팬리스(무소음), 퀵충전, USB-PD|SSD : 128GB|SSD 인터페이스 : eMMC|충전단자 : DC, Type C|사용시간 : 최대10시간|저전력 : O|웹카메라 : 전면(200만)|무상AS : 1년|품목 : 노트북|두께 : 1.63cm|디자인 : Single-Shell Body|색상 : 화이트|보안기능 : 충격보호, TPM'],\n",
       " ['LG전자 LG그램 17Z95P-GA76K',\n",
       "  '2329000',\n",
       "  '화면크기 : 43.1cm(17인치)|무게 : 1.35kg|종류 : 코어i7 11세대|운영체제 : 윈도우11 홈|CPU : 코어i7-1195G7|칩셋 제조사 : 인텔|코어종류 : 쿼드코어|코드명 : 타이거레이크|CPU속도 : 2.9GHz|터보부스트 : 5.0GHz|램 : 16GB|메모리 타입 : LPDDR4x|인텔 GPU : Iris Xe Graphics|그래픽 메모리 : 시스템 메모리 공유|해상도 : 2560x1600(WQXGA)|패널 : IPS패널(광시야각)|화면비율 : 16대10|베젤 : 슬림베젤|디스플레이 종류 : LCD|bit유형 : 64|무선랜 : 802.11 ax(Wi-Fi6)|블루투스 : 지원|유선랜 : 유선랜(기가비트)|영상출력 : HDMI, 썬더볼트4|단자 : USB Type C, USB3.1, USB4|카드 슬롯 : UFS|부가기능 : 키보드라이트, 웹캠, MIL-STD, USB-PD, Evo 플랫폼 인증|SSD : 512GB|SSD 인터페이스 : M.2|배터리 타입 : 리튬이온|배터리용량 : 80Wh|웹카메라 : 전면|스피커 : 스테레오스피커|사운드 : DTS: X Ultra|품목 : 노트북|두께 : 1.78cm|DCI-P3 : 99%|보안기능 : 지문인식'],\n",
       " ['LG전자 그램360 16T90P-GAF6K',\n",
       "  '1989000',\n",
       "  '화면크기 : 40.6cm(16인치)|무게 : 1.48kg|종류 : 코어i5 11세대|운영체제 : 윈도우11 홈|CPU : 코어i5-1135G7|칩셋 제조사 : 인텔|코어종류 : 쿼드코어|코드명 : 타이거레이크|CPU속도 : 2.4GHz|터보부스트 : 4.2GHz|램 : 16GB|메모리 타입 : LPDDR4x|인텔 GPU : Iris Xe Graphics|그래픽 메모리 : 시스템 메모리 공유|해상도 : 2560x1600(WQXGA)|패널 : IPS패널(광시야각)|화면비율 : 16대10|디스플레이 특징 : 터치스크린|디스플레이 종류 : LCD|화면펼침 : 360˚|터치 : 터치화면|bit유형 : 64|무선랜 : 802.11 ax(Wi-Fi6)|블루투스 : 지원|영상출력 : 썬더볼트4|단자 : USB Type C, USB3.1, USB4|카드 슬롯 : UFS, MicroSD카드|부가기능 : 키보드라이트, 웹캠, 180˚화면펼침, 터치펜(와콤), MIL-STD, 175˚화면펼침, 360˚회전화면, USB-PD, Evo 플랫폼 인증|SSD : 256GB|SSD 인터페이스 : NVMe|배터리 타입 : 리튬이온|배터리용량 : 80Wh|웹카메라 : 전면|스피커 : 스테레오스피커|사운드 : DTS: X Ultra|품목 : 노트북|두께 : 1.695cm|보안기능 : 지문인식'],\n",
       " ['레노버 요가 Slim7-14ARE R5 Max',\n",
       "  '828940',\n",
       "  '화면크기 : 35.56cm(14인치)|무게 : 1.39kg|종류 : 라이젠5-3세대|운영체제 : 윈도우10|CPU : 라이젠5-4600U|칩셋 제조사 : AMD|코어종류 : 헥사코어|코드명 : 르누아르|CPU속도 : 2.1GHz|터보부스트 : 4.0GHz|램 : 8GB|메모리 타입 : LPDDR4x|AMD GPU : 라데온 Graphics|그래픽 메모리 : 시스템 메모리 공유|해상도 : 1920x1080(FHD)|패널 : IPS패널(광시야각)|화면비율 : 16대9|베젤 : 슬림베젤|sRGB : 100%|NTSC : 72%|화면펼침 : 180˚|밝기 : 300nit|특징 : 학습,사무용|무선랜 : 802.11 ax(Wi-Fi6)|블루투스 : 블루투스5.0|영상출력 : DisplayPort, HDMI(2.0)|단자 : USB Type C, USB3.0|카드 슬롯 : MicroSD카드|방향키 : ㅡ형|부가기능 : 웹캠, 고속충전, USB-PD|SSD : 512GB|SSD 인터페이스 : M.2|배터리용량 : 61Wh|충전단자 : Type C|웹카메라 : 전면|무상AS : 3년|품목 : 노트북|두께 : 1.49cm|입력장치 : 독립형키보드|보안기능 : 얼굴인식'],\n",
       " ['삼성전자 갤럭시북 프로 NT950XDY-A51A',\n",
       "  '1349000',\n",
       "  '화면크기 : 39.62cm(15.6인치)|무게 : 1.05kg|종류 : 코어i5 11세대|운영체제 : 리눅스|CPU : 코어i5-1135G7|칩셋 제조사 : 인텔|코어종류 : 쿼드코어|코드명 : 타이거레이크|CPU속도 : 2.4GHz|터보부스트 : 4.2GHz|램 : 16GB|메모리 타입 : LPDDR4x|인텔 GPU : Iris Xe Graphics|그래픽 메모리 : 시스템 메모리 공유|해상도 : 1920x1080(FHD)|패널 : AMOLED패널|무선랜 : 802.11 ax(Wi-Fi6)|블루투스 : 블루투스5.1|영상출력 : HDMI, 썬더볼트4|단자 : USB Type C|카드 슬롯 : MicroSD카드|부가기능 : 키보드라이트, 웹캠, 고속충전, MIL-STD|SSD : 256GB|SSD 인터페이스 : NVMe|배터리용량 : 68Wh|사용시간 : 최대20시간|웹카메라 : 전면|스피커 : AKG스테레오스피커|사운드 : 돌비Atoms오디오|품목 : 노트북|두께 : 1.17cm|입력장치 : 숫자키패드|보안기능 : 지문인식, TPM'],\n",
       " ['LG전자 LG그램 17ZD95P-GX56K',\n",
       "  '1769000',\n",
       "  '화면크기 : 43.1cm(17인치)|무게 : 1.35kg|종류 : 코어i5 11세대|운영체제 : 미포함(FreeDos)|CPU : 코어i5-1155G7|칩셋 제조사 : 인텔|코어종류 : 쿼드코어|코드명 : 타이거레이크|CPU속도 : 2.5GHz|터보부스트 : 4.5GHz|램 : 16GB|메모리 타입 : LPDDR4x|인텔 GPU : Iris Xe Graphics|그래픽 메모리 : 시스템 메모리 공유|해상도 : 2560x1600(WQXGA)|패널 : IPS패널(광시야각)|화면비율 : 16대10|베젤 : 슬림베젤|디스플레이 종류 : LCD|무선랜 : 802.11 ax(Wi-Fi6)|블루투스 : 지원|유선랜 : 유선랜(기가비트)|영상출력 : HDMI, 썬더볼트4|단자 : USB Type C, USB3.1, USB4|카드 슬롯 : UFS|부가기능 : 키보드라이트, 웹캠, MIL-STD, USB-PD|SSD : 256GB|SSD 인터페이스 : M.2|배터리 타입 : 리튬이온|배터리용량 : 80Wh|웹카메라 : 전면|스피커 : 스테레오스피커|사운드 : DTS: X Ultra|품목 : 노트북|두께 : 1.78cm|DCI-P3 : 99%|보안기능 : 지문인식'],\n",
       " ['삼성전자 노트북 플러스2 NT550XDA-K14A',\n",
       "  '519000',\n",
       "  '화면크기 : 39.62cm(15.6인치)|무게 : 1.81kg|종류 : 셀러론|운영체제 : 윈도우11 프로|CPU : 셀러론-6305|칩셋 제조사 : 인텔|코어종류 : 듀얼코어|코드명 : 타이거레이크|CPU속도 : 1.8GHz|램 : 4GB|메모리 타입 : DDR4|인텔 GPU : UHD Graphics|그래픽 메모리 : 시스템 메모리 공유|해상도 : 1920x1080(FHD)|베젤 : 슬림베젤|패널코팅 : 안티글레어|무선랜 : 802.11 ax(Wi-Fi6)|블루투스 : 블루투스5.1|유선랜 : 유선랜있음|영상출력 : HDMI|단자 : USB Type C, USB3.0, USB2.0|카드 슬롯 : MicroSD카드, 멀티리더기|부가기능 : 웹캠|SSD : 128GB|SSD 인터페이스 : NVMe|배터리용량 : 43Wh|충전단자 : DC|웹카메라 : 전면|스피커 : 스테레오스피커|품목 : 노트북|두께 : 1.88cm|조명 : LED백라이트|입력장치 : 숫자키패드|보안기능 : TPM'],\n",
       " ['베이직스 베이직북13 2세대 BB1321FW',\n",
       "  '388000',\n",
       "  '화면크기 : 33.02cm(13인치)|무게 : 1.28kg|종류 : 셀러론|운영체제 : 윈도우10|CPU : 셀러론-N4120|칩셋 제조사 : 인텔|코어종류 : 쿼드코어|코드명 : 제미니레이크|CPU속도 : 1.1GHz|터보부스트 : 2.6GHz|램 : 8GB|해상도 : 1920x1080(FHD)|패널 : IPS패널(광시야각)|무선랜 : 802.11 ac(Wi-Fi5)|블루투스 : 블루투스 4.0|영상출력 : miniHDMI|단자 : USB Type C, USB3.0, USB2.0|부가기능 : 웹캠|SSD : 256GB|배터리용량 : 38Wh|웹카메라 : 전면|무상AS : 1년|품목 : 노트북|두께 : 1.8cm'],\n",
       " ['삼성전자 노트북 플러스2 NT550XDA-K24A',\n",
       "  '598000',\n",
       "  '화면크기 : 39.62cm(15.6인치)|무게 : 1.81kg|종류 : 펜티엄|운영체제 : 윈도우11 프로|CPU : 펜티엄-7505|칩셋 제조사 : 인텔|코드명 : 타이거레이크|CPU속도 : 2.0GHz|터보부스트 : 3.5GHz|램 : 4GB|메모리 타입 : DDR4|인텔 GPU : UHD Graphics|그래픽 메모리 : 시스템 메모리 공유|해상도 : 1920x1080(FHD)|베젤 : 슬림베젤|패널코팅 : 안티글레어|무선랜 : 802.11 ax(Wi-Fi6)|블루투스 : 블루투스5.1|유선랜 : 유선랜(기가비트)|영상출력 : HDMI|단자 : USB Type C, USB3.0, USB2.0|카드 슬롯 : MicroSD카드|부가기능 : 웹캠|SSD : 128GB|SSD 인터페이스 : NVMe|배터리용량 : 43Wh|충전단자 : DC|웹카메라 : 전면|스피커 : 스테레오스피커|품목 : 노트북|두께 : 1.88cm|조명 : LED백라이트|보안기능 : TPM'],\n",
       " ['삼성전자 갤럭시북 프로 NT950XDC-X71A',\n",
       "  '1915800',\n",
       "  '화면크기 : 39.62cm(15.6인치)|무게 : 1.15kg|종류 : 코어i7 11세대|운영체제 : 윈도우11 홈|CPU : 코어i7-1165G7|칩셋 제조사 : 인텔|코어종류 : 쿼드코어|코드명 : 타이거레이크|CPU속도 : 2.8GHz|터보부스트 : 4.7GHz|램 : 16GB|메모리 타입 : LPDDR4x|NVIDIA GPU : 지포스 MX450|그래픽 메모리 : 2GB|해상도 : 1920x1080(FHD)|패널 : AMOLED패널|무선랜 : 802.11 ax(Wi-Fi6)|블루투스 : 블루투스5.1|영상출력 : HDMI, 썬더볼트4|단자 : USB Type C|카드 슬롯 : MicroSD카드|부가기능 : 키보드라이트, 웹캠, 고속충전, MIL-STD|SSD : 512GB|SSD 인터페이스 : NVMe|배터리용량 : 68Wh|충전단자 : Type C|사용시간 : 최대20시간|웹카메라 : 전면|스피커 : AKG스테레오스피커|사운드 : 돌비Atoms오디오|품목 : 노트북|두께 : 1.33cm|입력장치 : 숫자키패드|보안기능 : 지문인식, TPM'],\n",
       " ['삼성전자 노트북 플러스2 NT550XDZ-AD5A',\n",
       "  '698000',\n",
       "  '화면크기 : 39.62cm(15.6인치)|무게 : 1.81kg|종류 : 코어i5 11세대|운영체제 : 리눅스|CPU : 코어i5-1135G7|칩셋 제조사 : 인텔|코어종류 : 쿼드코어|코드명 : 타이거레이크|CPU속도 : 2.4GHz|터보부스트 : 4.2GHz|램 : 8GB|메모리 타입 : DDR4|인텔 GPU : Iris Xe Graphics|그래픽 메모리 : 시스템 메모리 공유|해상도 : 1920x1080(FHD)|패널 : PLS패널(광시야각)|화면비율 : 16대9|베젤 : 슬림베젤|무선랜 : 802.11 ax(Wi-Fi6)|블루투스 : 블루투스5.0|유선랜 : 유선랜(기가비트)|영상출력 : HDMI|단자 : USB Type C, USB3.0, USB2.0|카드 슬롯 : MicroSD카드|부가기능 : 웹캠|SSD : 256GB|SSD 인터페이스 : NVMe|배터리용량 : 43Wh|충전단자 : DC|웹카메라 : 전면|스피커 : 스테레오스피커|품목 : 노트북|두께 : 1.88cm|조명 : LED백라이트|입력장치 : 숫자키패드|보안기능 : TPM'],\n",
       " ['삼성전자 갤럭시북 프로360 NT950QDY-A51A',\n",
       "  '1697990',\n",
       "  '화면크기 : 39.62cm(15.6인치)|무게 : 1.39kg|종류 : 코어i5 11세대|운영체제 : 리눅스|CPU : 코어i5-1135G7|칩셋 제조사 : 인텔|코어종류 : 쿼드코어|코드명 : 타이거레이크|CPU속도 : 2.4GHz|터보부스트 : 4.2GHz|램 : 16GB|메모리 타입 : LPDDR4x|인텔 GPU : Iris Xe Graphics|그래픽 메모리 : 시스템 메모리 공유|해상도 : 1920x1080(FHD)|패널 : AMOLED패널|디스플레이 특징 : 터치스크린|화면펼침 : 360˚|터치 : 터치화면|무선랜 : 802.11 ax(Wi-Fi6)|블루투스 : 블루투스5.1|영상출력 : 썬더볼트4|단자 : USB Type C|카드 슬롯 : MicroSD카드|부가기능 : 키보드라이트, 웹캠, 고속충전, S펜, MIL-STD|SSD : 256GB|SSD 인터페이스 : NVMe|배터리용량 : 68Wh|충전단자 : Type C|사용시간 : 최대20시간|웹카메라 : 전면|스피커 : AKG스테레오스피커|사운드 : 돌비Atoms오디오|품목 : 노트북|두께 : 1.19cm|입력장치 : 숫자키패드|보안기능 : 지문인식, TPM'],\n",
       " ['삼성전자 갤럭시북 NT750XDZ-A51A',\n",
       "  '974000',\n",
       "  '화면크기 : 39.62cm(15.6인치)|무게 : 1.55kg|종류 : 코어i5 11세대|운영체제 : 미포함(FreeDos)|CPU : 코어i5-1135G7|칩셋 제조사 : 인텔|코어종류 : 쿼드코어|코드명 : 타이거레이크|CPU속도 : 2.4GHz|터보부스트 : 4.2GHz|램 : 16GB|메모리 타입 : LPDDR4x|인텔 GPU : Iris Xe Graphics|그래픽 메모리 : 시스템 메모리 공유|해상도 : 1920x1080(FHD)|패널 : 광시야각|베젤 : 슬림베젤|패널코팅 : 안티글레어|무선랜 : 802.11 ax(Wi-Fi6)|블루투스 : 블루투스5.1|영상출력 : HDMI|단자 : USB Type C|카드 슬롯 : MicroSD카드|부가기능 : 웹캠|SSD : 256GB|SSD 인터페이스 : NVMe|배터리용량 : 54Wh|충전단자 : Type C|웹카메라 : 전면|스피커 : 스테레오스피커|사운드 : 돌비Atoms오디오|품목 : 노트북|두께 : 1.54cm|조명 : LED백라이트|입력장치 : 숫자키패드|보안기능 : TPM'],\n",
       " ['LG전자 그램16 16ZD90P-GX50K',\n",
       "  '1499990',\n",
       "  '화면크기 : 40.6cm(16인치)|무게 : 1.19kg|종류 : 코어i5 11세대|운영체제 : 미포함(FreeDos)|CPU : 코어i5-1135G7|칩셋 제조사 : 인텔|코어종류 : 쿼드코어|코드명 : 타이거레이크|CPU속도 : 2.4GHz|터보부스트 : 4.2GHz|램 : 8GB|메모리 타입 : LPDDR4x|인텔 GPU : Iris Xe Graphics|그래픽 메모리 : 시스템 메모리 공유|해상도 : 2560x1600(WQXGA)|패널 : IPS패널(광시야각)|화면비율 : 16대10|베젤 : 슬림베젤|무선랜 : 802.11 ax(Wi-Fi6)|블루투스 : 지원|유선랜 : 유선랜있음|영상출력 : HDMI, 썬더볼트4|단자 : USB Type C, USB3.1|카드 슬롯 : UFS|부가기능 : 키보드라이트, 웹캠, USB-PD|SSD : 256GB|SSD 인터페이스 : M.2|HDD 용량 : 미포함|ODD : 광Drive없음|배터리 타입 : 리튬이온|배터리용량 : 80Wh|충전단자 : Type C|웹카메라 : 전면|사운드 : DTS: X Ultra|품목 : 노트북|두께 : 1.68|조명 : LED백라이트|색상 : 스노우화이트|DCI-P3 : 99%|보안기능 : 지문인식'],\n",
       " ['삼성전자 노트북 플러스2 NT560XDZ-G78A',\n",
       "  '1330000',\n",
       "  '화면크기 : 39.62cm(15.6인치)|무게 : 1.85kg|종류 : 코어i7 11세대|운영체제 : 미포함(FreeDos)|CPU : 코어i7-1165G7|칩셋 제조사 : 인텔|코어종류 : 쿼드코어|코드명 : 타이거레이크|CPU속도 : 2.8GHz|터보부스트 : 4.7GHz|램 : 8GB|메모리 타입 : DDR4|NVIDIA GPU : 지포스 GTX1650 Ti Max-Q|인텔 GPU : Iris Xe Graphics|그래픽 메모리 : 4GB|해상도 : 1920x1080(FHD)|패널 : 광시야각|화면비율 : 16대9|디스플레이 종류 : QLED|패널코팅 : 안티글레어|무선랜 : 802.11 ac(Wi-Fi5)|블루투스 : 블루투스5.0|유선랜 : 유선랜(1Gbps)|영상출력 : HDMI|단자 : USB Type C, USB3.0, USB2.0|카드 슬롯 : MicroSD카드|부가기능 : 웹캠|SSD : 256GB|SSD 인터페이스 : NVMe|배터리용량 : 43Wh|충전단자 : DC|웹카메라 : 전면|품목 : 노트북|두께 : 1.89|색상 : 블랙'],\n",
       " ['삼성전자 갤럭시북 프로 NT930XDY-A51A',\n",
       "  '1248990',\n",
       "  '화면크기 : 33.78cm(13.3인치)|무게 : 0.87kg|종류 : 코어i5 11세대|운영체제 : 리눅스|CPU : 코어i5-1135G7|칩셋 제조사 : 인텔|코어종류 : 쿼드코어|코드명 : 타이거레이크|CPU속도 : 2.4GHz|터보부스트 : 4.2GHz|램 : 16GB|메모리 타입 : LPDDR4x|인텔 GPU : Iris Xe Graphics|그래픽 메모리 : 시스템 메모리 공유|해상도 : 1920x1080(FHD)|패널 : AMOLED패널|특징 : 가벼운노트북|무선랜 : 802.11 ax(Wi-Fi6)|블루투스 : 블루투스5.1|영상출력 : HDMI, 썬더볼트4|단자 : USB Type C|카드 슬롯 : MicroSD카드|부가기능 : 키보드라이트, 웹캠, 고속충전, MIL-STD|SSD : 256GB|SSD 인터페이스 : NVMe|배터리용량 : 63Wh|충전단자 : Type C|웹카메라 : 전면|스피커 : AKG스테레오스피커|사운드 : 돌비Atoms오디오|품목 : 노트북|두께 : 1.12cm|보안기능 : 지문인식, TPM'],\n",
       " ['삼성전자 갤럭시북 NT750XDZ-A71A',\n",
       "  '1298000',\n",
       "  '화면크기 : 39.62cm(15.6인치)|무게 : 1.55kg|종류 : 코어i7 11세대|운영체제 : 미포함(FreeDos)|CPU : 코어i7-1165G7|칩셋 제조사 : 인텔|코어종류 : 쿼드코어|코드명 : 타이거레이크|CPU속도 : 2.8GHz|터보부스트 : 4.7GHz|램 : 16GB|메모리 타입 : LPDDR4x|인텔 GPU : Iris Xe Graphics|그래픽 메모리 : 시스템 메모리 공유|해상도 : 1920x1080(FHD)|패널 : 광시야각|베젤 : 슬림베젤|패널코팅 : 안티글레어|무선랜 : 802.11 ax(Wi-Fi6)|블루투스 : 블루투스5.1|영상출력 : HDMI|단자 : USB Type C|카드 슬롯 : MicroSD카드|부가기능 : 웹캠|SSD : 512GB|SSD 인터페이스 : NVMe|배터리용량 : 54Wh|충전단자 : Type C|웹카메라 : 전면|스피커 : 스테레오스피커|사운드 : 돌비Atoms오디오|품목 : 노트북|두께 : 1.54cm|조명 : LED백라이트|입력장치 : 숫자키패드|보안기능 : TPM'],\n",
       " ['LG전자 LG그램 15ZD95P-GX56K',\n",
       "  '1469000',\n",
       "  '화면크기 : 39.62cm(15.6인치)|무게 : 1.12 kg|종류 : 코어i5 11세대|운영체제 : 미포함(FreeDos)|CPU : 코어i5-1155G7|칩셋 제조사 : 인텔|코어종류 : 쿼드코어|코드명 : 타이거레이크|CPU속도 : 2.5GHz|터보부스트 : 4.5GHz|램 : 16GB|메모리 타입 : LPDDR4x|인텔 GPU : Iris Xe Graphics|그래픽 메모리 : 시스템 메모리 공유|해상도 : 1920x1080(FHD)|패널 : IPS패널(광시야각)|디스플레이 종류 : LCD|무선랜 : 802.11 ax(Wi-Fi6)|블루투스 : 지원|유선랜 : 유선랜(기가비트)|영상출력 : HDMI, 썬더볼트4|단자 : USB Type C, USB3.0, USB4|카드 슬롯 : UFS|부가기능 : 키보드라이트, 웹캠, MIL-STD, USB-PD|SSD : 256GB|SSD 인터페이스 : M.2|배터리 타입 : 리튬이온|배터리용량 : 80Wh|웹카메라 : 전면|스피커 : 스테레오스피커|사운드 : DTS: X Ultra|품목 : 노트북|두께 : 1.74 cm|보안기능 : 지문인식'],\n",
       " ['삼성전자 갤럭시북 프로360 NT930QDY-A51A',\n",
       "  '1549000',\n",
       "  '화면크기 : 33.78cm(13.3인치)|무게 : 1.04kg|종류 : 코어i5 11세대|운영체제 : 리눅스|CPU : 코어i5-1135G7|칩셋 제조사 : 인텔|코어종류 : 쿼드코어|코드명 : 타이거레이크|CPU속도 : 2.4GHz|터보부스트 : 4.2GHz|램 : 16GB|메모리 타입 : LPDDR4x|인텔 GPU : Iris Xe Graphics|그래픽 메모리 : 시스템 메모리 공유|해상도 : 1920x1080(FHD)|패널 : AMOLED패널|디스플레이 특징 : 터치스크린|화면펼침 : 360˚|터치 : 터치화면|무선랜 : 802.11 ax(Wi-Fi6)|블루투스 : 블루투스5.1|영상출력 : 썬더볼트4|단자 : USB Type C|카드 슬롯 : MicroSD카드|부가기능 : 키보드라이트, 웹캠, 고속충전, S펜, MIL-STD|SSD : 256GB|SSD 인터페이스 : NVMe|배터리용량 : 63Wh|충전단자 : Type C|웹카메라 : 전면|스피커 : AKG스테레오스피커|사운드 : 돌비Atoms오디오|품목 : 노트북|두께 : 1.15cm|보안기능 : 지문인식, TPM'],\n",
       " ['삼성전자 노트북 플러스2 NT550XDZ-AD3A',\n",
       "  '599000',\n",
       "  '화면크기 : 39.62cm(15.6인치)|무게 : 1.81kg|종류 : 코어i3 11세대|운영체제 : 리눅스|CPU : 코어i3-1115G4|칩셋 제조사 : 인텔|코어종류 : 듀얼코어|코드명 : 타이거레이크|CPU속도 : 3.0GHz|터보부스트 : 4.1GHz|램 : 8GB|메모리 타입 : DDR4|인텔 GPU : UHD Graphics|그래픽 메모리 : 시스템 메모리 공유|해상도 : 1920x1080(FHD)|패널 : 광시야각|베젤 : 슬림베젤|패널코팅 : 안티글레어|무선랜 : 802.11 ax(Wi-Fi6)|블루투스 : 블루투스5.1|유선랜 : 유선랜(기가비트)|영상출력 : HDMI|단자 : USB Type C, USB3.0, USB2.0|카드 슬롯 : MicroSD카드|부가기능 : 웹캠|SSD : 256GB|SSD 인터페이스 : NVMe|배터리용량 : 43Wh|충전단자 : DC|웹카메라 : 전면|스피커 : 스테레오스피커|품목 : 노트북|두께 : 1.88cm|입력장치 : 숫자키패드|보안기능 : TPM'],\n",
       " ['한성컴퓨터 TFG7576XG',\n",
       "  '1699000',\n",
       "  '화면크기 : 43.94cm(17.3인치)|무게 : 2.2kg|종류 : 라이젠7-4세대|운영체제 : 미포함(FreeDos)|CPU : 라이젠7-5800H|칩셋 제조사 : AMD|코어종류 : 옥타코어|코드명 : 세잔|CPU속도 : 3.2GHz|터보부스트 : 4.4GHz|램 : 16GB|메모리 타입 : DDR4|NVIDIA GPU : RTX3060|AMD GPU : 라데온 Graphics|그래픽 메모리 : 6GB|해상도 : 1920x1080(FHD)|패널 : IPS패널(광시야각)|주사율 : 144Hz|화면비율 : 16대9|베젤 : 슬림베젤|sRGB : 100%|NTSC : 72%|밝기 : 300nit|특징 : 게이밍(게임용)|패널코팅 : 안티글레어|무선랜 : 802.11 ax(Wi-Fi6)|블루투스 : 블루투스5.1|유선랜 : 유선랜있음|영상출력 : HDMI, DisplayPort|단자 : USB Type C, USB3.0, USB3.1|카드 슬롯 : MicroSD카드|부가기능 : 웹캠, 키보드라이트(RGB)|SSD : 500GB|SSD 인터페이스 : NVMe|배터리용량 : 91.24Wh|충전단자 : DC|웹카메라 : 전면(100만)|스피커 : 스테레오스피커|무상AS : 1년|품목 : 노트북|두께 : 2.5cm|입력장치 : 멀티제스처패드|보안기능 : 지문인식, 얼굴인식'],\n",
       " ['주연테크 캐리북T 프로 J3GP Pro',\n",
       "  '459000',\n",
       "  '화면크기 : 33.78cm(13.3인치)|무게 : 1.25kg|종류 : 펜티엄 실버|운영체제 : 윈도우10 프로|CPU : N5000|칩셋 제조사 : 인텔|코어종류 : 쿼드코어|코드명 : 제미니레이크|CPU속도 : 1.1GHz|터보부스트 : 2.7GHz|램 : 4GB|메모리 타입 : DDR4|인텔 GPU : UHD605|그래픽 메모리 : 시스템 메모리 공유|해상도 : 1920x1080(FHD)|패널 : IPS패널(광시야각)|화면비율 : 16대9|디스플레이 특징 : 터치스크린, 자동 밝기 조절|베젤 : 슬림베젤|sRGB : 100%|NTSC : 72%|밝기 : 300nit|특징 : 울트라북, 가벼운노트북, 미니, 넷북, 크롬북, 학습,사무용, 휴대용|터치 : 멀티터치화면|bit유형 : 64|무선랜 : 802.11 ac(Wi-Fi5)|블루투스 : 블루투스5.0|무선연결 : WiFi다이렉트|영상출력 : 다중모니터연결(3개), WiDi(무선연결), 다중모니터연결(2개), miniHDMI|단자 : USB Type C, USB3.0|방향키 : ㅗ형|부가기능 : 키보드라이트, 웹캠, 고속충전, 키보드라이트(LED), 802.11n, 팬리스(무소음), 퀵충전, USB-PD, 무선 배터리 공유|SSD : 128GB|SSD 인터페이스 : eMMC|배터리용량 : 38Wh|충전단자 : DC, Type C|사용시간 : 최대10시간|저전력 : O|웹카메라 : 전면(200만)|무상AS : 1년|품목 : 노트북|두께 : 1.58cm|색상 : 실버(메탈)|보안기능 : 지문인식, 충격보호'],\n",
       " ['주연테크 슈퍼플라이 J9ST',\n",
       "  '985710',\n",
       "  '화면크기 : 35.56cm(14인치)|무게 : 1.12kg|종류 : 코어i7 11세대|운영체제 : 미포함(FreeDos)|CPU : 코어i7-1165G7|칩셋 제조사 : 인텔|코어종류 : 쿼드코어|코드명 : 타이거레이크|CPU속도 : 2.8GHz|터보부스트 : 4.7GHz|램 : 16GB|메모리 타입 : DDR4|인텔 GPU : Iris Xe Graphics|그래픽 메모리 : 시스템 메모리 공유|해상도 : 1920x1080(FHD)|패널 : IPS패널(광시야각)|화면비율 : 16대9|디스플레이 특징 : 자동 밝기 조절|베젤 : 슬림베젤|sRGB : 100%|NTSC : 72%|화면펼침 : 180˚|밝기 : 350nit|특징 : 울트라북, 가벼운노트북, 게이밍(게임용), 플립형, 미니, 넷북, 크롬북, 학습,사무용, 휴대용, 그래픽작업용|bit유형 : 64|패널코팅 : 안티글레어|무선랜 : 802.11 ax(Wi-Fi6)|블루투스 : 블루투스5.0|영상출력 : HDMI, 다중모니터연결(2개), 썬더볼트4|단자 : USB Type C, USB3.0, USB3.1|카드 슬롯 : MicroSD카드|방향키 : ㅗ형|부가기능 : 웹캠, 고속충전, 안면인식, 키보드라이트(LED), 180˚화면펼침, 키보드라이트(자동밝기조절), 키보드라이트(RGB), MIL-STD, 키보드라이트(컬러), 키보드라이트(컬러LED), 퀵충전, 슈퍼차저, USB-PD|SSD : 512GB|SSD 인터페이스 : M.2|배터리용량 : 73Wh|충전단자 : DC, Type C|사용시간 : 최대23시간|웹카메라 : 전면(100만)|무상AS : 1년|품목 : 노트북|두께 : 1.65cm|보안기능 : 충격보호, TPM'],\n",
       " ['주연테크 젠 L6CF35T',\n",
       "  '1248990',\n",
       "  '화면크기 : 39.62cm(15.6인치)|무게 : 2.2kg|종류 : 라이젠5-4세대|운영체제 : 미포함(FreeDos)|CPU : 라이젠5-5600H|칩셋 제조사 : AMD|코어종류 : 헥사코어|코드명 : 세잔|CPU속도 : 3.3GHz|터보부스트 : 4.2GHz|램 : 16GB|메모리 타입 : DDR4|NVIDIA GPU : 지포스 RTX3050 Ti|AMD GPU : 라데온 Vega 7|그래픽 메모리 : 4GB|해상도 : 1920x1080(FHD)|패널 : IPS패널(광시야각)|주사율 : 144Hz|화면비율 : 16대9|베젤 : 슬림베젤|sRGB : 100%|NTSC : 72%|밝기 : 300nit|특징 : 게이밍(게임용)|무선랜 : 802.11 ax(Wi-Fi6)|블루투스 : 블루투스5.1|유선랜 : 유선랜있음|영상출력 : HDMI, miniDisplayPort|단자 : USB Type C, USB3.0, USB2.0, USB3.1|부가기능 : 웹캠, 키보드라이트(RGB)|SSD : 512GB|SSD 인터페이스 : M.2|배터리 타입 : 리튬이온|배터리용량 : 41Wh|배터리cell수 : 4cell|충전단자 : DC|웹카메라 : 전면(100만)|품목 : 노트북|두께 : 2.49cm|TGP : 75W'],\n",
       " ['레노버 Slim3 15ITL 5D',\n",
       "  '628930',\n",
       "  '화면크기 : 39.62cm(15.6인치)|무게 : 1.65kg|종류 : 코어i5 11세대|운영체제 : 미포함(FreeDos)|CPU : 코어i5-1135G7|칩셋 제조사 : 인텔|코어종류 : 쿼드코어|코드명 : 타이거레이크|터보부스트 : 4.2GHz|램 : 8GB|메모리 타입 : DDR4|인텔 GPU : Iris Xe Graphics|그래픽 메모리 : 시스템 메모리 공유|해상도 : 1920x1080(FHD)|패널 : IPS패널(광시야각)|베젤 : 슬림베젤|밝기 : 300nit|패널코팅 : 안티글레어|무선랜 : 802.11 ax(Wi-Fi6)|블루투스 : 블루투스5.1|영상출력 : HDMI|단자 : USB Type C, USB2.0|카드 슬롯 : SD카드|부가기능 : 웹캠, 키보드라이트(LED)|SSD : 256GB|SSD 인터페이스 : NVMe|사용시간 : 최대6시간|웹카메라 : 전면|사운드 : 돌비Atoms오디오|무상AS : 1년|품목 : 노트북|두께 : 1.99cm|조명 : LED백라이트|보안기능 : 웹캠 OFF'],\n",
       " ['삼성전자 노트북 플러스2 NT550XDZ-AD1A',\n",
       "  '449000',\n",
       "  '화면크기 : 39.62cm(15.6인치)|무게 : 1.81kg|종류 : 셀러론|운영체제 : 미포함(FreeDos)|CPU : 셀러론-6305|칩셋 제조사 : 인텔|코어종류 : 듀얼코어|코드명 : 타이거레이크|CPU속도 : 1.8GHz|램 : 4GB|메모리 타입 : DDR4|인텔 GPU : UHD Graphics|그래픽 메모리 : 시스템 메모리 공유|해상도 : 1920x1080(FHD)|패널 : 광시야각|화면비율 : 16대9|베젤 : 슬림베젤|패널코팅 : 안티글레어|무선랜 : 802.11 ax(Wi-Fi6)|블루투스 : 블루투스5.0|유선랜 : 유선랜(1Gbps)|영상출력 : HDMI|단자 : USB Type C, USB3.0, USB2.0|카드 슬롯 : MicroSD카드|방향키 : ㅗ형|부가기능 : 웹캠, 멀티 카드 리더기|SSD : 256GB|SSD 인터페이스 : NVMe|배터리용량 : 43Wh|충전단자 : DC|웹카메라 : 전면|품목 : 노트북|두께 : 1.88cm|조명 : LED백라이트|색상 : 화이트|입력장치 : 숫자키패드'],\n",
       " ['한성컴퓨터 올데이롱 TFX5470H',\n",
       "  '889000',\n",
       "  '화면크기 : 39.62cm(15.6인치)|무게 : 1.5kg|종류 : 라이젠7-3세대|운영체제 : 미포함(FreeDos)|CPU : 라이젠7-4800H|칩셋 제조사 : AMD|코어종류 : 옥타코어|코드명 : 르누아르|CPU속도 : 2.9GHz|터보부스트 : 4.2GHz|램 : 16GB|메모리 타입 : DDR4|AMD GPU : 라데온 Graphics|그래픽 메모리 : 시스템 메모리 공유|해상도 : 1920x1080(FHD)|패널 : 광시야각|화면비율 : 16대9|베젤 : 슬림베젤|sRGB : 100%|NTSC : 72%|특징 : 울트라북|패널코팅 : 안티글레어|무선랜 : 802.11 ax(Wi-Fi6)|블루투스 : 블루투스5.1|유선랜 : 유선랜(1Gbps)|영상출력 : HDMI|단자 : USB Type C, USB3.0, USB2.0|카드 슬롯 : MicroSD카드|부가기능 : 키보드라이트, 웹캠, 멀티 카드 리더기, 제어센터, USB-PD|SSD : 500GB|SSD 인터페이스 : M.2|배터리 타입 : 리튬이온|배터리용량 : 91.24Wh|배터리cell수 : 6cell|사용시간 : 최대24시간|웹카메라 : 전면(100만)|무상AS : 1년|품목 : 노트북|두께 : 1.68'],\n",
       " ['삼성전자 갤럭시북 프로 NT950XDX-G51A',\n",
       "  '1528000',\n",
       "  '화면크기 : 39.62cm(15.6인치)|무게 : 1.15kg|종류 : 코어i5 11세대|운영체제 : 리눅스|CPU : 코어i5-1135G7|칩셋 제조사 : 인텔|코어종류 : 쿼드코어|코드명 : 타이거레이크|CPU속도 : 2.4GHz|터보부스트 : 4.2GHz|램 : 16GB|메모리 타입 : LPDDR4x|NVIDIA GPU : 지포스 MX450|그래픽 메모리 : 2GB|해상도 : 1920x1080(FHD)|패널 : AMOLED패널|무선랜 : 802.11 ax(Wi-Fi6)|블루투스 : 블루투스5.1|영상출력 : HDMI, 썬더볼트4|단자 : USB Type C|카드 슬롯 : MicroSD카드|부가기능 : 키보드라이트, 웹캠, 고속충전, MIL-STD|SSD : 256GB|SSD 인터페이스 : NVMe|배터리용량 : 68Wh|사용시간 : 최대20시간|웹카메라 : 전면|스피커 : AKG스테레오스피커|사운드 : 돌비Atoms오디오|품목 : 노트북|두께 : 1.33cm|입력장치 : 숫자키패드|보안기능 : 지문인식, TPM'],\n",
       " ['Apple 맥북 에어 2020년형 M1 256G 실버 (MGN93KH/A)',\n",
       "  '1179000',\n",
       "  '화면크기 : 33.78cm(13.3인치)|무게 : 1.29kg|운영체제 : macOS Big Sur|CPU : M1|칩셋 제조사 : 애플|코어종류 : 옥타코어|CPU속도 : 3.2GHz|램 : 8GB|해상도 : 2560x1440(QHD)|패널 : IPS패널(광시야각)|화면비율 : 16대10|디스플레이 종류 : LCD|밝기 : 400nit|bit유형 : 64|무선랜 : 802.11 ax(Wi-Fi6)|블루투스 : 블루투스5.0|영상출력 : 썬더볼트3(2개), DisplayPort|단자 : USB Type C|부가기능 : 웹캠, 키보드라이트(LED), 페이스타임, 제어센터, 아이메시지, 애플앱스토어, 에어드롭, 음성인식(시리), iCloud|SSD : 256GB|HDD 용량 : 미포함|ODD : 광Drive없음|배터리 타입 : 리튬폴리머|배터리용량 : 49.9Wh|충전단자 : Type C|사용시간 : 최대18시간|웹카메라 : 전면|무상AS : 1년|품목 : 노트북|두께 : 1.61|조명 : LED백라이트|색상 : 실버|DCI-P3 : 지원|보안기능 : 지문인식'],\n",
       " ['한성컴퓨터 TFX3412N',\n",
       "  '499000',\n",
       "  '화면크기 : 33.78cm(13.3인치)|무게 : 1.3kg|종류 : 셀러론|운영체제 : 미포함(FreeDos)|CPU : 셀러론-N4120|칩셋 제조사 : 인텔|코어종류 : 쿼드코어|코드명 : 제미니레이크-R|CPU속도 : 1.1GHz|터보부스트 : 2.6GHz|램 : 8GB|메모리 타입 : DDR4|인텔 GPU : UHD600|그래픽 메모리 : 시스템 메모리 공유|해상도 : 1920x1080(FHD)|패널 : IPS패널(광시야각)|화면비율 : 16대9|디스플레이 특징 : 터치스크린|베젤 : 슬림베젤|sRGB : 100%|NTSC : 72%|화면펼침 : 360˚|밝기 : 300nit|터치 : 10포인트터치입력가능|무선랜 : 802.11 ac(Wi-Fi5)|블루투스 : 블루투스 4.2|영상출력 : DisplayPort|단자 : USB Type C, USB3.0, USB3.1|카드 슬롯 : MicroSD카드|부가기능 : 웹캠, 키보드라이트(LED), 터치펜, USB-PD|SSD : 250GB|SSD 인터페이스 : M.2|충전단자 : DC|웹카메라 : 전면(100만)|스피커 : 스테레오스피커|무상AS : 1년|품목 : 노트북|두께 : 1.6cm|입력장치 : 멀티제스처패드'],\n",
       " ['ASUS 비보북 X513EA-BQ031',\n",
       "  '638960',\n",
       "  '화면크기 : 39.62cm(15.6인치)|무게 : 1.8kg|종류 : 코어i5 11세대|운영체제 : 미포함(FreeDos)|CPU : 코어i5-1135G7|칩셋 제조사 : 인텔|코어종류 : 쿼드코어|코드명 : 타이거레이크-H|CPU속도 : 2.4GHz|터보부스트 : 4.2GHz|램 : 8GB|메모리 타입 : DDR4|인텔 GPU : Iris Xe Graphics|그래픽 메모리 : 시스템 메모리 공유|해상도 : 1920x1080(FHD)|화면비율 : 16대9|베젤 : 슬림베젤|특징 : 학습,사무용|무선랜 : 802.11 ax(Wi-Fi6)|블루투스 : 블루투스5.0|영상출력 : HDMI|단자 : USB Type C, USB3.0, USB2.0|카드 슬롯 : MicroSD카드|방향키 : ㅗ형|부가기능 : 키보드라이트, 웹캠, 고속충전|SSD : 256GB|SSD 인터페이스 : M.2|배터리 타입 : 리튬이온|배터리용량 : 42Wh|배터리cell수 : 3cell|충전단자 : DC|웹카메라 : 전면|스피커 : 하만카돈스피커|품목 : 노트북|두께 : 1.99cm|입력장치 : 독립형키보드|보안기능 : 지문인식'],\n",
       " ['레노버 FLEX 5 14ALC R5 W10',\n",
       "  '775000',\n",
       "  '무게 : 1.53kg|종류 : 라이젠5-4세대|운영체제 : 윈도우10 홈|CPU : 라이젠5-5500U|칩셋 제조사 : AMD|코어종류 : 헥사코어|코드명 : 루시엔|CPU속도 : 2.1GHz|터보부스트 : 4.0GHz|램 : 8GB|메모리 타입 : DDR4|AMD GPU : 라데온 Graphics|그래픽 메모리 : 시스템 메모리 공유|해상도 : 1920x1080(FHD)|패널 : IPS패널(광시야각)|디스플레이 특징 : 터치스크린|베젤 : 슬림베젤|화면펼침 : 360˚|터치 : 터치화면|무선랜 : 802.11 ax(Wi-Fi6)|블루투스 : 블루투스5.0|영상출력 : HDMI|단자 : USB Type C, USB3.0|카드 슬롯 : SD카드|부가기능 : 웹캠, 고속충전, 키보드라이트(LED), 터치펜, USB-PD|SSD : 256GB|SSD 인터페이스 : NVMe|배터리용량 : 52.5Wh|배터리cell수 : 3cell|사용시간 : 최대12시간|웹카메라 : 전면|스피커 : 스테레오스피커|사운드 : 돌비프리미엄오디오|무상AS : 2년|품목 : 노트북|두께 : 1.79cm|보안기능 : 웹캠 OFF'],\n",
       " ['LG전자 울트라PC 15U40N-GR56K',\n",
       "  '816860',\n",
       "  '화면크기 : 39.62cm(15.6인치)|무게 : 1.8kg|종류 : 라이젠5-3세대|운영체제 : 윈도우10 홈|CPU : 라이젠5-4500U|칩셋 제조사 : AMD|코어종류 : 헥사코어|코드명 : 르누아르|CPU속도 : 2.3GHz|터보부스트 : 4.0GHz|램 : 8GB|메모리 타입 : DDR4|AMD GPU : 라데온 Graphics|그래픽 메모리 : 시스템 메모리 공유|해상도 : 1920x1080(FHD)|패널 : IPS패널(광시야각)|화면비율 : 16대9|베젤 : 슬림베젤|특징 : 울트라북, 가벼운노트북, 게이밍(게임용), 학습,사무용, 휴대용, 그래픽작업용|bit유형 : 64|무선랜 : 802.11 ax(Wi-Fi6)|블루투스 : 블루투스5.1|유선랜 : 유선랜(1Gbps)|영상출력 : HDMI|단자 : USB Type C, USB3.0, USB3.1|카드 슬롯 : MicroSD카드|방향키 : ㅗ형|부가기능 : 웹캠, Reader모드, 제어센터, 국제보증서비스|SSD : 256GB|SSD 인터페이스 : NVMe|ODD : 광Drive없음|배터리 타입 : 리튬이온|배터리용량 : 52Wh|웹카메라 : 전면|사운드 : DTS: X Ultra|무상AS : 1년|품목 : 노트북|두께 : 1.99cm|조명 : LED백라이트|색상 : 스노우화이트|입력장치 : 숫자키패드'],\n",
       " ['ASUS ROG 17 게이밍노트북 G713QC-HX012 (+WIN10)',\n",
       "  '1399000',\n",
       "  '무게 : 2.83kg|종류 : 코어i7 10세대|운영체제 : 미포함(FreeDos)|CPU : 라이젠7-5800H|칩셋 제조사 : 인텔|코어종류 : 옥타코어|코드명 : 코멧레이크|CPU속도 : 2.6GHz|터보부스트 : 5.0GHz|램 : 8GB|메모리 타입 : DDR4|NVIDIA GPU : 지포스 GTX1660 Ti|인텔 GPU : HD Graphics|그래픽 메모리 : 6GB|해상도 : 1920x1080(FHD)|패널 : 광시야각|주사율 : 120Hz|화면비율 : 16대9|베젤 : 인피니티(초슬림)베젤|밝기 : 250nit|특징 : 게이밍(게임용)|패널코팅 : 안티글레어|무선랜 : 802.11 ax(Wi-Fi6)|블루투스 : 블루투스5.1|유선랜 : 유선랜(기가비트)|영상출력 : DisplayPort, HDMI(2.0)|단자 : USB Type C, USB3.0, USB3.1|방향키 : ㅗ형|부가기능 : 키보드라이트(RGB)|SSD : 512GB|SSD 인터페이스 : M.2|배터리 타입 : 리튬이온|배터리용량 : 66Wh|배터리cell수 : 4cell|충전단자 : DC|품목 : 노트북|두께 : 2.65cm|입력장치 : 독립형키보드, 숫자키패드'],\n",
       " ['LG전자 LG그램 16ZD95P-GX5LK',\n",
       "  '1669000',\n",
       "  '화면크기 : 40.6cm(16인치)|무게 : 1.19kg|종류 : 코어i5 11세대|운영체제 : 미포함(FreeDos)|CPU : 코어i5-1155G7|칩셋 제조사 : 인텔|코어종류 : 쿼드코어|코드명 : 타이거레이크|CPU속도 : 2.5GHz|터보부스트 : 4.5GHz|램 : 16GB|메모리 타입 : LPDDR4x|인텔 GPU : Iris Xe Graphics|그래픽 메모리 : 시스템 메모리 공유|해상도 : 2560x1600(WQXGA)|패널 : IPS패널(광시야각)|화면비율 : 16대10|베젤 : 슬림베젤|디스플레이 종류 : LCD|무선랜 : 802.11 ax(Wi-Fi6)|블루투스 : 지원|유선랜 : 유선랜(기가비트)|영상출력 : HDMI, 썬더볼트4|단자 : USB Type C, USB3.1, USB4|카드 슬롯 : UFS|부가기능 : 키보드라이트, 웹캠, MIL-STD, USB-PD|SSD : 256GB|SSD 인터페이스 : M.2|배터리 타입 : 리튬이온|배터리용량 : 80Wh|웹카메라 : 전면|스피커 : 스테레오스피커|사운드 : DTS: X Ultra|품목 : 노트북|두께 : 1.68cm|DCI-P3 : 99%|보안기능 : 지문인식'],\n",
       " ['삼성전자 갤럭시북 NT750XDA-X71A',\n",
       "  '1598000',\n",
       "  '화면크기 : 39.62cm(15.6인치)|무게 : 1.59kg|종류 : 코어i7 11세대|운영체제 : 윈도우11 홈|CPU : 코어i7-1165G7|칩셋 제조사 : 인텔|코어종류 : 쿼드코어|코드명 : 타이거레이크|CPU속도 : 2.8GHz|터보부스트 : 4.7GHz|램 : 16GB|메모리 타입 : LPDDR4x|NVIDIA GPU : 지포스 MX450|그래픽 메모리 : 2GB|해상도 : 1920x1080(FHD)|패널 : 광시야각|베젤 : 슬림베젤|패널코팅 : 안티글레어|무선랜 : 802.11 ax(Wi-Fi6)|블루투스 : 블루투스5.1|영상출력 : HDMI|단자 : USB Type C|카드 슬롯 : MicroSD카드|부가기능 : 웹캠|SSD : 512GB|SSD 인터페이스 : NVMe|배터리용량 : 54Wh|충전단자 : Type C|웹카메라 : 전면|스피커 : 스테레오스피커|사운드 : 돌비Atoms오디오|품목 : 노트북|두께 : 1.54cm|입력장치 : 숫자키패드|보안기능 : TPM'],\n",
       " ['삼성 노트북 플러스2 업무용 재택근무 저렴한 인강용 사무용 싼 가성비 노트북 한컴오피스',\n",
       "  '529000',\n",
       "  '코어종류 : 듀얼코어|램 : 4GB|해상도 : 1920x1080(FHD)'],\n",
       " ['레노버 리전 5 15ACH R5 3050Ti PRO',\n",
       "  '1038950',\n",
       "  '화면크기 : 39.62cm(15.6인치)|무게 : 2.25kg|종류 : 라이젠5-4세대|운영체제 : 미포함(FreeDos)|CPU : 라이젠5-5600H|칩셋 제조사 : AMD|코어종류 : 헥사코어|코드명 : 세잔|CPU속도 : 3.3GHz|터보부스트 : 4.2GHz|램 : 8GB|메모리 타입 : DDR4|NVIDIA GPU : 지포스 RTX3050 Ti|그래픽 메모리 : 4GB|해상도 : 1920x1080(FHD)|패널 : IPS패널(광시야각)|주사율 : 165Hz|베젤 : 슬림베젤|sRGB : 100%|밝기 : 300nit|특징 : 게이밍(게임용)|패널코팅 : 안티글레어|무선랜 : 802.11 ax(Wi-Fi6)|블루투스 : 블루투스5.1|유선랜 : 유선랜있음|영상출력 : HDMI, DisplayPort, G-Sync|단자 : USB Type C, USB3.0, USB3.1|부가기능 : 웹캠, 키보드라이트(LED), USB-PD|SSD : 256GB|SSD 인터페이스 : NVMe|배터리용량 : 60Wh|웹카메라 : 전면|스피커 : 스테레오스피커|사운드 : Nahimic오디오|무상AS : 1년|품목 : 노트북|두께 : 2.25cm|입력장치 : 멀티제스처패드|보안기능 : 웹캠 OFF'],\n",
       " ['삼성전자 갤럭시북 프로360 NT950QDB-K71A',\n",
       "  '2010520',\n",
       "  '화면크기 : 39.62cm(15.6인치)|무게 : 1.39kg|종류 : 코어i7 11세대|운영체제 : 윈도우11 홈|CPU : 코어i7-1165G7|칩셋 제조사 : 인텔|코어종류 : 쿼드코어|코드명 : 타이거레이크|CPU속도 : 2.8GHz|터보부스트 : 4.7GHz|램 : 16GB|메모리 타입 : LPDDR4x|인텔 GPU : Iris Xe Graphics|그래픽 메모리 : 시스템 메모리 공유|해상도 : 1920x1080(FHD)|패널 : AMOLED패널|디스플레이 특징 : 터치스크린|화면펼침 : 360˚|터치 : 터치화면|무선랜 : 802.11 ax(Wi-Fi6)|블루투스 : 블루투스5.1|영상출력 : 썬더볼트4|단자 : USB Type C|카드 슬롯 : MicroSD카드|부가기능 : 키보드라이트, 웹캠, 고속충전, S펜, Evo 플랫폼 인증|SSD : 512GB|SSD 인터페이스 : NVMe|배터리용량 : 68Wh|충전단자 : Type C|사용시간 : 최대20시간|웹카메라 : 전면|스피커 : AKG스테레오스피커|사운드 : 돌비Atoms오디오|품목 : 노트북|두께 : 1.19cm|입력장치 : 숫자키패드|보안기능 : 지문인식, TPM'],\n",
       " ['디클 클릭북 D14',\n",
       "  '298960',\n",
       "  '화면크기 : 35.81cm(14.1인치)|무게 : 1.3kg|종류 : 셀러론|운영체제 : 윈도우10 홈|CPU : 셀러론-N4020|칩셋 제조사 : 인텔|코어종류 : 듀얼코어|코드명 : 제미니레이크|CPU속도 : 1.1GHz|터보부스트 : 2.8GHz|램 : 4GB|메모리 타입 : DDR4L|인텔 GPU : UHD600|그래픽 메모리 : 시스템 메모리 공유|해상도 : 1920x1080(FHD)|패널 : IPS패널(광시야각)|화면비율 : 16대9|베젤 : 슬림베젤|특징 : 가벼운노트북|bit유형 : 64|무선랜 : 802.11 ac(Wi-Fi5)|블루투스 : 블루투스5.0|영상출력 : microHDMI|단자 : USB3.0, USB2.0|부가기능 : 웹캠, 팬리스(무소음)|SSD : 128GB|SSD 인터페이스 : M.2|ODD : 광Drive없음|배터리 타입 : 리튬폴리머|사용시간 : 최대11시간|저전력 : O|무상AS : 1년|품목 : 노트북|두께 : 1.5cm|색상 : 화이트'],\n",
       " ['LG전자 그램17 17ZD90P-GX76K',\n",
       "  '1766990',\n",
       "  '화면크기 : 43.18cm(17인치)|무게 : 1.35kg|종류 : 코어i7 11세대|운영체제 : 미포함(FreeDos)|CPU : 코어i7-1165G7|칩셋 제조사 : 인텔|코어종류 : 쿼드코어|코드명 : 타이거레이크|CPU속도 : 2.8GHz|터보부스트 : 4.7GHz|램 : 16GB|메모리 타입 : LPDDR4x|인텔 GPU : Iris Xe Graphics|그래픽 메모리 : 시스템 메모리 공유|해상도 : 2560x1600(WQXGA)|패널 : IPS패널(광시야각)|화면비율 : 16대10|베젤 : 슬림베젤|특징 : 가벼운노트북|무선랜 : 802.11 ax(Wi-Fi6)|블루투스 : 지원|영상출력 : HDMI, 썬더볼트4|단자 : USB Type C, USB3.1|카드 슬롯 : UFS, MicroSD카드|부가기능 : 키보드라이트, 웹캠, MIL-STD, USB-PD|SSD : 256GB|SSD 인터페이스 : NVMe|배터리 타입 : 리튬이온|배터리용량 : 80Wh|충전단자 : Type C|웹카메라 : 전면|스피커 : 스테레오스피커|사운드 : DTS: X Ultra|품목 : 노트북|두께 : 1.78|조명 : LED백라이트|색상 : 스노우화이트|DCI-P3 : 99%|입력장치 : 숫자키패드|보안기능 : 지문인식'],\n",
       " ['ASUS 비보북 15 D515DA-BQ270 AMD 라이젠 가성비 노트북',\n",
       "  '399000',\n",
       "  '화면크기 : 39.62cm(15.6인치)|무게 : 1.8kg|운영체제 : 미포함(FreeDos)|CPU : 라이젠3-3250U|칩셋 제조사 : AMD|코어종류 : 듀얼코어|램 : 4GB|메모리 타입 : DDR4|해상도 : 1920x1080(FHD)|패널 : 광시야각|화면비율 : 16대9|NTSC : 45%|밝기 : 250nit|무선랜 : 802.11 ac(Wi-Fi5)|블루투스 : 블루투스 4.2|SSD : 256GB|SSD 인터페이스 : NVMePCIe|배터리용량 : 37Wh|배터리cell수 : 2cell|품목 : 노트북'],\n",
       " ['삼성전자 갤럭시북 NT750XDA-KC38S',\n",
       "  '863180',\n",
       "  '화면크기 : 39.62cm(15.6인치)|무게 : 1.55kg|종류 : 코어i3 11세대|운영체제 : 윈도우10 홈|CPU : 코어i3-1115G4|칩셋 제조사 : 인텔|코어종류 : 듀얼코어|코드명 : 타이거레이크|CPU속도 : 3.0GHz|터보부스트 : 4.1GHz|램 : 8GB|메모리 타입 : LPDDR4x|인텔 GPU : UHD Graphics|그래픽 메모리 : 시스템 메모리 공유|해상도 : 1920x1080(FHD)|패널 : 광시야각|패널코팅 : 안티글레어|무선랜 : 802.11 ax(Wi-Fi6)|블루투스 : 블루투스5.1|영상출력 : HDMI|단자 : USB Type C|카드 슬롯 : MicroSD카드|부가기능 : 웹캠|SSD : 256GB|SSD 인터페이스 : NVMe|배터리용량 : 54Wh|웹카메라 : 전면|품목 : 노트북|두께 : 1.54cm'],\n",
       " ['삼성전자 삼성 NT350XCR-AD5WA',\n",
       "  '698990',\n",
       "  '화면크기 : 39.62cm(15.6인치)|무게 : 1.81kg|종류 : 코어i5 10세대|운영체제 : 미포함(FreeDos)|CPU : 코어i5-10210U|칩셋 제조사 : 인텔|코어종류 : 쿼드코어|코드명 : 코멧레이크|CPU속도 : 1.6GHz|터보부스트 : 4.2GHz|램 : 8GB|메모리 타입 : DDR4|인텔 GPU : UHD Graphics|그래픽 메모리 : 시스템 메모리 공유|해상도 : 1920x1080(FHD)|패널코팅 : 안티글레어|무선랜 : 802.11 ac(Wi-Fi5)|블루투스 : 블루투스5.0|영상출력 : HDMI|단자 : USB Type C, USB3.0, USB2.0|카드 슬롯 : MicroSD카드|부가기능 : 웹캠, 멀티 카드 리더기|SSD : 256GB|SSD 인터페이스 : NVMe|배터리용량 : 43Wh|웹카메라 : 전면|품목 : 노트북|두께 : 1.89cm']]"
      ]
     },
     "execution_count": 20,
     "metadata": {},
     "output_type": "execute_result"
    }
   ],
   "source": [
    "notebook_list = []\n",
    "\n",
    "for i in notebooks:\n",
    "    try:\n",
    "        ## 상품명 가져오기\n",
    "        name = i.select('div.basicList_title__3P9Q7> a')[0].text.strip()\n",
    "        ## 가격\n",
    "        price = i.select('strong.basicList_price__2r23_ > span > span.price_num__2WUXn')[0].text.strip().split('원')[0].replace(',','')\n",
    "        ## 스펙\n",
    "        spec = i.select('div.basicList_detail_box__3ta3h')[0].text.strip()\n",
    "        ## append\n",
    "        notebook_list.append([name,price,spec])\n",
    "    except:\n",
    "        pass\n",
    "\n",
    "print(len(notebook_list))\n",
    "notebook_list"
   ]
  },
  {
   "cell_type": "code",
   "execution_count": 21,
   "metadata": {},
   "outputs": [],
   "source": [
    "## 위 코드 함수\n",
    "\n",
    "def get_notebooks(ntb):\n",
    "    notebook_list = []\n",
    "\n",
    "    for i in notebooks:\n",
    "        try:\n",
    "            ## 상품명 가져오기\n",
    "            name = i.select('div.basicList_title__3P9Q7> a')[0].text.strip()\n",
    "            ## 가격\n",
    "            price = i.select('strong.basicList_price__2r23_ > span > span.price_num__2WUXn')[0].text.strip().split('원')[0].replace(',','')\n",
    "            ## 스펙\n",
    "            spec = i.select('div.basicList_detail_box__3ta3h')[0].text.strip()\n",
    "            ## append\n",
    "            notebook_list.append([name,price,spec])\n",
    "        except:\n",
    "            pass\n",
    "    return notebook_list"
   ]
  },
  {
   "cell_type": "code",
   "execution_count": 22,
   "metadata": {},
   "outputs": [
    {
     "data": {
      "text/plain": [
       "46"
      ]
     },
     "execution_count": 22,
     "metadata": {},
     "output_type": "execute_result"
    }
   ],
   "source": [
    "# 함수 정상 작동\n",
    "ntb = soup.select('li.basicList_item__2XT81 > div.basicList_inner__eY_mq > div.basicList_info_area__17Xyo')\n",
    "len(get_notebooks(ntb))"
   ]
  },
  {
   "cell_type": "markdown",
   "metadata": {},
   "source": [
    "노트북 검색 결과 페이지 url 주소\n",
    "\n",
    "1페이지\n",
    "https://search.shopping.naver.com/search/all?frm=NVSCDIG&origQuery=%EB%85%B8%ED%8A%B8%EB%B6%81&pagingIndex=1&pagingSize=40&productSet=total&query=%EB%85%B8%ED%8A%B8%EB%B6%81&sort=rel&timestamp=&viewType=list\n",
    "\n",
    "2페이지\n",
    "https://search.shopping.naver.com/search/all?frm=NVSCDIG&origQuery=%EB%85%B8%ED%8A%B8%EB%B6%81&pagingIndex=2&pagingSize=40&productSet=total&query=%EB%85%B8%ED%8A%B8%EB%B6%81&sort=rel&timestamp=&viewType=list\n",
    "\n",
    "3페이지\n",
    "https://search.shopping.naver.com/search/all?frm=NVSCDIG&origQuery=%EB%85%B8%ED%8A%B8%EB%B6%81&pagingIndex=2&pagingSize=40&productSet=total&query=%EB%85%B8%ED%8A%B8%EB%B6%81&sort=rel&timestamp=&viewType=list\n",
    "\n",
    "다른 검색어 검색(강아지사료)\n",
    "https://search.shopping.naver.com/search/all?frm=NVSHATC&origQuery=%EA%B0%95%EC%95%84%EC%A7%80%EC%82%AC%EB%A3%8C&pagingIndex=1&pagingSize=40&productSet=total&query=%EA%B0%95%EC%95%84%EC%A7%80%EC%82%AC%EB%A3%8C&sort=rel&timestamp=&viewType=list\n",
    "\n",
    "주소를 비교해보면 origiQuery, pagingIndex, query 부분이 달라지는 것을 볼 수 있다. 다른 검색어를 검색해도 마찬가지이다. `fra=` 프레임 스타일도 다른 검색어 주소와 다르지만 프레임 스타일은 변경해도 주소를 불러오는데 문제가 없었다."
   ]
  },
  {
   "cell_type": "code",
   "execution_count": 10,
   "metadata": {},
   "outputs": [
    {
     "name": "stdout",
     "output_type": "stream",
     "text": [
      "https://search.shopping.naver.com/search/all?frm=NVSCDIG&origQuery=강아지사료&pagingIndex=1&pagingSize=40&productSet=total&query=강아지사료&sort=rel&timestamp=&viewType=list\n"
     ]
    }
   ],
   "source": [
    "def get_search_page_url(keyword,page):\n",
    "    return 'https://search.shopping.naver.com/search/all?frm=NVSCDIG&origQuery={}&pagingIndex={}&pagingSize=40&productSet=total&query={}&sort=rel&timestamp=&viewType=list'.format(keyword,page,keyword)\n",
    "\n",
    "url = get_search_page_url('강아지사료',1)\n",
    "print(url)\n"
   ]
  },
  {
   "cell_type": "code",
   "execution_count": 11,
   "metadata": {},
   "outputs": [
    {
     "name": "stderr",
     "output_type": "stream",
     "text": [
      "C:\\Users\\yj\\AppData\\Local\\Temp/ipykernel_2744/3402917339.py:4: TqdmDeprecationWarning: This function will be removed in tqdm==5.0.0\n",
      "Please use `tqdm.notebook.tqdm` instead of `tqdm.tqdm_notebook`\n",
      "  for page in tqdm_notebook(range(1,total_page+1)):\n"
     ]
    },
    {
     "data": {
      "application/vnd.jupyter.widget-view+json": {
       "model_id": "f46f6edd39b0464a8f07b20c42f9784b",
       "version_major": 2,
       "version_minor": 0
      },
      "text/plain": [
       "  0%|          | 0/3 [00:00<?, ?it/s]"
      ]
     },
     "metadata": {},
     "output_type": "display_data"
    }
   ],
   "source": [
    "import time\n",
    "from tqdm import tqdm_notebook\n",
    "total_page = 3\n",
    "for page in tqdm_notebook(range(1,total_page+1)):\n",
    "    time.sleep(3)\n"
   ]
  },
  {
   "cell_type": "code",
   "execution_count": 12,
   "metadata": {},
   "outputs": [
    {
     "name": "stderr",
     "output_type": "stream",
     "text": [
      "C:\\Users\\yj\\AppData\\Local\\Temp/ipykernel_2744/545302557.py:8: TqdmDeprecationWarning: This function will be removed in tqdm==5.0.0\n",
      "Please use `tqdm.notebook.tqdm` instead of `tqdm.tqdm_notebook`\n",
      "  for page in tqdm_notebook(range(1,total_page+1)):\n"
     ]
    },
    {
     "data": {
      "application/vnd.jupyter.widget-view+json": {
       "model_id": "3df982f028c74075850bab7521575d78",
       "version_major": 2,
       "version_minor": 0
      },
      "text/plain": [
       "  0%|          | 0/10 [00:00<?, ?it/s]"
      ]
     },
     "metadata": {},
     "output_type": "display_data"
    }
   ],
   "source": [
    "### 여러 페이지 데이터 수집\n",
    "\n",
    "keyword = '노트북'\n",
    "total_page = 10\n",
    "notebooks_totaldata = []\n",
    "\n",
    "# 진행 정도를 표현하는 tqdm을 적용\n",
    "for page in tqdm_notebook(range(1,total_page+1)):\n",
    "    # 1. 검색 페이지 이동\n",
    "    url = get_search_page_url('노트북',page)\n",
    "    driver.get(url)\n",
    "\n",
    "    # 2. 페이지가 로딩 완료되기 위한 시간으로 5초를 할당\n",
    "    time.sleep(5)\n",
    "\n",
    "    # 3. 현재 페이지의 html 정보 가져오기\n",
    "    html = driver.page_source\n",
    "    soup = BeautifulSoup(html, 'html.parser')\n",
    "\n",
    "    # 4. 상품 정보 추출\n",
    "    notebooks = soup.select('li.basicList_item__2XT81 > div.basicList_inner__eY_mq > div.basicList_info_area__17Xyo')\n",
    "    notebook_list = get_notebooks(notebooks)\n",
    "\n",
    "    ## 5. 추출 데이터 저장\n",
    "    notebooks_totaldata = notebooks_totaldata + notebook_list"
   ]
  },
  {
   "cell_type": "code",
   "execution_count": 188,
   "metadata": {},
   "outputs": [],
   "source": [
    "## 엑셀파일로 저장\n",
    "import pandas as pd\n",
    "data = pd.DataFrame(notebooks_totaldata)\n",
    "data.to_excel('C:/Users/yj/Desktop/notebooks.xlsx', index = False)\n",
    "data.columns = (['상품명','가격','스펙'])"
   ]
  },
  {
   "cell_type": "code",
   "execution_count": 226,
   "metadata": {},
   "outputs": [
    {
     "data": {
      "text/html": [
       "<div>\n",
       "<style scoped>\n",
       "    .dataframe tbody tr th:only-of-type {\n",
       "        vertical-align: middle;\n",
       "    }\n",
       "\n",
       "    .dataframe tbody tr th {\n",
       "        vertical-align: top;\n",
       "    }\n",
       "\n",
       "    .dataframe thead th {\n",
       "        text-align: right;\n",
       "    }\n",
       "</style>\n",
       "<table border=\"1\" class=\"dataframe\">\n",
       "  <thead>\n",
       "    <tr style=\"text-align: right;\">\n",
       "      <th></th>\n",
       "      <th>상품명</th>\n",
       "      <th>가격</th>\n",
       "      <th>스펙</th>\n",
       "    </tr>\n",
       "  </thead>\n",
       "  <tbody>\n",
       "    <tr>\n",
       "      <th>0</th>\n",
       "      <td>포유디지탈 아이뮤즈 스톰북 윈도우10포함</td>\n",
       "      <td>206000</td>\n",
       "      <td>화면크기 : 35.81cm(14.1인치)|무게 : 1.3kg|종류 : 셀러론|운영체...</td>\n",
       "    </tr>\n",
       "    <tr>\n",
       "      <th>1</th>\n",
       "      <td>한성컴퓨터 TFX7130H</td>\n",
       "      <td>1049000</td>\n",
       "      <td>화면크기 : 43.94cm(17.3인치)|무게 : 2kg|종류 : 코어i5 11세대...</td>\n",
       "    </tr>\n",
       "    <tr>\n",
       "      <th>2</th>\n",
       "      <td>주연테크 캐리북e J3GW</td>\n",
       "      <td>359000</td>\n",
       "      <td>화면크기 : 35.56cm(14인치)|무게 : 1.45kg|종류 : 셀러론|운영체제...</td>\n",
       "    </tr>\n",
       "    <tr>\n",
       "      <th>3</th>\n",
       "      <td>LG전자 LG그램 17Z95P-GA76K</td>\n",
       "      <td>2329000</td>\n",
       "      <td>화면크기 : 43.1cm(17인치)|무게 : 1.35kg|종류 : 코어i7 11세대...</td>\n",
       "    </tr>\n",
       "    <tr>\n",
       "      <th>4</th>\n",
       "      <td>LG전자 그램360 16T90P-GAF6K</td>\n",
       "      <td>1989000</td>\n",
       "      <td>화면크기 : 40.6cm(16인치)|무게 : 1.48kg|종류 : 코어i5 11세대...</td>\n",
       "    </tr>\n",
       "    <tr>\n",
       "      <th>5</th>\n",
       "      <td>주연테크 아이언 J6F</td>\n",
       "      <td>659000</td>\n",
       "      <td>화면크기 : 39.62cm(15.6인치)|무게 : 1.5kg|종류 : 라이젠5-3세...</td>\n",
       "    </tr>\n",
       "    <tr>\n",
       "      <th>6</th>\n",
       "      <td>주연테크 젠 L8CS36</td>\n",
       "      <td>1648990</td>\n",
       "      <td>화면크기 : 43.94cm(17.3인치)|무게 : 2.5kg|종류 : 라이젠7-4세...</td>\n",
       "    </tr>\n",
       "    <tr>\n",
       "      <th>7</th>\n",
       "      <td>주연테크 J6LF</td>\n",
       "      <td>748990</td>\n",
       "      <td>화면크기 : 39.62cm(15.6인치)|무게 : 1.59kg|종류 : 라이젠5-4...</td>\n",
       "    </tr>\n",
       "    <tr>\n",
       "      <th>8</th>\n",
       "      <td>Apple 맥북 에어 2020년형 M1 256G 스페이스 그레이 (MGN63KH/A)</td>\n",
       "      <td>1123347</td>\n",
       "      <td>화면크기 : 33.78cm(13.3인치)|무게 : 1.29kg|운영체제 : macO...</td>\n",
       "    </tr>\n",
       "    <tr>\n",
       "      <th>9</th>\n",
       "      <td>삼성전자 갤럭시북 이온2 NT950XDZ-A58AW</td>\n",
       "      <td>1326730</td>\n",
       "      <td>화면크기 : 39.62cm(15.6인치)|무게 : 1.19kg|종류 : 코어i5 1...</td>\n",
       "    </tr>\n",
       "    <tr>\n",
       "      <th>10</th>\n",
       "      <td>HP Victus 16-e0104AX</td>\n",
       "      <td>1629000</td>\n",
       "      <td>화면크기 : 40.6cm(16인치)|무게 : 2.46kg|종류 : 라이젠7-4세대|...</td>\n",
       "    </tr>\n",
       "    <tr>\n",
       "      <th>11</th>\n",
       "      <td>HP 15s-fq2013TU</td>\n",
       "      <td>699000</td>\n",
       "      <td>화면크기 : 39.62cm(15.6인치)|무게 : 1.69kg|종류 : 코어i5 1...</td>\n",
       "    </tr>\n",
       "    <tr>\n",
       "      <th>12</th>\n",
       "      <td>포유디지탈 아이뮤즈 스톰북 프리도스</td>\n",
       "      <td>219000</td>\n",
       "      <td>운영체제 : 미포함(FreeDos)|CPU : N3350|칩셋 제조사 : 인텔|코어...</td>\n",
       "    </tr>\n",
       "    <tr>\n",
       "      <th>13</th>\n",
       "      <td>삼성전자 갤럭시북 S NT767XCL-KLTE</td>\n",
       "      <td>929000</td>\n",
       "      <td>화면크기 : 33.7cm(13.3인치)|무게 : 0.95kg|종류 : 코어i5 10...</td>\n",
       "    </tr>\n",
       "    <tr>\n",
       "      <th>14</th>\n",
       "      <td>삼성전자 NT750XDA-KF59U</td>\n",
       "      <td>1030680</td>\n",
       "      <td>화면크기 : 39.62cm(15.6인치)|무게 : 1.55kg|종류 : 코어i5 1...</td>\n",
       "    </tr>\n",
       "    <tr>\n",
       "      <th>15</th>\n",
       "      <td>HP Victus 16-e0107AX</td>\n",
       "      <td>1098880</td>\n",
       "      <td>화면크기 : 40.6cm(16인치)|무게 : 2.46kg|종류 : 라이젠5-4세대|...</td>\n",
       "    </tr>\n",
       "    <tr>\n",
       "      <th>16</th>\n",
       "      <td>한성컴퓨터 TFX3412N</td>\n",
       "      <td>499000</td>\n",
       "      <td>화면크기 : 33.78cm(13.3인치)|무게 : 1.3kg|종류 : 셀러론|운영체...</td>\n",
       "    </tr>\n",
       "    <tr>\n",
       "      <th>17</th>\n",
       "      <td>HP ENVY x360 15-ed1502TU</td>\n",
       "      <td>1763020</td>\n",
       "      <td>종류 : 코어i7 11세대|운영체제 : 윈도우10|CPU : 코어i7-1165G7|...</td>\n",
       "    </tr>\n",
       "    <tr>\n",
       "      <th>18</th>\n",
       "      <td>레노버 아이디어패드 L3-15ITL PD</td>\n",
       "      <td>378060</td>\n",
       "      <td>화면크기 : 39.62cm(15.6인치)|무게 : 1.84kg|종류 : 펜티엄|운영...</td>\n",
       "    </tr>\n",
       "    <tr>\n",
       "      <th>19</th>\n",
       "      <td>삼성전자 갤럭시북 이온2 NT950XDZ-G58AW</td>\n",
       "      <td>1528990</td>\n",
       "      <td>화면크기 : 39.62cm(15.6인치)|무게 : 1.26|종류 : 코어i5 11세...</td>\n",
       "    </tr>\n",
       "    <tr>\n",
       "      <th>20</th>\n",
       "      <td>디클 클릭북 D14u</td>\n",
       "      <td>345790</td>\n",
       "      <td>무게 : 1.38kg|종류 : 셀러론|운영체제 : 윈도우10 홈|CPU : 셀러론-...</td>\n",
       "    </tr>\n",
       "    <tr>\n",
       "      <th>21</th>\n",
       "      <td>HP 파빌리온 14-dy0014TU</td>\n",
       "      <td>1219000</td>\n",
       "      <td>화면크기 : 35.56cm(14인치)|무게 : 1.61kg|종류 : 코어i7 11세...</td>\n",
       "    </tr>\n",
       "    <tr>\n",
       "      <th>22</th>\n",
       "      <td>디클 클릭북 D14</td>\n",
       "      <td>298960</td>\n",
       "      <td>화면크기 : 35.81cm(14.1인치)|무게 : 1.3kg|종류 : 셀러론|운영체...</td>\n",
       "    </tr>\n",
       "    <tr>\n",
       "      <th>23</th>\n",
       "      <td>ASUS 노트북 4K 에이수스 젠북 프로15 UX535LI 고사양 그래픽작업 전문가 터치</td>\n",
       "      <td>1749000</td>\n",
       "      <td>화면크기 : 39.62cm(15.6인치)|종류 : 코어i7 10세대|운영체제 : 윈...</td>\n",
       "    </tr>\n",
       "    <tr>\n",
       "      <th>24</th>\n",
       "      <td>레노버 V14-ARE RYZEN5 82DQ003AKR</td>\n",
       "      <td>469000</td>\n",
       "      <td>무게 : 1.46kg|종류 : 라이젠5-3세대|운영체제 : 미포함(FreeDos)|...</td>\n",
       "    </tr>\n",
       "    <tr>\n",
       "      <th>25</th>\n",
       "      <td>한성컴퓨터 TFX5470UC</td>\n",
       "      <td>729000</td>\n",
       "      <td>무게 : 1.6kg|종류 : 라이젠7-3세대|운영체제 : 미포함(FreeDos)|C...</td>\n",
       "    </tr>\n",
       "    <tr>\n",
       "      <th>26</th>\n",
       "      <td>한성컴퓨터 TFX5550UC</td>\n",
       "      <td>779000</td>\n",
       "      <td>화면크기 : 39.62cm(15.6인치)|무게 : 1.6kg|종류 : 라이젠5-4세...</td>\n",
       "    </tr>\n",
       "    <tr>\n",
       "      <th>27</th>\n",
       "      <td>레노버 Slim3 14ALC R5</td>\n",
       "      <td>538990</td>\n",
       "      <td>무게 : 1.41kg|종류 : 라이젠5-4세대|운영체제 : 미포함(FreeDos)|...</td>\n",
       "    </tr>\n",
       "    <tr>\n",
       "      <th>28</th>\n",
       "      <td>삼성전자 삼성 NT350XCR-AD5AS</td>\n",
       "      <td>698990</td>\n",
       "      <td>화면크기 : 39.62cm(15.6인치)|무게 : 1.81|종류 : 코어i5 10세...</td>\n",
       "    </tr>\n",
       "    <tr>\n",
       "      <th>29</th>\n",
       "      <td>HP 노트북 직장인 주식 온라인 수업 업무용 학생 인강용 싼 가성비 노트북 큰 화면</td>\n",
       "      <td>499000</td>\n",
       "      <td>화면크기 : 39.62cm(15.6인치)|CPU : 라이젠3-5300U|코어종류 :...</td>\n",
       "    </tr>\n",
       "    <tr>\n",
       "      <th>30</th>\n",
       "      <td>한성컴퓨터 TFX4150H</td>\n",
       "      <td>999000</td>\n",
       "      <td>무게 : 1kg|종류 : 코어i5 11세대|운영체제 : 미포함(FreeDos)|CP...</td>\n",
       "    </tr>\n",
       "    <tr>\n",
       "      <th>31</th>\n",
       "      <td>디클 클릭북 D15 4GB Win10</td>\n",
       "      <td>308990</td>\n",
       "      <td>무게 : 1.82kg|종류 : 셀러론|운영체제 : 윈도우10 홈|CPU : 셀러론-...</td>\n",
       "    </tr>\n",
       "    <tr>\n",
       "      <th>32</th>\n",
       "      <td>한성컴퓨터 TFX3150U Pro</td>\n",
       "      <td>778000</td>\n",
       "      <td>화면크기 : 33.78cm(13.3인치)|무게 : 1.3kg|종류 : 코어i5 11...</td>\n",
       "    </tr>\n",
       "    <tr>\n",
       "      <th>33</th>\n",
       "      <td>삼성전자 NT750XDA-KH29I</td>\n",
       "      <td>879150</td>\n",
       "      <td>화면크기 : 39.62cm(15.6인치)|무게 : 1.55kg|종류 : 펜티엄 골드...</td>\n",
       "    </tr>\n",
       "    <tr>\n",
       "      <th>34</th>\n",
       "      <td>삼성전자 노트북9 METAL NT900X3J-KSF</td>\n",
       "      <td>989990</td>\n",
       "      <td>화면크기 : 33.78cm(13.3인치)|종류 : 코어i5 7세대|칩셋 제조사 : ...</td>\n",
       "    </tr>\n",
       "    <tr>\n",
       "      <th>35</th>\n",
       "      <td>HP 470 G8-4J8P5PC</td>\n",
       "      <td>1199000</td>\n",
       "      <td>화면크기 : 43.94cm(17.3인치)|무게 : 2.085kg|종류 : 코어i7 ...</td>\n",
       "    </tr>\n",
       "    <tr>\n",
       "      <th>36</th>\n",
       "      <td>디클 클릭북 프로 K50-710 프리도스</td>\n",
       "      <td>898990</td>\n",
       "      <td>무게 : 2.3kg|종류 : 코어i7 10세대|운영체제 : 미포함(FreeDos)|...</td>\n",
       "    </tr>\n",
       "    <tr>\n",
       "      <th>37</th>\n",
       "      <td>레노버 YOGA Slim7 Pro 14ACH R5</td>\n",
       "      <td>894860</td>\n",
       "      <td>화면크기 : 35.6cm(14인치)|무게 : 1.31kg|종류 : 라이젠5-4세대|...</td>\n",
       "    </tr>\n",
       "    <tr>\n",
       "      <th>38</th>\n",
       "      <td>삼성전자 갤럭시북 프로 NT930XDB-KC58S</td>\n",
       "      <td>1458990</td>\n",
       "      <td>무게 : 0.87kg|종류 : 코어i5 11세대|운영체제 : 윈도우10 홈|CPU ...</td>\n",
       "    </tr>\n",
       "    <tr>\n",
       "      <th>39</th>\n",
       "      <td>삼성전자 갤럭시북 이온2 NT950XDA-XC78W</td>\n",
       "      <td>1584990</td>\n",
       "      <td>무게 : 1.26kg|종류 : 코어i7 11세대|운영체제 : 윈도우10 홈|CPU ...</td>\n",
       "    </tr>\n",
       "    <tr>\n",
       "      <th>40</th>\n",
       "      <td>디클 클릭북 프로 K50-G10 윈도우10</td>\n",
       "      <td>560070</td>\n",
       "      <td>무게 : 2.3kg|종류 : 펜티엄 골드|운영체제 : 윈도우10|CPU : 펜티엄-...</td>\n",
       "    </tr>\n",
       "    <tr>\n",
       "      <th>41</th>\n",
       "      <td>한성컴퓨터 언더케이지 TFX4450H</td>\n",
       "      <td>679000</td>\n",
       "      <td>무게 : 1.1kg|종류 : 라이젠5-3세대|운영체제 : 미포함(FreeDos)|C...</td>\n",
       "    </tr>\n",
       "    <tr>\n",
       "      <th>42</th>\n",
       "      <td>HP 470 G8 46B33PA</td>\n",
       "      <td>667000</td>\n",
       "      <td>무게 : 2.085kg|종류 : 코어i3 11세대|운영체제 : 미포함(FreeDos...</td>\n",
       "    </tr>\n",
       "    <tr>\n",
       "      <th>44</th>\n",
       "      <td>LG전자 그램17 17ZD90P-GX7TK</td>\n",
       "      <td>1777990</td>\n",
       "      <td>화면크기 : 43.18cm(17인치)|무게 : 1.35kg|종류 : 코어i7 11세...</td>\n",
       "    </tr>\n",
       "    <tr>\n",
       "      <th>45</th>\n",
       "      <td>한성컴퓨터 TFX5135UW</td>\n",
       "      <td>1029000</td>\n",
       "      <td>무게 : 1.7kg|종류 : 코어i5 11세대|운영체제 : 윈도우10 홈|CPU :...</td>\n",
       "    </tr>\n",
       "    <tr>\n",
       "      <th>46</th>\n",
       "      <td>디클 클릭북 프로 K50-510 윈도우10</td>\n",
       "      <td>758130</td>\n",
       "      <td>무게 : 2.3kg|종류 : 코어i5 10세대|운영체제 : 윈도우10|CPU : 코...</td>\n",
       "    </tr>\n",
       "    <tr>\n",
       "      <th>47</th>\n",
       "      <td>HP 드래곤플라이맥스  4P7K3PA</td>\n",
       "      <td>1984290</td>\n",
       "      <td>화면크기 : 33.78cm(13.3인치)|무게 : 1.13kg|종류 : 코어i7 1...</td>\n",
       "    </tr>\n",
       "    <tr>\n",
       "      <th>48</th>\n",
       "      <td>LG전자 울트라PC 15U50N-GR56K</td>\n",
       "      <td>922670</td>\n",
       "      <td>화면크기 : 39.62cm(15.6인치)|무게 : 1.75|종류 : 코어i5 10세...</td>\n",
       "    </tr>\n",
       "    <tr>\n",
       "      <th>49</th>\n",
       "      <td>게이밍노트북렌탈 코어 i7-7700HQ B타입 단기임대 게임용노트북 대여 3일</td>\n",
       "      <td>66000</td>\n",
       "      <td>CPU : i7-7700HQ(카비레이크)|코어종류 : 쿼드코어|램 : 8GB|해상도...</td>\n",
       "    </tr>\n",
       "  </tbody>\n",
       "</table>\n",
       "</div>"
      ],
      "text/plain": [
       "                                                  상품명       가격  \\\n",
       "0                              포유디지탈 아이뮤즈 스톰북 윈도우10포함   206000   \n",
       "1                                      한성컴퓨터 TFX7130H  1049000   \n",
       "2                                      주연테크 캐리북e J3GW   359000   \n",
       "3                              LG전자 LG그램 17Z95P-GA76K  2329000   \n",
       "4                             LG전자 그램360 16T90P-GAF6K  1989000   \n",
       "5                                        주연테크 아이언 J6F   659000   \n",
       "6                                       주연테크 젠 L8CS36  1648990   \n",
       "7                                           주연테크 J6LF   748990   \n",
       "8     Apple 맥북 에어 2020년형 M1 256G 스페이스 그레이 (MGN63KH/A)  1123347   \n",
       "9                        삼성전자 갤럭시북 이온2 NT950XDZ-A58AW  1326730   \n",
       "10                               HP Victus 16-e0104AX  1629000   \n",
       "11                                    HP 15s-fq2013TU   699000   \n",
       "12                                포유디지탈 아이뮤즈 스톰북 프리도스   219000   \n",
       "13                          삼성전자 갤럭시북 S NT767XCL-KLTE   929000   \n",
       "14                                삼성전자 NT750XDA-KF59U  1030680   \n",
       "15                               HP Victus 16-e0107AX  1098880   \n",
       "16                                     한성컴퓨터 TFX3412N   499000   \n",
       "17                           HP ENVY x360 15-ed1502TU  1763020   \n",
       "18                             레노버 아이디어패드 L3-15ITL PD   378060   \n",
       "19                       삼성전자 갤럭시북 이온2 NT950XDZ-G58AW  1528990   \n",
       "20                                        디클 클릭북 D14u   345790   \n",
       "21                                HP 파빌리온 14-dy0014TU  1219000   \n",
       "22                                         디클 클릭북 D14   298960   \n",
       "23  ASUS 노트북 4K 에이수스 젠북 프로15 UX535LI 고사양 그래픽작업 전문가 터치  1749000   \n",
       "24                      레노버 V14-ARE RYZEN5 82DQ003AKR   469000   \n",
       "25                                    한성컴퓨터 TFX5470UC   729000   \n",
       "26                                    한성컴퓨터 TFX5550UC   779000   \n",
       "27                                 레노버 Slim3 14ALC R5   538990   \n",
       "28                             삼성전자 삼성 NT350XCR-AD5AS   698990   \n",
       "29     HP 노트북 직장인 주식 온라인 수업 업무용 학생 인강용 싼 가성비 노트북 큰 화면   499000   \n",
       "30                                     한성컴퓨터 TFX4150H   999000   \n",
       "31                               디클 클릭북 D15 4GB Win10   308990   \n",
       "32                                 한성컴퓨터 TFX3150U Pro   778000   \n",
       "33                                삼성전자 NT750XDA-KH29I   879150   \n",
       "34                       삼성전자 노트북9 METAL NT900X3J-KSF   989990   \n",
       "35                                  HP 470 G8-4J8P5PC  1199000   \n",
       "36                             디클 클릭북 프로 K50-710 프리도스   898990   \n",
       "37                        레노버 YOGA Slim7 Pro 14ACH R5   894860   \n",
       "38                        삼성전자 갤럭시북 프로 NT930XDB-KC58S  1458990   \n",
       "39                       삼성전자 갤럭시북 이온2 NT950XDA-XC78W  1584990   \n",
       "40                            디클 클릭북 프로 K50-G10 윈도우10   560070   \n",
       "41                               한성컴퓨터 언더케이지 TFX4450H   679000   \n",
       "42                                  HP 470 G8 46B33PA   667000   \n",
       "44                            LG전자 그램17 17ZD90P-GX7TK  1777990   \n",
       "45                                    한성컴퓨터 TFX5135UW  1029000   \n",
       "46                            디클 클릭북 프로 K50-510 윈도우10   758130   \n",
       "47                               HP 드래곤플라이맥스  4P7K3PA  1984290   \n",
       "48                            LG전자 울트라PC 15U50N-GR56K   922670   \n",
       "49        게이밍노트북렌탈 코어 i7-7700HQ B타입 단기임대 게임용노트북 대여 3일    66000   \n",
       "\n",
       "                                                   스펙  \n",
       "0   화면크기 : 35.81cm(14.1인치)|무게 : 1.3kg|종류 : 셀러론|운영체...  \n",
       "1   화면크기 : 43.94cm(17.3인치)|무게 : 2kg|종류 : 코어i5 11세대...  \n",
       "2   화면크기 : 35.56cm(14인치)|무게 : 1.45kg|종류 : 셀러론|운영체제...  \n",
       "3   화면크기 : 43.1cm(17인치)|무게 : 1.35kg|종류 : 코어i7 11세대...  \n",
       "4   화면크기 : 40.6cm(16인치)|무게 : 1.48kg|종류 : 코어i5 11세대...  \n",
       "5   화면크기 : 39.62cm(15.6인치)|무게 : 1.5kg|종류 : 라이젠5-3세...  \n",
       "6   화면크기 : 43.94cm(17.3인치)|무게 : 2.5kg|종류 : 라이젠7-4세...  \n",
       "7   화면크기 : 39.62cm(15.6인치)|무게 : 1.59kg|종류 : 라이젠5-4...  \n",
       "8   화면크기 : 33.78cm(13.3인치)|무게 : 1.29kg|운영체제 : macO...  \n",
       "9   화면크기 : 39.62cm(15.6인치)|무게 : 1.19kg|종류 : 코어i5 1...  \n",
       "10  화면크기 : 40.6cm(16인치)|무게 : 2.46kg|종류 : 라이젠7-4세대|...  \n",
       "11  화면크기 : 39.62cm(15.6인치)|무게 : 1.69kg|종류 : 코어i5 1...  \n",
       "12  운영체제 : 미포함(FreeDos)|CPU : N3350|칩셋 제조사 : 인텔|코어...  \n",
       "13  화면크기 : 33.7cm(13.3인치)|무게 : 0.95kg|종류 : 코어i5 10...  \n",
       "14  화면크기 : 39.62cm(15.6인치)|무게 : 1.55kg|종류 : 코어i5 1...  \n",
       "15  화면크기 : 40.6cm(16인치)|무게 : 2.46kg|종류 : 라이젠5-4세대|...  \n",
       "16  화면크기 : 33.78cm(13.3인치)|무게 : 1.3kg|종류 : 셀러론|운영체...  \n",
       "17  종류 : 코어i7 11세대|운영체제 : 윈도우10|CPU : 코어i7-1165G7|...  \n",
       "18  화면크기 : 39.62cm(15.6인치)|무게 : 1.84kg|종류 : 펜티엄|운영...  \n",
       "19  화면크기 : 39.62cm(15.6인치)|무게 : 1.26|종류 : 코어i5 11세...  \n",
       "20  무게 : 1.38kg|종류 : 셀러론|운영체제 : 윈도우10 홈|CPU : 셀러론-...  \n",
       "21  화면크기 : 35.56cm(14인치)|무게 : 1.61kg|종류 : 코어i7 11세...  \n",
       "22  화면크기 : 35.81cm(14.1인치)|무게 : 1.3kg|종류 : 셀러론|운영체...  \n",
       "23  화면크기 : 39.62cm(15.6인치)|종류 : 코어i7 10세대|운영체제 : 윈...  \n",
       "24  무게 : 1.46kg|종류 : 라이젠5-3세대|운영체제 : 미포함(FreeDos)|...  \n",
       "25  무게 : 1.6kg|종류 : 라이젠7-3세대|운영체제 : 미포함(FreeDos)|C...  \n",
       "26  화면크기 : 39.62cm(15.6인치)|무게 : 1.6kg|종류 : 라이젠5-4세...  \n",
       "27  무게 : 1.41kg|종류 : 라이젠5-4세대|운영체제 : 미포함(FreeDos)|...  \n",
       "28  화면크기 : 39.62cm(15.6인치)|무게 : 1.81|종류 : 코어i5 10세...  \n",
       "29  화면크기 : 39.62cm(15.6인치)|CPU : 라이젠3-5300U|코어종류 :...  \n",
       "30  무게 : 1kg|종류 : 코어i5 11세대|운영체제 : 미포함(FreeDos)|CP...  \n",
       "31  무게 : 1.82kg|종류 : 셀러론|운영체제 : 윈도우10 홈|CPU : 셀러론-...  \n",
       "32  화면크기 : 33.78cm(13.3인치)|무게 : 1.3kg|종류 : 코어i5 11...  \n",
       "33  화면크기 : 39.62cm(15.6인치)|무게 : 1.55kg|종류 : 펜티엄 골드...  \n",
       "34  화면크기 : 33.78cm(13.3인치)|종류 : 코어i5 7세대|칩셋 제조사 : ...  \n",
       "35  화면크기 : 43.94cm(17.3인치)|무게 : 2.085kg|종류 : 코어i7 ...  \n",
       "36  무게 : 2.3kg|종류 : 코어i7 10세대|운영체제 : 미포함(FreeDos)|...  \n",
       "37  화면크기 : 35.6cm(14인치)|무게 : 1.31kg|종류 : 라이젠5-4세대|...  \n",
       "38  무게 : 0.87kg|종류 : 코어i5 11세대|운영체제 : 윈도우10 홈|CPU ...  \n",
       "39  무게 : 1.26kg|종류 : 코어i7 11세대|운영체제 : 윈도우10 홈|CPU ...  \n",
       "40  무게 : 2.3kg|종류 : 펜티엄 골드|운영체제 : 윈도우10|CPU : 펜티엄-...  \n",
       "41  무게 : 1.1kg|종류 : 라이젠5-3세대|운영체제 : 미포함(FreeDos)|C...  \n",
       "42  무게 : 2.085kg|종류 : 코어i3 11세대|운영체제 : 미포함(FreeDos...  \n",
       "44  화면크기 : 43.18cm(17인치)|무게 : 1.35kg|종류 : 코어i7 11세...  \n",
       "45  무게 : 1.7kg|종류 : 코어i5 11세대|운영체제 : 윈도우10 홈|CPU :...  \n",
       "46  무게 : 2.3kg|종류 : 코어i5 10세대|운영체제 : 윈도우10|CPU : 코...  \n",
       "47  화면크기 : 33.78cm(13.3인치)|무게 : 1.13kg|종류 : 코어i7 1...  \n",
       "48  화면크기 : 39.62cm(15.6인치)|무게 : 1.75|종류 : 코어i5 10세...  \n",
       "49  CPU : i7-7700HQ(카비레이크)|코어종류 : 쿼드코어|램 : 8GB|해상도...  "
      ]
     },
     "execution_count": 226,
     "metadata": {},
     "output_type": "execute_result"
    }
   ],
   "source": [
    "data = pd.read_excel('C:/Users/yj/Desktop/notebooks.xlsx')\n",
    "data.columns = (['상품명','가격','스펙'])\n",
    "data.dropna(inplace = True) # nan값을 가진 행이 있으면 행을 삭제함\n",
    "data"
   ]
  },
  {
   "cell_type": "code",
   "execution_count": 227,
   "metadata": {},
   "outputs": [],
   "source": [
    "## 회사명과 상품명을 분리한다\n",
    "\n",
    "company_list = []\n",
    "notebook_list = []\n",
    "for i in data['상품명']:\n",
    "    company_list.append(i.split(' ')[0])\n",
    "    notebook_list.append(i.split(' ',1)[1]) # 첫 번째 공백만 분리"
   ]
  },
  {
   "cell_type": "code",
   "execution_count": 228,
   "metadata": {},
   "outputs": [
    {
     "name": "stdout",
     "output_type": "stream",
     "text": [
      "무게 : 1.3kg 화면크기 : 35.81cm(14.1인치) 램 : 4GB\n"
     ]
    }
   ],
   "source": [
    "# 스펙 분리\n",
    "spec_list = data['스펙'][0].split('|')\n",
    "\n",
    "## 무게, 화면크기, 램만 추출해서 비교한다. 노트북을 선택할 때 중요한 요소 중 3가지라고 생각했다.\n",
    "\n",
    "for i in spec_list:\n",
    "    if '무게' in i:\n",
    "        weight = i\n",
    "    elif '화면크기 :' in i:\n",
    "        ssize = i\n",
    "    elif '램 ' in i:\n",
    "        ram = i\n",
    "\n",
    "print(weight, ssize, ram)"
   ]
  },
  {
   "cell_type": "markdown",
   "metadata": {},
   "source": [
    "이제 저장된 모든 노트북에 대한 스펙을 추출해보자"
   ]
  },
  {
   "cell_type": "code",
   "execution_count": 229,
   "metadata": {},
   "outputs": [
    {
     "data": {
      "text/plain": [
       "0    화면크기 : 35.81cm(14.1인치)|무게 : 1.3kg|종류 : 셀러론|운영체...\n",
       "1    화면크기 : 43.94cm(17.3인치)|무게 : 2kg|종류 : 코어i5 11세대...\n",
       "2    화면크기 : 35.56cm(14인치)|무게 : 1.45kg|종류 : 셀러론|운영체제...\n",
       "3    화면크기 : 43.1cm(17인치)|무게 : 1.35kg|종류 : 코어i7 11세대...\n",
       "4    화면크기 : 40.6cm(16인치)|무게 : 1.48kg|종류 : 코어i5 11세대...\n",
       "Name: 스펙, dtype: object"
      ]
     },
     "execution_count": 229,
     "metadata": {},
     "output_type": "execute_result"
    }
   ],
   "source": [
    "data['스펙'].head()"
   ]
  },
  {
   "cell_type": "code",
   "execution_count": 230,
   "metadata": {},
   "outputs": [],
   "source": [
    "spec_list = data['스펙'][0].split('|')"
   ]
  },
  {
   "cell_type": "code",
   "execution_count": 232,
   "metadata": {},
   "outputs": [],
   "source": [
    "weight_list = []\n",
    "ssize_list = []\n",
    "ram_list = []\n",
    "\n",
    "for spec_data in data['스펙']:\n",
    "    spec_list = spec_data.split('|')\n",
    "    \n",
    "    # 정량적 데이터만 추출    \n",
    "    for i in spec_list:\n",
    "        if '무게' in i:\n",
    "            weight = i\n",
    "            weight = weight.split(':')[1].split('kg')[0].strip()\n",
    "        if '화면크기 :' in i:\n",
    "            ssize = i\n",
    "            ssize = ssize.split(':')[1].split('cm')[0].strip()\n",
    "        if '램 ' in i:\n",
    "            ram = i\n",
    "            ram = ram.split(':')[1].split('G')[0].strip()\n",
    "\n",
    "    weight_list.append(weight)\n",
    "    ssize_list.append(ssize)\n",
    "    ram_list.append(ram)"
   ]
  },
  {
   "cell_type": "markdown",
   "metadata": {},
   "source": []
  },
  {
   "cell_type": "markdown",
   "metadata": {},
   "source": [
    "이제 단위통일을 한다. 무게는 gram으로 계산하고, 화면 크기는 현재 cm인 것을 inch로 변경한다."
   ]
  },
  {
   "cell_type": "code",
   "execution_count": null,
   "metadata": {},
   "outputs": [],
   "source": [
    "for i in weight_list:\n",
    "    if '.' in i:\n",
    "        if int(i.split('.')[1]) < 10:\n",
    "            g = int(i.split('.')[1]) * 100\n",
    "            k = int(i.split('.')[0]) * 1000\n",
    "        else:\n",
    "            g = int(i.split('.')[1]) * 10\n",
    "            k = int(i.split('.')[0]) * 1000\n",
    "    else:\n",
    "        k = int(i) * 1000\n",
    "        g = 0\n",
    "    print(g+k)"
   ]
  },
  {
   "cell_type": "markdown",
   "metadata": {},
   "source": [
    "무게를 gram 단위로 변경했다. 1kg=1000gram로 계산해서 모든 조건을 만족한다."
   ]
  },
  {
   "cell_type": "code",
   "execution_count": 270,
   "metadata": {},
   "outputs": [],
   "source": [
    "# 함수 생성\n",
    "def trans_weight(weight):\n",
    "    if '.' in weight:\n",
    "        if int(weight.split('.')[1]) < 10:\n",
    "            g = int(weight.split('.')[1]) * 100\n",
    "            k = int(weight.split('.')[0]) * 1000\n",
    "        else:\n",
    "            g = int(weight.split('.')[1]) * 10\n",
    "            k = int(weight.split('.')[0]) * 1000\n",
    "    else:\n",
    "        k = int(weight) * 1000\n",
    "        g = 0\n",
    "    \n",
    "    return g+k"
   ]
  },
  {
   "cell_type": "code",
   "execution_count": 274,
   "metadata": {},
   "outputs": [
    {
     "name": "stdout",
     "output_type": "stream",
     "text": [
      "1300\n",
      "2000\n",
      "1450\n",
      "1350\n",
      "1480\n",
      "1500\n",
      "2500\n",
      "1590\n",
      "1290\n",
      "1190\n",
      "2460\n",
      "1690\n",
      "1690\n",
      "950\n",
      "1550\n",
      "2460\n",
      "1300\n",
      "1300\n",
      "1840\n",
      "1260\n",
      "1380\n",
      "1610\n",
      "1300\n",
      "1300\n",
      "1460\n",
      "1600\n",
      "1600\n",
      "1410\n",
      "1810\n",
      "1810\n",
      "1000\n",
      "1820\n",
      "1300\n",
      "1550\n",
      "1550\n",
      "2850\n",
      "2300\n",
      "1310\n",
      "870\n",
      "1260\n",
      "2300\n",
      "1100\n",
      "2850\n",
      "1350\n",
      "1700\n",
      "2300\n",
      "1130\n",
      "1750\n",
      "1750\n"
     ]
    }
   ],
   "source": [
    "# 무게 리스트\n",
    "for i in weight_list:\n",
    "    print(trans_weight(i))"
   ]
  },
  {
   "cell_type": "markdown",
   "metadata": {},
   "source": [
    "마찬가지로 cm도 inch로 변경한다. 1 cm = 0.393701 inch."
   ]
  },
  {
   "cell_type": "code",
   "execution_count": 321,
   "metadata": {},
   "outputs": [
    {
     "name": "stdout",
     "output_type": "stream",
     "text": [
      "['35.81', '43.94', '35.56', '43.1', '40.6', '39.62', '43.94', '39.62', '33.78', '39.62', '40.6', '39.62', '39.62', '33.7', '39.62', '40.6', '33.78', '33.78', '39.62', '39.62', '39.62', '35.56', '35.81', '39.62', '39.62', '39.62', '39.62', '39.62', '39.62', '39.62', '39.62', '39.62', '33.78', '39.62', '33.78', '43.94', '43.94', '35.6', '35.6', '35.6', '35.6', '35.6', '35.6', '43.18', '43.18', '43.18', '33.78', '39.62', '39.62']\n"
     ]
    }
   ],
   "source": [
    "print(ssize_list)"
   ]
  },
  {
   "cell_type": "code",
   "execution_count": 322,
   "metadata": {},
   "outputs": [],
   "source": [
    "def trans_ssize(size):\n",
    "    for size in ssize_list:\n",
    "        if '.' in size:\n",
    "            cm = size.split('.')[0]\n",
    "            mm = size.split('.')[1]\n",
    "        else:\n",
    "            cm = size\n",
    "            mm = 0\n",
    "        return round((int(cm)+int(mm)/100)*0.393701,2)"
   ]
  },
  {
   "cell_type": "code",
   "execution_count": 324,
   "metadata": {},
   "outputs": [
    {
     "name": "stdout",
     "output_type": "stream",
     "text": [
      "35.81\n",
      "43.94\n",
      "35.56\n",
      "43.1\n",
      "40.6\n",
      "39.62\n",
      "43.94\n",
      "39.62\n",
      "33.78\n",
      "39.62\n",
      "40.6\n",
      "39.62\n",
      "39.62\n",
      "33.7\n",
      "39.62\n",
      "40.6\n",
      "33.78\n",
      "33.78\n",
      "39.62\n",
      "39.62\n",
      "39.62\n",
      "35.56\n",
      "35.81\n",
      "39.62\n",
      "39.62\n",
      "39.62\n",
      "39.62\n",
      "39.62\n",
      "39.62\n",
      "39.62\n",
      "39.62\n",
      "39.62\n",
      "33.78\n",
      "39.62\n",
      "33.78\n",
      "43.94\n",
      "43.94\n",
      "35.6\n",
      "35.6\n",
      "35.6\n",
      "35.6\n",
      "35.6\n",
      "35.6\n",
      "43.18\n",
      "43.18\n",
      "43.18\n",
      "33.78\n",
      "39.62\n",
      "39.62\n"
     ]
    }
   ],
   "source": [
    "for i in ssize_list:\n",
    "    print(i)"
   ]
  },
  {
   "cell_type": "code",
   "execution_count": 315,
   "metadata": {},
   "outputs": [
    {
     "name": "stdout",
     "output_type": "stream",
     "text": [
      "43.94\n",
      "43.94 43 0.94\n"
     ]
    }
   ],
   "source": [
    "size = ssize_list[1]\n",
    "print(size)\n",
    "if '.' in size:\n",
    "    cm = size.split('.')[0]\n",
    "    mm = size.split('.')[1]\n",
    "else:\n",
    "    cm = size\n",
    "    mm = 0\n",
    "print(size, int(cm), int(mm)/100)"
   ]
  },
  {
   "cell_type": "code",
   "execution_count": 320,
   "metadata": {},
   "outputs": [
    {
     "name": "stdout",
     "output_type": "stream",
     "text": [
      "15.6\n"
     ]
    }
   ],
   "source": [
    "print(trans_ssize(41.94))"
   ]
  },
  {
   "cell_type": "code",
   "execution_count": 295,
   "metadata": {},
   "outputs": [
    {
     "name": "stdout",
     "output_type": "stream",
     "text": [
      "49 ['1.3', '2', '1.45', '1.35', '1.48']\n",
      "49 ['35.81', '43.94', '35.56', '43.1', '40.6']\n",
      "49 ['4', '16', '4', '16', '16']\n"
     ]
    }
   ],
   "source": [
    "print(len(weight_list), weight_list[0:5])\n",
    "print(len(ssize_list), ssize_list[0:5])\n",
    "print(len(ram_list), ram_list[0:5])"
   ]
  },
  {
   "cell_type": "code",
   "execution_count": null,
   "metadata": {},
   "outputs": [],
   "source": []
  }
 ],
 "metadata": {
  "interpreter": {
   "hash": "b3ba2566441a7c06988d0923437866b63cedc61552a5af99d1f4fb67d367b25f"
  },
  "kernelspec": {
   "display_name": "Python 3.9.7 64-bit ('base': conda)",
   "language": "python",
   "name": "python3"
  },
  "language_info": {
   "codemirror_mode": {
    "name": "ipython",
    "version": 3
   },
   "file_extension": ".py",
   "mimetype": "text/x-python",
   "name": "python",
   "nbconvert_exporter": "python",
   "pygments_lexer": "ipython3",
   "version": "3.9.7"
  },
  "orig_nbformat": 4
 },
 "nbformat": 4,
 "nbformat_minor": 2
}
