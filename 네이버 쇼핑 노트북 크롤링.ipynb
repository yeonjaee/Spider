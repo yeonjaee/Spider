{
 "cells": [
  {
   "cell_type": "markdown",
   "metadata": {},
   "source": [
    "### 네이버 쇼핑 페이지에서 [전체]-[네이버 랭킹순] 정렬만을 적용한 후 데이터를 수집한다.\n",
    "---"
   ]
  },
  {
   "cell_type": "markdown",
   "metadata": {},
   "source": [
    "selenium, webdriver 임포트 및 해당 페이지 주소 가져오기"
   ]
  },
  {
   "cell_type": "code",
   "execution_count": null,
   "metadata": {},
   "outputs": [],
   "source": [
    "from selenium import webdriver\n",
    "driver = webdriver.Chrome('C:/Users/yj/Desktop/datasalon/chromedriver.exe')\n",
    "url = 'https://search.shopping.naver.com/search/all?query=%EB%85%B8%ED%8A%B8%EB%B6%81&bt=-1&frm=NVSCDIG'\n",
    "driver.get(url)"
   ]
  },
  {
   "cell_type": "code",
   "execution_count": 5,
   "metadata": {},
   "outputs": [],
   "source": [
    "from bs4 import BeautifulSoup\n",
    "\n",
    "html = driver.page_source\n",
    "soup = BeautifulSoup(html, 'html.parser')"
   ]
  },
  {
   "cell_type": "markdown",
   "metadata": {},
   "source": [
    "#### 해당 페이지는 반응형 웹(Responsive Web)으로 구현되어 있어, 스크롤을 내리면 어느 수준까지 창이 늘어나고 정보가 추가된다. 따라서 모든 정보를 노출시킨 다음에 진행했다."
   ]
  },
  {
   "cell_type": "code",
   "execution_count": 6,
   "metadata": {},
   "outputs": [
    {
     "data": {
      "text/plain": [
       "46"
      ]
     },
     "execution_count": 6,
     "metadata": {},
     "output_type": "execute_result"
    }
   ],
   "source": [
    "notebooks = soup.select('li.basicList_item__2XT81 > div.basicList_inner__eY_mq > div.basicList_info_area__17Xyo')\n",
    "len(notebooks)"
   ]
  },
  {
   "cell_type": "code",
   "execution_count": 7,
   "metadata": {},
   "outputs": [
    {
     "name": "stdout",
     "output_type": "stream",
     "text": [
      "삼성전자 갤럭시북 프로 NT950XDY-A51A\n"
     ]
    }
   ],
   "source": [
    "name = soup.select('div.basicList_title__3P9Q7> a')[0].text.strip()\n",
    "print(name)"
   ]
  },
  {
   "cell_type": "code",
   "execution_count": 8,
   "metadata": {},
   "outputs": [
    {
     "data": {
      "text/plain": [
       "'1349000'"
      ]
     },
     "execution_count": 8,
     "metadata": {},
     "output_type": "execute_result"
    }
   ],
   "source": [
    "price = soup.select('strong.basicList_price__2r23_ > span > span.price_num__2WUXn')[0].text.strip()\n",
    "## 최저~원으로 뜨는거 정확하게 ~ 부분만 추출\n",
    "price.split('원')[0].replace(',','')"
   ]
  },
  {
   "cell_type": "code",
   "execution_count": 9,
   "metadata": {},
   "outputs": [
    {
     "data": {
      "text/plain": [
       "'화면크기 : 39.62cm(15.6인치)|무게 : 1.05kg|종류 : 코어i5 11세대|운영체제 : 리눅스|CPU : 코어i5-1135G7|칩셋 제조사 : 인텔|코어종류 : 쿼드코어|코드명 : 타이거레이크|CPU속도 : 2.4GHz|터보부스트 : 4.2GHz|램 : 16GB|메모리 타입 : LPDDR4x|인텔 GPU : Iris Xe Graphics|그래픽 메모리 : 시스템 메모리 공유|해상도 : 1920x1080(FHD)|패널 : AMOLED패널|무선랜 : 802.11 ax(Wi-Fi6)|블루투스 : 블루투스5.1|영상출력 : HDMI, 썬더볼트4|단자 : USB Type C|카드 슬롯 : MicroSD카드|부가기능 : 키보드라이트, 웹캠, 고속충전, MIL-STD|SSD : 256GB|SSD 인터페이스 : NVMe|배터리용량 : 68Wh|사용시간 : 최대20시간|웹카메라 : 전면|스피커 : AKG스테레오스피커|사운드 : 돌비Atoms오디오|품목 : 노트북|두께 : 1.17cm|입력장치 : 숫자키패드|보안기능 : 지문인식, TPM'"
      ]
     },
     "execution_count": 9,
     "metadata": {},
     "output_type": "execute_result"
    }
   ],
   "source": [
    "spec = soup.select('div.basicList_detail_box__3ta3h')[0].text.strip()\n",
    "spec"
   ]
  },
  {
   "cell_type": "code",
   "execution_count": null,
   "metadata": {},
   "outputs": [],
   "source": [
    "notebook_list = []\n",
    "\n",
    "for i in notebooks:\n",
    "    try:\n",
    "        ## 상품명 가져오기\n",
    "        name = i.select('div.basicList_title__3P9Q7> a')[0].text.strip()\n",
    "        ## 가격\n",
    "        price = i.select('strong.basicList_price__2r23_ > span > span.price_num__2WUXn')[0].text.strip().split('원')[0].replace(',','')\n",
    "        ## 스펙\n",
    "        spec = i.select('div.basicList_detail_box__3ta3h')[0].text.strip()\n",
    "        ## append\n",
    "        notebook_list.append([name,price,spec])\n",
    "    except:\n",
    "        pass\n",
    "\n",
    "print(len(notebook_list))\n",
    "notebook_list"
   ]
  },
  {
   "cell_type": "code",
   "execution_count": 11,
   "metadata": {},
   "outputs": [],
   "source": [
    "## 위 코드 함수\n",
    "\n",
    "def get_notebooks(ntb):\n",
    "    notebook_list = []\n",
    "\n",
    "    for i in notebooks:\n",
    "        try:\n",
    "            ## 상품명 가져오기\n",
    "            name = i.select('div.basicList_title__3P9Q7> a')[0].text.strip()\n",
    "            ## 가격\n",
    "            price = i.select('strong.basicList_price__2r23_ > span > span.price_num__2WUXn')[0].text.strip().split('원')[0].replace(',','')\n",
    "            ## 스펙\n",
    "            spec = i.select('div.basicList_detail_box__3ta3h')[0].text.strip()\n",
    "            ## append\n",
    "            notebook_list.append([name,price,spec])\n",
    "        except:\n",
    "            pass\n",
    "    return notebook_list"
   ]
  },
  {
   "cell_type": "code",
   "execution_count": 12,
   "metadata": {},
   "outputs": [
    {
     "data": {
      "text/plain": [
       "46"
      ]
     },
     "execution_count": 12,
     "metadata": {},
     "output_type": "execute_result"
    }
   ],
   "source": [
    "# 함수 정상 작동\n",
    "ntb = soup.select('li.basicList_item__2XT81 > div.basicList_inner__eY_mq > div.basicList_info_area__17Xyo')\n",
    "len(get_notebooks(ntb))"
   ]
  },
  {
   "cell_type": "markdown",
   "metadata": {},
   "source": [
    "#### 노트북 검색 결과 페이지 url 주소를 살펴본다\n",
    "\n",
    "1페이지\n",
    "https://search.shopping.naver.com/search/all?frm=NVSCDIG&origQuery=%EB%85%B8%ED%8A%B8%EB%B6%81&pagingIndex=1&pagingSize=40&productSet=total&query=%EB%85%B8%ED%8A%B8%EB%B6%81&sort=rel&timestamp=&viewType=list\n",
    "\n",
    "2페이지\n",
    "https://search.shopping.naver.com/search/all?frm=NVSCDIG&origQuery=%EB%85%B8%ED%8A%B8%EB%B6%81&pagingIndex=2&pagingSize=40&productSet=total&query=%EB%85%B8%ED%8A%B8%EB%B6%81&sort=rel&timestamp=&viewType=list\n",
    "\n",
    "3페이지\n",
    "https://search.shopping.naver.com/search/all?frm=NVSCDIG&origQuery=%EB%85%B8%ED%8A%B8%EB%B6%81&pagingIndex=2&pagingSize=40&productSet=total&query=%EB%85%B8%ED%8A%B8%EB%B6%81&sort=rel&timestamp=&viewType=list\n",
    "\n",
    "다른 검색어 검색(강아지사료)\n",
    "https://search.shopping.naver.com/search/all?frm=NVSHATC&origQuery=%EA%B0%95%EC%95%84%EC%A7%80%EC%82%AC%EB%A3%8C&pagingIndex=1&pagingSize=40&productSet=total&query=%EA%B0%95%EC%95%84%EC%A7%80%EC%82%AC%EB%A3%8C&sort=rel&timestamp=&viewType=list\n",
    "\n",
    "**주소를 비교해보면 origiQuery, pagingIndex, query 부분이 달라지는 것을 볼 수 있다. 다른 검색어를 검색해도 마찬가지이다. `fra=` 프레임 스타일도 다른 검색어 주소와 다르지만 프레임 스타일은 변경해도 주소를 불러오는데 문제가 없었다.**"
   ]
  },
  {
   "cell_type": "code",
   "execution_count": 13,
   "metadata": {},
   "outputs": [
    {
     "name": "stdout",
     "output_type": "stream",
     "text": [
      "https://search.shopping.naver.com/search/all?frm=NVSCDIG&origQuery=강아지사료&pagingIndex=1&pagingSize=40&productSet=total&query=강아지사료&sort=rel&timestamp=&viewType=list\n"
     ]
    }
   ],
   "source": [
    "## 키워드와 페이지 번호를 입력하여 url 주소를 가져오는 함수를 만든다.\n",
    "\n",
    "def get_search_page_url(keyword,page):\n",
    "    return 'https://search.shopping.naver.com/search/all?frm=NVSCDIG&origQuery={}&pagingIndex={}&pagingSize=40&productSet=total&query={}&sort=rel&timestamp=&viewType=list'.format(keyword,page,keyword)\n",
    "\n",
    "url = get_search_page_url('강아지사료',1)\n",
    "print(url)\n"
   ]
  },
  {
   "cell_type": "code",
   "execution_count": 14,
   "metadata": {},
   "outputs": [
    {
     "name": "stderr",
     "output_type": "stream",
     "text": [
      "C:\\Users\\yj\\AppData\\Local\\Temp/ipykernel_6168/3402917339.py:4: TqdmDeprecationWarning: This function will be removed in tqdm==5.0.0\n",
      "Please use `tqdm.notebook.tqdm` instead of `tqdm.tqdm_notebook`\n",
      "  for page in tqdm_notebook(range(1,total_page+1)):\n"
     ]
    },
    {
     "data": {
      "application/vnd.jupyter.widget-view+json": {
       "model_id": "c8b100ce1db74ae1b0a18f97d1d27a8a",
       "version_major": 2,
       "version_minor": 0
      },
      "text/plain": [
       "  0%|          | 0/3 [00:00<?, ?it/s]"
      ]
     },
     "metadata": {},
     "output_type": "display_data"
    }
   ],
   "source": [
    "import time\n",
    "from tqdm import tqdm_notebook\n",
    "total_page = 3\n",
    "for page in tqdm_notebook(range(1,total_page+1)):\n",
    "    time.sleep(3)\n"
   ]
  },
  {
   "cell_type": "code",
   "execution_count": 18,
   "metadata": {},
   "outputs": [
    {
     "name": "stderr",
     "output_type": "stream",
     "text": [
      "C:\\Users\\yj\\AppData\\Local\\Temp/ipykernel_6168/2564208047.py:8: TqdmDeprecationWarning: This function will be removed in tqdm==5.0.0\n",
      "Please use `tqdm.notebook.tqdm` instead of `tqdm.tqdm_notebook`\n",
      "  for page in tqdm_notebook(range(1,total_page+1)):\n"
     ]
    },
    {
     "data": {
      "application/vnd.jupyter.widget-view+json": {
       "model_id": "41e5f2d2a3a04af9ba72b1c7b2c31a6b",
       "version_major": 2,
       "version_minor": 0
      },
      "text/plain": [
       "  0%|          | 0/3 [00:00<?, ?it/s]"
      ]
     },
     "metadata": {},
     "output_type": "display_data"
    }
   ],
   "source": [
    "### 여러 페이지 데이터 수집\n",
    "\n",
    "keyword = '노트북'\n",
    "total_page = 3\n",
    "notebooks_totaldata = []\n",
    "\n",
    "# 진행 정도를 표현하는 tqdm을 적용\n",
    "for page in tqdm_notebook(range(1,total_page+1)):\n",
    "    # 1. 검색 페이지 이동\n",
    "    url = get_search_page_url('노트북',page)\n",
    "    driver.get(url)\n",
    "\n",
    "    # 2. 페이지가 로딩 완료되기 위한 시간으로 10초를 할당\n",
    "    time.sleep(10)\n",
    "\n",
    "    # 3. 현재 페이지의 html 정보 가져오기\n",
    "    html = driver.page_source\n",
    "    soup = BeautifulSoup(html, 'html.parser')\n",
    "\n",
    "    # 4. 상품 정보 추출\n",
    "    notebooks = soup.select('li.basicList_item__2XT81 > div.basicList_inner__eY_mq > div.basicList_info_area__17Xyo')\n",
    "    notebook_list = get_notebooks(notebooks)\n",
    "\n",
    "    ## 5. 추출 데이터 저장\n",
    "    notebooks_totaldata = notebooks_totaldata + notebook_list"
   ]
  },
  {
   "cell_type": "code",
   "execution_count": null,
   "metadata": {},
   "outputs": [],
   "source": [
    "## 엑셀파일로 저장\n",
    "import pandas as pd\n",
    "data = pd.DataFrame(notebooks_totaldata)\n",
    "data.to_excel('C:/Users/yj/Desktop/notebooks.xlsx', index = False)\n",
    "data.columns = (['상품명','가격','스펙'])"
   ]
  },
  {
   "cell_type": "markdown",
   "metadata": {},
   "source": [
    "---\n",
    "---\n",
    "---"
   ]
  },
  {
   "cell_type": "code",
   "execution_count": null,
   "metadata": {},
   "outputs": [],
   "source": [
    "data = pd.read_excel('C:/Users/yj/Desktop/notebooks.xlsx')\n",
    "data.columns = (['상품명','가격','스펙'])"
   ]
  },
  {
   "cell_type": "code",
   "execution_count": 58,
   "metadata": {},
   "outputs": [],
   "source": [
    "## 회사명과 상품명을 분리한다\n",
    "company_list = []\n",
    "notebook_list = []\n",
    "for i in data['상품명']:\n",
    "    company_list.append(i.split(' ')[0])\n",
    "    notebook_list.append(i.split(' ',1)[1]) # 첫 번째 공백만 분리"
   ]
  },
  {
   "cell_type": "code",
   "execution_count": 59,
   "metadata": {},
   "outputs": [
    {
     "name": "stdout",
     "output_type": "stream",
     "text": [
      "무게 : 1.05kg 화면크기 : 39.62cm(15.6인치) 램 : 16GB\n"
     ]
    }
   ],
   "source": [
    "### 테스트\n",
    "## 무게, 화면크기, 램만 추출해서 비교한다. 노트북을 선택할 때 중요한 요소 중 3가지라고 생각했다.\n",
    "# 스펙을 종류별로 분리하여 리스트 생성\n",
    "spec_list = data['스펙'][0].split('|')\n",
    "\n",
    "for i in spec_list:\n",
    "    if '무게' in i:\n",
    "        weight = i\n",
    "    elif '화면크기 :' in i:\n",
    "        size = i\n",
    "    elif '램 ' in i:\n",
    "        ram = i\n",
    "\n",
    "print(weight, size, ram)"
   ]
  },
  {
   "cell_type": "code",
   "execution_count": 153,
   "metadata": {},
   "outputs": [],
   "source": [
    "weight_list = []\n",
    "size_list = []\n",
    "ram_list = []\n",
    "\n",
    "for spec_data in data['스펙']:\n",
    "    spec_list = spec_data.split('|')\n",
    "    \n",
    "    # 정량적 데이터만 추출    \n",
    "    for i in spec_list:\n",
    "        if '무게' in i:\n",
    "            weight = i\n",
    "            weight = weight.split(':')[1].split('kg')[0].strip()\n",
    "        if '화면크기 :' in i:\n",
    "            size = i\n",
    "            size = size.split(':')[1].split('cm')[0].strip()\n",
    "        if '램 ' in i:\n",
    "            ram = i\n",
    "            ram = ram.split(':')[1].split('G')[0].strip()\n",
    "\n",
    "    weight_list.append(weight)\n",
    "    size_list.append(size)\n",
    "    ram_list.append(ram)"
   ]
  },
  {
   "cell_type": "code",
   "execution_count": 154,
   "metadata": {},
   "outputs": [
    {
     "name": "stdout",
     "output_type": "stream",
     "text": [
      "['1.05', '1.35', '1.81', '1.35', '1.39', '1.35', '1.05', '1.48', '1.81', '1.39', '1.28', '1.81', '1.15', '1.81', '1.55', '1.19', '1.85', '0.87', '2.2', '1.55', '1.12', '1.65', '1.29', '1.39', '1.3', '1.55', '1.81', '1.04', '1.8', '1.81', '1.3', '1.5', '2.2', '1.53', '1.59', '2.12', '2.5', '1.47', '1.14', '2.4']\n",
      "['39.62', '43.1', '39.62', '43.1', '35.56', '43.1', '39.62', '40.6', '39.62', '39.62', '33.02', '39.62', '39.62', '39.62', '39.62', '40.6', '39.62', '33.78', '43.94', '39.62', '39.62', '39.62', '33.78', '39.62', '35.81', '39.62', '39.62', '33.78', '39.62', '39.62', '33.78', '39.62', '39.62', '39.62', '39.62', '39.62', '43.94', '35.56', '35.56', '39.62']\n",
      "['16', '16', '8', '16', '8', '16', '16', '16', '4', '16', '8', '4', '16', '8', '16', '8', '8', '16', '16', '16', '16', '8', '8', '16', '4', '16', '8', '16', '8', '4', '8', '16', '16', '8', '16', '8', '16', '8', '16', '8']\n"
     ]
    }
   ],
   "source": [
    "print(weight_list)\n",
    "print(size_list)\n",
    "print(ram_list)"
   ]
  },
  {
   "cell_type": "markdown",
   "metadata": {},
   "source": [
    "**이제 단위통일을 한다. 무게는 gram으로 계산하고, 화면 크기는 현재 cm인 것을 inch로 변경한다.**"
   ]
  },
  {
   "cell_type": "code",
   "execution_count": 155,
   "metadata": {},
   "outputs": [
    {
     "name": "stdout",
     "output_type": "stream",
     "text": [
      "1050 1350 1810 1350 1390 1350 1050 1480 1810 1390 1280 1810 1150 1810 1550 1190 1850 870 2200 1550 1120 1650 1290 1390 1300 1550 1810 1040 1800 1810 1300 1500 2200 1530 1590 2120 2500 1470 1140 2400 "
     ]
    }
   ],
   "source": [
    "# i.split('.')[0] = 대부분 kg을 뜻함\n",
    "# i.split('.')[1] = 대부분 gram을 뜻함\n",
    "\n",
    "for i in weight_list:\n",
    "    if '.' in i:\n",
    "        if int(i.split('.')[1]) < 10:\n",
    "            k = int(i.split('.')[0]) * 1000\n",
    "            if i.split('.')[1][0] == '0':       # int형으로 비교를 하니 '1.05'같은 변수가 '1.5'로 인식이 된다. 때문에 이러한 조건식을 추가했다.\n",
    "                g = int(i.split('.')[1]) *10\n",
    "            else:\n",
    "                g = int(i.split('.')[1]) * 100\n",
    "        else:\n",
    "            k = int(i.split('.')[0]) * 1000\n",
    "            g = int(i.split('.')[1]) * 10\n",
    "            \n",
    "    else:\n",
    "        k = int(i) * 1000\n",
    "        g = 0\n",
    "    print(g+k, end= ' ')"
   ]
  },
  {
   "cell_type": "markdown",
   "metadata": {},
   "source": [
    "**무게를 gram 단위로 변경했다. 1kg=1000gram로 계산해서 모든 조건을 만족한다.**"
   ]
  },
  {
   "cell_type": "code",
   "execution_count": 156,
   "metadata": {},
   "outputs": [],
   "source": [
    "# 함수 생성\n",
    "def trans_weight(weight):\n",
    "    if '.' in weight:\n",
    "        if int(weight.split('.')[1]) < 10:\n",
    "            k = int(weight.split('.')[0]) * 1000\n",
    "            if weight.split('.')[1][0] == '0':\n",
    "                g = int(weight.split('.')[1]) * 10\n",
    "            else:\n",
    "                g = int(weight.split('.')[1]) * 100\n",
    "        else:\n",
    "            g = int(weight.split('.')[1]) * 10\n",
    "            k = int(weight.split('.')[0]) * 1000\n",
    "    else:\n",
    "        k = int(weight) * 1000\n",
    "        g = 0\n",
    "    \n",
    "    return g+k"
   ]
  },
  {
   "cell_type": "code",
   "execution_count": 157,
   "metadata": {},
   "outputs": [
    {
     "name": "stdout",
     "output_type": "stream",
     "text": [
      "1050 1350 1810 1350 1390 1350 1050 1480 1810 1390 1280 1810 1150 1810 1550 1190 1850 870 2200 1550 1120 1650 1290 1390 1300 1550 1810 1040 1800 1810 1300 1500 2200 1530 1590 2120 2500 1470 1140 2400 "
     ]
    }
   ],
   "source": [
    "# 무게 리스트\n",
    "for i in weight_list:\n",
    "    print(trans_weight(i), end = ' ')"
   ]
  },
  {
   "cell_type": "code",
   "execution_count": 182,
   "metadata": {},
   "outputs": [
    {
     "name": "stdout",
     "output_type": "stream",
     "text": [
      "[1050, 1350, 1810, 1350, 1390, 1350, 1050, 1480, 1810, 1390, 1280, 1810, 1150, 1810, 1550, 1190, 1850, 870, 2200, 1550, 1120, 1650, 1290, 1390, 1300, 1550, 1810, 1040, 1800, 1810, 1300, 1500, 2200, 1530, 1590, 2120, 2500, 1470, 1140, 2400] "
     ]
    }
   ],
   "source": [
    "# 변환한 무게 데이터 값을 새로운 리스트에 할당한다.\n",
    "new_weight_list =  []\n",
    "for i in weight_list:\n",
    "    value1 = trans_weight(i)\n",
    "    new_weight_list.append(value1)\n",
    "\n",
    "print(new_weight_list, end=' ')"
   ]
  },
  {
   "cell_type": "markdown",
   "metadata": {},
   "source": [
    "**마찬가지로 cm도 inch로 변경한다. 1 cm = 0.393701 inch.**"
   ]
  },
  {
   "cell_type": "code",
   "execution_count": 178,
   "metadata": {},
   "outputs": [
    {
     "name": "stdout",
     "output_type": "stream",
     "text": [
      "15.6 16.9 15.6 16.9 14.0 16.9 15.6 15.8 15.6 15.6 13.0 15.6 15.6 15.6 15.6 15.8 15.6 13.3 17.3 15.6 15.6 15.6 13.3 15.6 14.1 15.6 15.6 13.3 15.6 15.6 13.3 15.6 15.6 15.6 15.6 15.6 17.3 14.0 14.0 15.6 "
     ]
    }
   ],
   "source": [
    "for i in size_list:\n",
    "    if '.' in size:\n",
    "        cm = int(i.split('.')[0])\n",
    "        mm = int(i.split('.')[1]) / 100\n",
    "    else:\n",
    "        cm = int(i)\n",
    "        mm = 0\n",
    "\n",
    "    print(round((cm+mm)*0.393701,1), end = ' ')"
   ]
  },
  {
   "cell_type": "code",
   "execution_count": 179,
   "metadata": {},
   "outputs": [],
   "source": [
    "# 함수 생성\n",
    "\n",
    "def trans_size(size):\n",
    "    if '.' in size:\n",
    "        cm = int(size.split('.')[0])\n",
    "        mm = int(size.split('.')[1]) / 100\n",
    "    else:\n",
    "        cm = int(size)\n",
    "        mm = 0\n",
    "    \n",
    "    return round((cm+mm)*0.393701,1)"
   ]
  },
  {
   "cell_type": "code",
   "execution_count": 183,
   "metadata": {},
   "outputs": [
    {
     "name": "stdout",
     "output_type": "stream",
     "text": [
      "[15.6, 16.9, 15.6, 16.9, 14.0, 16.9, 15.6, 15.8, 15.6, 15.6, 13.0, 15.6, 15.6, 15.6, 15.6, 15.8, 15.6, 13.3, 17.3, 15.6, 15.6, 15.6, 13.3, 15.6, 14.1, 15.6, 15.6, 13.3, 15.6, 15.6, 13.3, 15.6, 15.6, 15.6, 15.6, 15.6, 17.3, 14.0, 14.0, 15.6] "
     ]
    }
   ],
   "source": [
    "# 새로운 리스트에 할당\n",
    "new_size_list = []\n",
    "for i in size_list:\n",
    "    value2 = trans_size(i)\n",
    "    new_size_list.append(value2)\n",
    "\n",
    "print(new_size_list, end=' ')"
   ]
  },
  {
   "cell_type": "markdown",
   "metadata": {},
   "source": [
    "**ram_list의 값도 정수형으로 변경하자**"
   ]
  },
  {
   "cell_type": "code",
   "execution_count": 135,
   "metadata": {},
   "outputs": [
    {
     "name": "stdout",
     "output_type": "stream",
     "text": [
      "['16', '16', '8', '16', '8', '16', '16', '16', '4', '16', '8', '4', '16', '8', '16', '8', '8', '16', '16', '16', '16', '8', '8', '16', '4', '16', '8', '16', '8', '4', '8', '16', '16', '8', '16', '8', '16', '8', '16', '8']"
     ]
    }
   ],
   "source": [
    "print(ram_list, end ='')"
   ]
  },
  {
   "cell_type": "code",
   "execution_count": 184,
   "metadata": {},
   "outputs": [],
   "source": [
    "def trans_ram(ram):\n",
    "    return int(ram)"
   ]
  },
  {
   "cell_type": "code",
   "execution_count": 185,
   "metadata": {},
   "outputs": [
    {
     "name": "stdout",
     "output_type": "stream",
     "text": [
      "[16, 16, 8, 16, 8, 16, 16, 16, 4, 16, 8, 4, 16, 8, 16, 8, 8, 16, 16, 16, 16, 8, 8, 16, 4, 16, 8, 16, 8, 4, 8, 16, 16, 8, 16, 8, 16, 8, 16, 8] "
     ]
    }
   ],
   "source": [
    "new_ram_list = []\n",
    "for i in ram_list:\n",
    "    value3 = trans_ram(i)\n",
    "    new_ram_list.append(value3)\n",
    "\n",
    "print(new_ram_list, end = ' ')"
   ]
  },
  {
   "cell_type": "markdown",
   "metadata": {},
   "source": [
    "**전처리 결과를 엑셀로 저장**"
   ]
  },
  {
   "cell_type": "code",
   "execution_count": 189,
   "metadata": {},
   "outputs": [],
   "source": [
    "pd_data = pd.DataFrame()\n",
    "pd_data['회사명'] = company_list\n",
    "pd_data['상품명'] = notebook_list\n",
    "pd_data['가격'] = data['가격']\n",
    "pd_data['무게'] = new_weight_list\n",
    "pd_data['화면크기'] = new_size_list\n",
    "pd_data['램'] = new_ram_list\n",
    "\n",
    "pd_data.to_excel('C:/Users/yj/Desktop/naver_shopping_notebook.xlsx',index = False)"
   ]
  }
 ],
 "metadata": {
  "interpreter": {
   "hash": "b3ba2566441a7c06988d0923437866b63cedc61552a5af99d1f4fb67d367b25f"
  },
  "kernelspec": {
   "display_name": "Python 3.9.7 64-bit ('base': conda)",
   "language": "python",
   "name": "python3"
  },
  "language_info": {
   "codemirror_mode": {
    "name": "ipython",
    "version": 3
   },
   "file_extension": ".py",
   "mimetype": "text/x-python",
   "name": "python",
   "nbconvert_exporter": "python",
   "pygments_lexer": "ipython3",
   "version": "3.9.7"
  },
  "orig_nbformat": 4
 },
 "nbformat": 4,
 "nbformat_minor": 2
}
